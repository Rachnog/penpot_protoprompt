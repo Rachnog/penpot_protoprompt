{
 "cells": [
  {
   "cell_type": "code",
   "execution_count": 1,
   "metadata": {},
   "outputs": [],
   "source": [
    "import openai\n",
    "import yaml\n",
    "import wandb\n",
    "import sys, os\n",
    "import tiktoken\n",
    "\n",
    "from IPython.display import Image\n",
    "\n",
    "sys.path.append(os.path.abspath(os.path.join(os.getcwd(), os.pardir)))\n",
    "\n",
    "from src.utils import *\n",
    "from src.svg_quality_checks import *\n",
    "from src.gpt_wrappers import *\n",
    "\n",
    "# load yaml config\n",
    "with open(\"../config.yml\", \"r\") as f:\n",
    "    config = yaml.safe_load(f)\n",
    "\n",
    "openai.api_key = config[\"OPENAI_KEY\"]\n",
    "os.environ[\"OPENAI_API_KEY\"] = config[\"OPENAI_KEY\"]"
   ]
  },
  {
   "cell_type": "code",
   "execution_count": 2,
   "metadata": {},
   "outputs": [],
   "source": [
    "from langchain.chat_models import ChatOpenAI\n",
    "from langchain import OpenAI, ConversationChain, LLMChain\n",
    "\n",
    "from langchain.chains import ConversationChain\n",
    "from langchain.chat_models import ChatOpenAI\n",
    "from langchain.memory import ConversationBufferMemory\n",
    "\n",
    "from langchain.schema import (\n",
    "    AIMessage,\n",
    "    HumanMessage,\n",
    "    SystemMessage\n",
    ")\n",
    "from langchain.prompts.chat import (\n",
    "    ChatPromptTemplate,\n",
    "    SystemMessagePromptTemplate,\n",
    "    HumanMessagePromptTemplate,\n",
    "    MessagesPlaceholder\n",
    ")\n",
    "\n",
    "encoder = tiktoken.encoding_for_model(\"gpt-3.5-turbo\")"
   ]
  },
  {
   "attachments": {},
   "cell_type": "markdown",
   "metadata": {},
   "source": [
    "## Langchain - chain with HTML / React"
   ]
  },
  {
   "cell_type": "code",
   "execution_count": 3,
   "metadata": {},
   "outputs": [
    {
     "name": "stdout",
     "output_type": "stream",
     "text": [
      "\n",
      "segmented_buttons_short_optimized.svg:\n",
      "Done in 90 ms!\n",
      "13.162 KiB - 70.3% = 3.909 KiB\n"
     ]
    }
   ],
   "source": [
    "from langchain.prompts import PromptTemplate\n",
    "from langchain.chains import SimpleSequentialChain\n",
    "\n",
    "FILENAME_INPUT = \"segmented_buttons_short\"\n",
    "input_svg = load_raw_svg_optimize_clean_save_png(FILENAME_INPUT)\n",
    "\n",
    "human_message_prompt = HumanMessagePromptTemplate(\n",
    "        prompt=PromptTemplate(\n",
    "            template=\"\"\"This is an SVG with app bottom bar buttons:\n",
    "                        {input_svg}\n",
    "                        Turn it into React app with:\n",
    "                        - same bottom bar buttons but all buttons have green color and text has red color.\n",
    "                        Keep it as simple, short, optimized and clean as possible.\n",
    "                        Start with import React ... and end with export...\"\"\",\n",
    "            input_variables=[\"input_svg\"],\n",
    "        )\n",
    "    )\n",
    "chat_prompt_template = ChatPromptTemplate.from_messages([human_message_prompt])\n",
    "\n",
    "second_prompt = PromptTemplate(\n",
    "    input_variables=[\"input_react\"],\n",
    "    template=\"\"\"This is an React app with  bottom bar buttons, all buttons have green color and text has red color:\n",
    "                {input_react}\n",
    "                Generate a complete valid XML with SVG from it.\n",
    "                Add width and height in the <svg> tag.\n",
    "                Keep it as short, optimized and clean as possible.\n",
    "                Start with <svg ... and end with </svg>\n",
    "            \"\"\"\n",
    ")"
   ]
  },
  {
   "cell_type": "code",
   "execution_count": 4,
   "metadata": {},
   "outputs": [
    {
     "name": "stdout",
     "output_type": "stream",
     "text": [
      "\n",
      "\n",
      "\u001b[1m> Entering new SimpleSequentialChain chain...\u001b[0m\n",
      "\u001b[36;1m\u001b[1;3m\n",
      "\n",
      "import React from \"react\";\n",
      "import { StyleSheet, Text, View, Dimensions } from \"react-native\";\n",
      "\n",
      "const svgWidth = 228;\n",
      "const svgHeight = 48;\n",
      "const strokeColor = \"#79747e\";\n",
      "\n",
      "const AppBottomNav = () => {\n",
      "  return (\n",
      "    <View style={styles.container}>\n",
      "      <View style={styles.frame}>\n",
      "        <View style={[styles.frameBackground, styles.button]}>\n",
      "          <Text style={styles.text}>Enabled</Text>\n",
      "        </View>\n",
      "        <View style={[styles.frameBackground, styles.button]}>\n",
      "          <Text style={styles.text}>Enabled</Text>\n",
      "        </View>\n",
      "      </View>\n",
      "    </View>\n",
      "  );\n",
      "};\n",
      "\n",
      "const styles = StyleSheet.create({\n",
      "  container: {\n",
      "    position: \"absolute\",\n",
      "    left: 0,\n",
      "    bottom: 0,\n",
      "    flexDirection: \"row\",\n",
      "    alignItems: \"flex-end\",\n",
      "  },\n",
      "  frame: {\n",
      "    width: svgWidth,\n",
      "    height: svgHeight,\n",
      "    flexDirection: \"row\",\n",
      "    alignItems: \"center\",\n",
      "    alignContent: \"center\",\n",
      "    borderWidth: 2,\n",
      "    borderColor: strokeColor,\n",
      "  },\n",
      "  frameBackground: {\n",
      "    width: (svgWidth - 8) / 2,\n",
      "    height: (svgHeight - 8) / 2,\n",
      "    borderRadius: 0,\n",
      "    backgroundColor: \"#2ecc71\",\n",
      "  },\n",
      "  button: {\n",
      "    marginLeft: 4,\n",
      "  },\n",
      "  text: {\n",
      "    textAlign: \"center\",\n",
      "    fontSize: 14,\n",
      "    fontFamily: \"Roboto\",\n",
      "    fontStyle: \"normal\",\n",
      "    fontWeight: \"500\",\n",
      "    color: \"#bf0404\",\n",
      "    textTransform: \"none\",\n",
      "    letterSpacing: \".01px\",\n",
      "    textDecoration: \"none solid #1c1b1f\",\n",
      "  },\n",
      "});\n",
      "\n",
      "export default AppBottomNav;\u001b[0m\n",
      "\u001b[33;1m\u001b[1;3m\n",
      "\n",
      "<svg width=\"228\" height=\"48\">\n",
      "  <rect width=\"228\" height=\"48\" stroke-width=\"2\" fill=\"white\" stroke=\"79747e\"/>\n",
      "  <rect x=\"4\" y=\"4\" width=\"110\" height=\"40\" rx=\"0\" fill=\"#2ecc71\"/>\n",
      "  <text x=\"55\" y=\"26\" font-family=\"Roboto\" font-style=\"normal\" font-weight=\"500\" font-size=\"14\" fill=\"#bf0404\" text-anchor=\"middle\" alignment-baseline=\"middle\">Enabled</text>\n",
      "  <rect x=\"124\" y=\"4\" width=\"110\" height=\"40\" rx=\"0\" fill=\"#2ecc71\"/>\n",
      "  <text x=\"174\" y=\"26\" font-family=\"Roboto\" font-style=\"normal\" font-weight=\"500\" font-size=\"14\" fill=\"#bf0404\" text-anchor=\"middle\" alignment-baseline=\"middle\">Enabled</text>\n",
      "</svg>\u001b[0m\n",
      "\n",
      "\u001b[1m> Finished chain.\u001b[0m\n"
     ]
    }
   ],
   "source": [
    "llm = OpenAI(temperature=0.9, max_tokens=-1, model_name='text-davinci-003', request_timeout=120)\n",
    "\n",
    "chain = LLMChain(llm=llm, prompt=chat_prompt_template)\n",
    "chain_two = LLMChain(llm=llm, prompt=second_prompt)\n",
    "\n",
    "overall_chain = SimpleSequentialChain(chains=[chain, chain_two], verbose=True)\n",
    "final_anwer = overall_chain.run(input_svg)"
   ]
  },
  {
   "cell_type": "code",
   "execution_count": 5,
   "metadata": {},
   "outputs": [
    {
     "name": "stdout",
     "output_type": "stream",
     "text": [
      "Quality check: True (228.0, 48.0)\n"
     ]
    },
    {
     "name": "stderr",
     "output_type": "stream",
     "text": [
      "Can't handle color: 79747e\n"
     ]
    },
    {
     "name": "stdout",
     "output_type": "stream",
     "text": [
      "\n",
      "test_optimized.svg:\n",
      "Done in 20 ms!\n",
      "0.594 KiB - 10.7% = 0.53 KiB\n"
     ]
    },
    {
     "data": {
      "image/png": "[encoded data removed]",
      "text/plain": [
       "<IPython.core.display.Image object>"
      ]
     },
     "execution_count": 5,
     "metadata": {
      "image/png": {
       "height": 300,
       "width": 400
      }
     },
     "output_type": "execute_result"
    }
   ],
   "source": [
    "print(\"Quality check:\", validate_svg(final_anwer), get_svg_size(final_anwer))\n",
    "save_gpt_answer_as_svg_and_png(final_anwer, 'test')\n",
    "Image(filename=f'../generated_data/test_optimized.png', width=400, height=300)"
   ]
  },
  {
   "cell_type": "code",
   "execution_count": 6,
   "metadata": {},
   "outputs": [
    {
     "name": "stdout",
     "output_type": "stream",
     "text": [
      "\n",
      "\n",
      "<svg width=\"228\" height=\"48\">\n",
      "  <rect width=\"228\" height=\"48\" stroke-width=\"2\" fill=\"white\" stroke=\"79747e\"/>\n",
      "  <rect x=\"4\" y=\"4\" width=\"110\" height=\"40\" rx=\"0\" fill=\"#2ecc71\"/>\n",
      "  <text x=\"55\" y=\"26\" font-family=\"Roboto\" font-style=\"normal\" font-weight=\"500\" font-size=\"14\" fill=\"#bf0404\" text-anchor=\"middle\" alignment-baseline=\"middle\">Enabled</text>\n",
      "  <rect x=\"124\" y=\"4\" width=\"110\" height=\"40\" rx=\"0\" fill=\"#2ecc71\"/>\n",
      "  <text x=\"174\" y=\"26\" font-family=\"Roboto\" font-style=\"normal\" font-weight=\"500\" font-size=\"14\" fill=\"#bf0404\" text-anchor=\"middle\" alignment-baseline=\"middle\">Enabled</text>\n",
      "</svg>\n"
     ]
    }
   ],
   "source": [
    "print(final_anwer)"
   ]
  }
 ],
 "metadata": {
  "kernelspec": {
   "display_name": "Python 3",
   "language": "python",
   "name": "python3"
  },
  "language_info": {
   "codemirror_mode": {
    "name": "ipython",
    "version": 3
   },
   "file_extension": ".py",
   "mimetype": "text/x-python",
   "name": "python",
   "nbconvert_exporter": "python",
   "pygments_lexer": "ipython3",
   "version": "3.9.6"
  },
  "orig_nbformat": 4
 },
 "nbformat": 4,
 "nbformat_minor": 2
}
