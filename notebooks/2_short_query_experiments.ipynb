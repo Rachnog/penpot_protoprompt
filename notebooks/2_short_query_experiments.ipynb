{
 "cells": [
  {
   "cell_type": "code",
   "execution_count": 38,
   "metadata": {},
   "outputs": [
    {
     "name": "stderr",
     "output_type": "stream",
     "text": [
      "Failed to detect the name of this notebook, you can set it manually with the WANDB_NOTEBOOK_NAME environment variable to enable code saving.\n",
      "\u001b[34m\u001b[1mwandb\u001b[0m: Currently logged in as: \u001b[33mrachnogstyle\u001b[0m. Use \u001b[1m`wandb login --relogin`\u001b[0m to force relogin\n"
     ]
    },
    {
     "data": {
      "text/html": [
       "wandb version 0.14.2 is available!  To upgrade, please run:\n",
       " $ pip install wandb --upgrade"
      ],
      "text/plain": [
       "<IPython.core.display.HTML object>"
      ]
     },
     "metadata": {},
     "output_type": "display_data"
    },
    {
     "data": {
      "text/html": [
       "Tracking run with wandb version 0.13.9"
      ],
      "text/plain": [
       "<IPython.core.display.HTML object>"
      ]
     },
     "metadata": {},
     "output_type": "display_data"
    },
    {
     "data": {
      "text/html": [
       "Run data is saved locally in <code>/Users/oleksandrhonchar/Documents/GitHub/penpot_protoprompt/notebooks/wandb/run-20230418_225053-ouscqg34</code>"
      ],
      "text/plain": [
       "<IPython.core.display.HTML object>"
      ]
     },
     "metadata": {},
     "output_type": "display_data"
    },
    {
     "data": {
      "text/html": [
       "Syncing run <strong><a href=\"https://wandb.ai/rachnogstyle/penpot_protoprompt/runs/ouscqg34\" target=\"_blank\">bright-bird-1</a></strong> to <a href=\"https://wandb.ai/rachnogstyle/penpot_protoprompt\" target=\"_blank\">Weights & Biases</a> (<a href=\"https://wandb.me/run\" target=\"_blank\">docs</a>)<br/>"
      ],
      "text/plain": [
       "<IPython.core.display.HTML object>"
      ]
     },
     "metadata": {},
     "output_type": "display_data"
    },
    {
     "data": {
      "text/html": [
       " View project at <a href=\"https://wandb.ai/rachnogstyle/penpot_protoprompt\" target=\"_blank\">https://wandb.ai/rachnogstyle/penpot_protoprompt</a>"
      ],
      "text/plain": [
       "<IPython.core.display.HTML object>"
      ]
     },
     "metadata": {},
     "output_type": "display_data"
    },
    {
     "data": {
      "text/html": [
       " View run at <a href=\"https://wandb.ai/rachnogstyle/penpot_protoprompt/runs/ouscqg34\" target=\"_blank\">https://wandb.ai/rachnogstyle/penpot_protoprompt/runs/ouscqg34</a>"
      ],
      "text/plain": [
       "<IPython.core.display.HTML object>"
      ]
     },
     "metadata": {},
     "output_type": "display_data"
    }
   ],
   "source": [
    "import openai\n",
    "import yaml\n",
    "import wandb\n",
    "import sys, os\n",
    "\n",
    "from IPython.display import Image\n",
    "\n",
    "sys.path.append(os.path.abspath(os.path.join(os.getcwd(), os.pardir)))\n",
    "\n",
    "from src.utils import *\n",
    "from src.svg_quality_checks import *\n",
    "from src.gpt_wrappers import *\n",
    "\n",
    "# load yaml config\n",
    "with open(\"../config.yml\", \"r\") as f:\n",
    "    config = yaml.safe_load(f)\n",
    "\n",
    "openai.api_key = config[\"OPENAI_KEY\"]\n",
    "\n",
    "run = wandb.init(\n",
    "    project=config['WANDB_PROJECT'], \n",
    "    entity=config['WANDB_ENTITY']\n",
    ")"
   ]
  },
  {
   "attachments": {},
   "cell_type": "markdown",
   "metadata": {},
   "source": [
    "# Zero-shot learning (no examples)"
   ]
  },
  {
   "cell_type": "code",
   "execution_count": 2,
   "metadata": {},
   "outputs": [],
   "source": [
    "system_prompt = \"\"\"\n",
    "    You are an expert in design in different fields, you use different vector graphics tools.\n",
    "    You deal professionally with SVG files, you know how to create complex design with them.\n",
    "    Your main jon is to complete design systems and tokens based on the initial inputs. \n",
    "    These initial inputs are SVG files that can consist of multiple layers, groups, paths, etc.\n",
    "    They can be different elements as icons, logos, buttons, checkboxes, etc.\n",
    "\"\"\""
   ]
  },
  {
   "attachments": {},
   "cell_type": "markdown",
   "metadata": {},
   "source": [
    "## Case 1: bottom app bar\n",
    "### Case 1.1 Add a \"+\" on the right side of the bottom app bar"
   ]
  },
  {
   "cell_type": "code",
   "execution_count": 3,
   "metadata": {},
   "outputs": [
    {
     "name": "stdout",
     "output_type": "stream",
     "text": [
      "\n",
      "bottom_app_bar_short_optimized.svg:\n",
      "Done in 63 ms!\n",
      "12.4 KiB - 60.7% = 4.877 KiB\n"
     ]
    },
    {
     "data": {
      "image/png": "[encoded data removed]",
      "text/plain": [
       "<IPython.core.display.Image object>"
      ]
     },
     "execution_count": 3,
     "metadata": {
      "image/png": {
       "height": 300,
       "width": 400
      }
     },
     "output_type": "execute_result"
    }
   ],
   "source": [
    "FILENAME = \"bottom_app_bar_short\"\n",
    "svg_original = load_raw_svg_optimize_clean_save_png(FILENAME)\n",
    "Image(filename=f'../data/pngs/{FILENAME}_optimized.png', width=400, height=300)"
   ]
  },
  {
   "cell_type": "code",
   "execution_count": 4,
   "metadata": {},
   "outputs": [],
   "source": [
    "question = f\"\"\"\n",
    "    This is XML for the SVG file with app bottom bar buttons: \\n\n",
    "\n",
    "    {svg_original}\n",
    "\n",
    "    Generate SVG where add a button on the right with a big '+' on it in a round shape.\n",
    "\n",
    "    Keep it as short and optimized as you can.\n",
    "\"\"\"\n",
    "\n",
    "chatgpt = VanillaChatGPTWrapper(system_prompt)\n",
    "answer = chatgpt.generate(question)"
   ]
  },
  {
   "cell_type": "code",
   "execution_count": 8,
   "metadata": {},
   "outputs": [
    {
     "name": "stdout",
     "output_type": "stream",
     "text": [
      "\n",
      "bottom_app_bar_short_optimized.svg:\n",
      "Done in 26 ms!\n",
      "1.327 KiB - 23.8% = 1.011 KiB\n"
     ]
    },
    {
     "data": {
      "image/png": "[encoded data removed]",
      "text/plain": [
       "<IPython.core.display.Image object>"
      ]
     },
     "execution_count": 8,
     "metadata": {
      "image/png": {
       "height": 300,
       "width": 400
      }
     },
     "output_type": "execute_result"
    }
   ],
   "source": [
    "save_gpt_answer_as_svg_and_png(answer, FILENAME)\n",
    "Image(filename=f'../generated_data/{FILENAME}_optimized.png', width=400, height=300)"
   ]
  },
  {
   "attachments": {},
   "cell_type": "markdown",
   "metadata": {},
   "source": [
    "## Case 2: filled button\n",
    "### Case 2.1: generate other buttons"
   ]
  },
  {
   "cell_type": "code",
   "execution_count": 9,
   "metadata": {},
   "outputs": [
    {
     "name": "stdout",
     "output_type": "stream",
     "text": [
      "\n",
      "common_buttons_short_optimized.svg:\n",
      "Done in 30 ms!\n",
      "3.814 KiB - 68.6% = 1.199 KiB\n"
     ]
    },
    {
     "data": {
      "image/png": "[encoded data removed]",
      "text/plain": [
       "<IPython.core.display.Image object>"
      ]
     },
     "execution_count": 9,
     "metadata": {
      "image/png": {
       "height": 300,
       "width": 400
      }
     },
     "output_type": "execute_result"
    }
   ],
   "source": [
    "FILENAME = \"common_buttons_short\"\n",
    "svg_original = load_raw_svg_optimize_clean_save_png(FILENAME)\n",
    "Image(filename=f'../data/pngs/{FILENAME}_optimized.png', width=400, height=300)"
   ]
  },
  {
   "cell_type": "code",
   "execution_count": 19,
   "metadata": {},
   "outputs": [],
   "source": [
    "question = f\"\"\"\n",
    "    This is XML for the SVG file with a single button filled with color: \\n\n",
    "\n",
    "    {svg_original}\n",
    "\n",
    "    Generate SVG with same button, but variants: filled, elevated and outlined.\n",
    "\n",
    "    Keep it as short and optimized as you can. \n",
    "    Place buttons one under another, adjust the SVG size accordingly.\n",
    "    Start with <svg ... and end with </svg>\n",
    "\"\"\"\n",
    "\n",
    "chatgpt = VanillaChatGPTWrapper(system_prompt)\n",
    "answer = chatgpt.generate(question)"
   ]
  },
  {
   "cell_type": "code",
   "execution_count": 21,
   "metadata": {},
   "outputs": [
    {
     "name": "stdout",
     "output_type": "stream",
     "text": [
      "\n",
      "common_buttons_short_optimized.svg:\n",
      "Done in 36 ms!\n",
      "5.039 KiB - 30.8% = 3.489 KiB\n"
     ]
    },
    {
     "data": {
      "image/png": "[encoded data removed]",
      "text/plain": [
       "<IPython.core.display.Image object>"
      ]
     },
     "execution_count": 21,
     "metadata": {
      "image/png": {
       "height": 300,
       "width": 400
      }
     },
     "output_type": "execute_result"
    }
   ],
   "source": [
    "save_gpt_answer_as_svg_and_png(answer, FILENAME)\n",
    "Image(filename=f'../generated_data/{FILENAME}_optimized.png', width=400, height=300)"
   ]
  },
  {
   "attachments": {},
   "cell_type": "markdown",
   "metadata": {},
   "source": [
    "## Case 3: segmented buttons\n",
    "### Case 3.1: make other buttons active one by one"
   ]
  },
  {
   "cell_type": "code",
   "execution_count": 22,
   "metadata": {},
   "outputs": [
    {
     "name": "stdout",
     "output_type": "stream",
     "text": [
      "\n",
      "segmented_buttons_short_optimized.svg:\n",
      "Done in 60 ms!\n",
      "13.162 KiB - 70.3% = 3.909 KiB\n"
     ]
    },
    {
     "data": {
      "image/png": "[encoded data removed]",
      "text/plain": [
       "<IPython.core.display.Image object>"
      ]
     },
     "execution_count": 22,
     "metadata": {
      "image/png": {
       "height": 300,
       "width": 400
      }
     },
     "output_type": "execute_result"
    }
   ],
   "source": [
    "FILENAME = \"segmented_buttons_short\"\n",
    "svg_original = load_raw_svg_optimize_clean_save_png(FILENAME)\n",
    "Image(filename=f'../data/pngs/{FILENAME}_optimized.png', width=400, height=300)"
   ]
  },
  {
   "cell_type": "code",
   "execution_count": 26,
   "metadata": {},
   "outputs": [],
   "source": [
    "question = f\"\"\"\n",
    "    This is XML for the SVG file with 3 empty segmented buttons panel: \\n\n",
    "\n",
    "    {svg_original}\n",
    "\n",
    "    Generate SVG with 1 new panel with middle button pressed and active.\n",
    "\n",
    "    Keep it as short and optimized as you can. \n",
    "    Start with <svg ... and end with </svg>\n",
    "\"\"\"\n",
    "\n",
    "chatgpt = VanillaChatGPTWrapper(system_prompt)\n",
    "answer = chatgpt.generate(question)"
   ]
  },
  {
   "cell_type": "code",
   "execution_count": 28,
   "metadata": {},
   "outputs": [
    {
     "name": "stdout",
     "output_type": "stream",
     "text": [
      "\n",
      "segmented_buttons_short_optimized.svg:\n",
      "Done in 44 ms!\n",
      "3.927 KiB - 0.8% = 3.896 KiB\n"
     ]
    },
    {
     "data": {
      "image/png": "[encoded data removed]",
      "text/plain": [
       "<IPython.core.display.Image object>"
      ]
     },
     "execution_count": 28,
     "metadata": {
      "image/png": {
       "height": 300,
       "width": 400
      }
     },
     "output_type": "execute_result"
    }
   ],
   "source": [
    "save_gpt_answer_as_svg_and_png(answer, FILENAME)\n",
    "Image(filename=f'../generated_data/{FILENAME}_optimized.png', width=400, height=300)"
   ]
  },
  {
   "attachments": {},
   "cell_type": "markdown",
   "metadata": {},
   "source": [
    "## Case 4: switches\n",
    "### Case 4.1 select elements + change the color palette"
   ]
  },
  {
   "cell_type": "code",
   "execution_count": 31,
   "metadata": {},
   "outputs": [
    {
     "name": "stdout",
     "output_type": "stream",
     "text": [
      "\n",
      "switch_full_optimized.svg:\n",
      "Done in 97 ms!\n",
      "22.691 KiB - 63.9% = 8.196 KiB\n"
     ]
    },
    {
     "data": {
      "image/png": "[encoded data removed]",
      "text/plain": [
       "<IPython.core.display.Image object>"
      ]
     },
     "execution_count": 31,
     "metadata": {
      "image/png": {
       "height": 300,
       "width": 400
      }
     },
     "output_type": "execute_result"
    }
   ],
   "source": [
    "FILENAME = \"switch_full\"\n",
    "svg_original = load_raw_svg_optimize_clean_save_png(FILENAME)\n",
    "Image(filename=f'../data/pngs/{FILENAME}_optimized.png', width=400, height=300)"
   ]
  },
  {
   "cell_type": "code",
   "execution_count": 35,
   "metadata": {},
   "outputs": [],
   "source": [
    "question = f\"\"\"\n",
    "    This is XML for the SVG file with switch elements: \\n\n",
    "\n",
    "    {svg_original}\n",
    "\n",
    "    Select only first two switches.\n",
    "    Generate a new SVG where you change the color palette to different shades of green only of those two switches.\n",
    "\n",
    "    Keep it as short and optimized as you can. \n",
    "    Start with <svg ... and end with </svg>\n",
    "\"\"\"\n",
    "\n",
    "chatgpt = VanillaChatGPTWrapper(system_prompt)\n",
    "answer = chatgpt.generate(question)"
   ]
  },
  {
   "cell_type": "code",
   "execution_count": 37,
   "metadata": {},
   "outputs": [
    {
     "name": "stdout",
     "output_type": "stream",
     "text": [
      "\n",
      "switch_full_optimized.svg:\n",
      "Done in 27 ms!\n",
      "2.8 KiB - 26.8% = 2.05 KiB\n"
     ]
    },
    {
     "data": {
      "image/png": "[encoded data removed]",
      "text/plain": [
       "<IPython.core.display.Image object>"
      ]
     },
     "execution_count": 37,
     "metadata": {
      "image/png": {
       "height": 300,
       "width": 400
      }
     },
     "output_type": "execute_result"
    }
   ],
   "source": [
    "save_gpt_answer_as_svg_and_png(answer, FILENAME)\n",
    "Image(filename=f'../generated_data/{FILENAME}_optimized.png', width=400, height=300)"
   ]
  }
 ],
 "metadata": {
  "kernelspec": {
   "display_name": "Python 3",
   "language": "python",
   "name": "python3"
  },
  "language_info": {
   "codemirror_mode": {
    "name": "ipython",
    "version": 3
   },
   "file_extension": ".py",
   "mimetype": "text/x-python",
   "name": "python",
   "nbconvert_exporter": "python",
   "pygments_lexer": "ipython3",
   "version": "3.9.6"
  },
  "orig_nbformat": 4
 },
 "nbformat": 4,
 "nbformat_minor": 2
}
