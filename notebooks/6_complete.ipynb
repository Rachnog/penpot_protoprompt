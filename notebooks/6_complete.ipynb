{
 "cells": [
  {
   "cell_type": "markdown",
   "metadata": {},
   "source": [
    "Local imports and initialization"
   ]
  },
  {
   "cell_type": "code",
   "execution_count": 1,
   "metadata": {
    "tags": []
   },
   "outputs": [],
   "source": [
    "import yaml\n",
    "import sys, os\n",
    "\n",
    "from IPython.display import Image, SVG\n",
    "\n",
    "sys.path.append(os.path.abspath(os.path.join(os.getcwd(), os.pardir)))\n",
    "\n",
    "from src.utils import *\n",
    "from src.svg_quality_checks import *\n",
    "from src.gpt_wrappers import *\n",
    "\n",
    "# show svg \n",
    "def show_svg(file):\n",
    "    display(SVG(file))\n",
    "\n",
    "# load yaml config\n",
    "with open(\"../config.yml\", \"r\") as f:\n",
    "    config = yaml.safe_load(f)\n"
   ]
  },
  {
   "cell_type": "markdown",
   "metadata": {},
   "source": [
    "OpenAI and wandb related imports and initialization"
   ]
  },
  {
   "cell_type": "code",
   "execution_count": 2,
   "metadata": {
    "tags": []
   },
   "outputs": [
    {
     "name": "stderr",
     "output_type": "stream",
     "text": [
      "\u001b[34m\u001b[1mwandb\u001b[0m: Currently logged in as: \u001b[33malejandro-alonso\u001b[0m (\u001b[33mpenpot_protoprompt\u001b[0m). Use \u001b[1m`wandb login --relogin`\u001b[0m to force relogin\n"
     ]
    },
    {
     "data": {
      "text/html": [
       "Tracking run with wandb version 0.14.2"
      ],
      "text/plain": [
       "<IPython.core.display.HTML object>"
      ]
     },
     "metadata": {},
     "output_type": "display_data"
    },
    {
     "data": {
      "text/html": [
       "Run data is saved locally in <code>/home/superalex/proyectos/2023/penpot_protoprompt/notebooks/wandb/run-20230419_170445-dhs6xs1u</code>"
      ],
      "text/plain": [
       "<IPython.core.display.HTML object>"
      ]
     },
     "metadata": {},
     "output_type": "display_data"
    },
    {
     "data": {
      "text/html": [
       "Syncing run <strong><a href='https://wandb.ai/penpot_protoprompt/penpot_protoprompt_team/runs/dhs6xs1u' target=\"_blank\">devout-galaxy-14</a></strong> to <a href='https://wandb.ai/penpot_protoprompt/penpot_protoprompt_team' target=\"_blank\">Weights & Biases</a> (<a href='https://wandb.me/run' target=\"_blank\">docs</a>)<br/>"
      ],
      "text/plain": [
       "<IPython.core.display.HTML object>"
      ]
     },
     "metadata": {},
     "output_type": "display_data"
    },
    {
     "data": {
      "text/html": [
       " View project at <a href='https://wandb.ai/penpot_protoprompt/penpot_protoprompt_team' target=\"_blank\">https://wandb.ai/penpot_protoprompt/penpot_protoprompt_team</a>"
      ],
      "text/plain": [
       "<IPython.core.display.HTML object>"
      ]
     },
     "metadata": {},
     "output_type": "display_data"
    },
    {
     "data": {
      "text/html": [
       " View run at <a href='https://wandb.ai/penpot_protoprompt/penpot_protoprompt_team/runs/dhs6xs1u' target=\"_blank\">https://wandb.ai/penpot_protoprompt/penpot_protoprompt_team/runs/dhs6xs1u</a>"
      ],
      "text/plain": [
       "<IPython.core.display.HTML object>"
      ]
     },
     "metadata": {},
     "output_type": "display_data"
    }
   ],
   "source": [
    "import openai\n",
    "import wandb\n",
    "\n",
    "openai.api_key = config[\"OPENAI_KEY\"]\n",
    "\n",
    "run = wandb.init(\n",
    "    project=config['WANDB_PROJECT'], \n",
    "    entity=config['WANDB_ENTITY']\n",
    ")\n",
    "\n",
    "results_table = wandb.Table(\n",
    "    columns=[\n",
    "                \"system_prompt\", \n",
    "                \"question_prompt\",\n",
    "                \"input_svg\",\n",
    "                \"output_svg\",\n",
    "                \"input_svg_code\",\n",
    "                \"output_svg_code\",\n",
    "                \"valid_check\",\n",
    "                \"size_check\"\n",
    "    ]\n",
    ")"
   ]
  },
  {
   "cell_type": "markdown",
   "metadata": {
    "tags": []
   },
   "source": [
    "# Zero-shot learning (no examples)"
   ]
  },
  {
   "cell_type": "markdown",
   "metadata": {
    "tags": []
   },
   "source": [
    "## Case 1: bottom app bar\n",
    "### Case 1.1 Add a \"+\" on the right side of the bottom app bar"
   ]
  },
  {
   "cell_type": "code",
   "execution_count": 20,
   "metadata": {
    "tags": []
   },
   "outputs": [
    {
     "name": "stdout",
     "output_type": "stream",
     "text": [
      "\n",
      "bottom_app_bar_short_optimized.svg:\n",
      "Done in 115 ms!\n",
      "12.4 KiB - \u001b[32m60.7%\u001b[39m = 4.877 KiB\n"
     ]
    },
    {
     "data": {
      "image/svg+xml": [
       "<svg width=\"390\" height=\"80\" fill=\"none\" style=\"-webkit-print-color-adjust:exact\"><defs><clipPath id=\"a\" class=\"frame-clip-def frame-clip\"><rect width=\"390\" height=\"80\" rx=\"0\" ry=\"0\" style=\"opacity:1\"/></clipPath></defs><g clip-path=\"url(#a)\"><g class=\"fills\"><rect width=\"390\" height=\"80\" class=\"frame-background\" rx=\"0\" ry=\"0\" style=\"opacity:1\"/></g><g class=\"frame-children\"><defs><clipPath id=\"b\" class=\"frame-clip-def frame-clip\"><rect width=\"390\" height=\"80\" rx=\"0\" ry=\"0\"/></clipPath></defs><g clip-path=\"url(#b)\"><g class=\"fills\"><rect width=\"390\" height=\"80\" class=\"frame-background\" rx=\"0\" ry=\"0\"/></g><g class=\"frame-children\"><rect width=\"390\" height=\"80\" class=\"fills\" rx=\"0\" ry=\"0\" style=\"fill:#fffbfe;fill-opacity:1\"/><rect width=\"390\" height=\"80\" class=\"fills\" rx=\"0\" ry=\"0\" style=\"opacity:.08;fill:#6750a4;fill-opacity:1\"/></g></g><defs><clipPath id=\"c\" class=\"frame-clip-def frame-clip\"><rect width=\"390\" height=\"80\" rx=\"0\" ry=\"0\"/></clipPath></defs><g clip-path=\"url(#c)\"><g class=\"fills\"><rect width=\"390\" height=\"80\" class=\"frame-background\" rx=\"0\" ry=\"0\"/></g><g class=\"frame-children\"><defs><clipPath id=\"d\" class=\"frame-clip-def frame-clip\"><rect width=\"370\" height=\"48\" x=\"4\" y=\"12\" rx=\"0\" ry=\"0\"/></clipPath></defs><g clip-path=\"url(#d)\"><g class=\"fills\"><rect width=\"370\" height=\"48\" x=\"4\" y=\"12\" class=\"frame-background\" rx=\"0\" ry=\"0\"/></g><g class=\"frame-children\"><g class=\"fills\"><rect width=\"48\" height=\"48\" x=\"172\" y=\"12\" class=\"frame-background\" rx=\"0\" ry=\"0\"/></g><g class=\"frame-children\"><g class=\"fills\"><rect width=\"24\" height=\"24\" x=\"184\" y=\"24\" class=\"frame-background\" rx=\"0\" ry=\"0\"/></g><g class=\"frame-children\"><path d=\"m203.9 44.975-6.575-6.575c-.5.433-1.083.771-1.749 1.012a6.178 6.178 0 0 1-2.126.363c-1.803 0-3.328-.625-4.577-1.875S187 35.142 187 33.375c0-1.767.625-3.275 1.875-4.525 1.25-1.25 2.762-1.875 4.537-1.875s3.284.625 4.525 1.875c1.242 1.25 1.863 2.76 1.863 4.529 0 .714-.117 1.404-.35 2.071a6.323 6.323 0 0 1-1.05 1.875l6.6 6.55-1.1 1.1Zm-10.475-6.7c1.354 0 2.505-.479 3.453-1.438.948-.958 1.422-2.112 1.422-3.462s-.474-2.504-1.422-3.463c-.948-.958-2.099-1.437-3.453-1.437-1.368 0-2.531.479-3.489 1.437-.957.959-1.436 2.113-1.436 3.463s.479 2.504 1.436 3.462c.958.959 2.121 1.438 3.489 1.438Z\" class=\"fills\" style=\"fill:#000\"/></g></g><g class=\"fills\"><rect width=\"48\" height=\"48\" x=\"116\" y=\"12\" class=\"frame-background\" rx=\"0\" ry=\"0\"/></g><g class=\"frame-children\"><g class=\"fills\"><rect width=\"24\" height=\"24\" x=\"128\" y=\"24\" class=\"frame-background\" rx=\"0\" ry=\"0\"/></g><g class=\"frame-children\"><path d=\"M140 37.425a2.368 2.368 0 0 1-1.8-.773c-.483-.515-.725-1.141-.725-1.877V28.5a2.4 2.4 0 0 1 .736-1.771 2.447 2.447 0 0 1 1.788-.729c.701 0 1.297.243 1.788.729.492.486.738 1.077.738 1.771v6.275c0 .736-.242 1.362-.725 1.877a2.368 2.368 0 0 1-1.8.773Zm0-5.7ZM139.25 45v-3.4c-1.767-.183-3.25-.925-4.45-2.225-1.2-1.3-1.8-2.833-1.8-4.6h1.5c0 1.517.536 2.792 1.607 3.825 1.072 1.033 2.367 1.55 3.888 1.55 1.52 0 2.817-.517 3.892-1.55 1.075-1.033 1.613-2.308 1.613-3.825h1.5c0 1.767-.6 3.3-1.8 4.6-1.2 1.3-2.683 2.042-4.45 2.225V45h-1.5Zm.75-9.075a.92.92 0 0 0 .737-.338c.192-.224.288-.495.288-.812V28.5a.952.952 0 0 0-.295-.712 1.003 1.003 0 0 0-.73-.288c-.29 0-.534.096-.73.288a.952.952 0 0 0-.295.712v6.275c0 .317.096.588.287.812a.924.924 0 0 0 .738.338Z\" class=\"fills\" style=\"fill:#000\"/></g></g><g class=\"fills\"><rect width=\"48\" height=\"48\" x=\"60\" y=\"12\" class=\"frame-background\" rx=\"0\" ry=\"0\"/></g><g class=\"frame-children\"><g class=\"fills\"><rect width=\"24\" height=\"24\" x=\"72\" y=\"24\" class=\"frame-background\" rx=\"0\" ry=\"0\"/></g><g class=\"frame-children\"><path d=\"M77.5 44c-.4 0-.75-.15-1.05-.45-.3-.3-.45-.65-.45-1.05v-3.575h1.5V42.5h13v-3.575H92V42.5c0 .4-.15.75-.45 1.05-.3.3-.65.45-1.05.45h-13Zm6.5-3.825-4.825-4.825 1.075-1.075 3 3V28h1.5v9.275l3-3 1.075 1.075L84 40.175Z\" class=\"fills\" style=\"fill:#000\"/></g></g><g class=\"fills\"><rect width=\"48\" height=\"48\" x=\"4\" y=\"12\" class=\"frame-background\" rx=\"0\" ry=\"0\"/></g><g class=\"frame-children\"><g class=\"fills\"><rect width=\"24\" height=\"24\" x=\"16\" y=\"24\" class=\"frame-background\" rx=\"0\" ry=\"0\"/></g><g class=\"frame-children\" style=\"fill:#000\"><path d=\"m28 33.65-1.05-1.05 1.85-1.85h-4.55v-1.5h4.55l-1.85-1.85L28 26.35 31.65 30 28 33.65ZM23.245 46c-.497 0-.92-.177-1.27-.53a1.749 1.749 0 0 1-.525-1.275c0-.497.177-.92.53-1.27.354-.35.779-.525 1.275-.525.497 0 .92.177 1.27.53.35.354.525.779.525 1.275 0 .497-.177.92-.53 1.27-.354.35-.779.525-1.275.525Zm10.1 0c-.497 0-.92-.177-1.27-.53a1.749 1.749 0 0 1-.525-1.275c0-.497.177-.92.53-1.27.354-.35.779-.525 1.275-.525.497 0 .92.177 1.27.53.35.354.525.779.525 1.275 0 .497-.177.92-.53 1.27-.354.35-.779.525-1.275.525ZM17.55 27.5V26h2.9l4.25 9.1h7.193l4.007-7h1.675l-4.05 7.575a2.227 2.227 0 0 1-.714.763 1.724 1.724 0 0 1-.961.287h-7.575l-1.4 2.6H35.15v1.5H23.1c-.628 0-1.105-.25-1.433-.75-.328-.5-.35-1.008-.067-1.525l1.6-2.95-3.7-8.1h-1.95Z\" class=\"fills\" style=\"fill:#6750a4;fill-opacity:1\"/></g></g></g></g></g></g></g></g></svg>"
      ],
      "text/plain": [
       "<IPython.core.display.SVG object>"
      ]
     },
     "metadata": {},
     "output_type": "display_data"
    }
   ],
   "source": [
    "FILENAME = \"bottom_app_bar_short\"\n",
    "svg_original = load_raw_svg_optimize_clean(FILENAME)\n",
    "show_svg(f'../data/svgs/{FILENAME}_optimized.svg')"
   ]
  },
  {
   "cell_type": "code",
   "execution_count": 22,
   "metadata": {
    "tags": []
   },
   "outputs": [
    {
     "name": "stdout",
     "output_type": "stream",
     "text": [
      "\n",
      "<svg width=\"48\" height=\"48\" fill=\"none\" style=\"-webkit-print-color-adjust:exact\"><defs><clipPath id=\"a\" class=\"frame-clip-def frame-clip\"><rect width=\"48\" height=\"48\" rx=\"24\" ry=\"24\" style=\"opacity:1\"/></clipPath></defs><g clip-path=\"url(#a)\"><g class=\"fills\"><rect width=\"48\" height=\"48\" class=\"frame-background\" rx=\"24\" ry=\"24\" style=\"opacity:1\"/></g><g class=\"frame-children\"><rect width=\"48\" height=\"48\" class=\"fills\" rx=\"24\" ry=\"24\" style=\"fill:#fffbfe;fill-opacity:1\"/><rect width=\"48\" height=\"48\" class=\"fills\" rx=\"24\" ry=\"24\" style=\"opacity:.08;fill:#6750a4;fill-opacity:1\"/><path d=\"M24 10.5L14.5 20H9v5h5.5L24 35.5l9.5-9.5H39V20h-5.5L24 10.5z\" style=\"fill:#000\"/></g></g></svg>\n",
      "Quality check: True (48.0, 48.0)\n"
     ]
    }
   ],
   "source": [
    "question = f\"\"\"\n",
    "    This is a SVG file with app bottom bar buttons: \\n\n",
    "\n",
    "    {svg_original}\n",
    "    \n",
    "    Generate a SVG containing a button with a big plus sign on it in a round shape. \n",
    "    \n",
    "    Keep the style of the original svg\n",
    "\n",
    "    Keep it as short and optimized as you can.\n",
    "    \n",
    "    Start with <svg ... and end with </svg>\n",
    "\"\"\"\n",
    "\n",
    "answer = openai.Completion.create(\n",
    "    model=\"text-davinci-003\",\n",
    "    temperature=0.8,\n",
    "    max_tokens=1500,\n",
    "    prompt=question).choices[0].text\n",
    "print(answer)\n",
    "print(\"Quality check:\", validate_svg(answer), get_svg_size(answer))"
   ]
  },
  {
   "cell_type": "code",
   "execution_count": 23,
   "metadata": {
    "tags": []
   },
   "outputs": [
    {
     "name": "stdout",
     "output_type": "stream",
     "text": [
      "\n",
      "bottom_app_bar_short_optimized.svg:\n",
      "Done in 39 ms!\n",
      "0.676 KiB - \u001b[32m0.7%\u001b[39m = 0.671 KiB\n"
     ]
    },
    {
     "data": {
      "image/svg+xml": [
       "<svg width=\"48\" height=\"48\" fill=\"none\" style=\"-webkit-print-color-adjust:exact\"><defs><clipPath id=\"a\" class=\"frame-clip-def frame-clip\"><rect width=\"48\" height=\"48\" rx=\"24\" ry=\"24\" style=\"opacity:1\"/></clipPath></defs><g clip-path=\"url(#a)\"><g class=\"fills\"><rect width=\"48\" height=\"48\" class=\"frame-background\" rx=\"24\" ry=\"24\" style=\"opacity:1\"/></g><g class=\"frame-children\"><rect width=\"48\" height=\"48\" class=\"fills\" rx=\"24\" ry=\"24\" style=\"fill:#fffbfe;fill-opacity:1\"/><rect width=\"48\" height=\"48\" class=\"fills\" rx=\"24\" ry=\"24\" style=\"opacity:.08;fill:#6750a4;fill-opacity:1\"/><path d=\"M24 10.5 14.5 20H9v5h5.5L24 35.5l9.5-9.5H39v-6h-5.5L24 10.5z\" style=\"fill:#000\"/></g></g></svg>"
      ],
      "text/plain": [
       "<IPython.core.display.SVG object>"
      ]
     },
     "metadata": {},
     "output_type": "display_data"
    }
   ],
   "source": [
    "save_gpt_answer_as_svg(answer, FILENAME)\n",
    "show_svg(f'../generated_data/{FILENAME}_optimized.svg')"
   ]
  },
  {
   "cell_type": "code",
   "execution_count": 6,
   "metadata": {
    "tags": []
   },
   "outputs": [],
   "source": [
    "results_table.add_data(\n",
    "    *[\n",
    "        \"complete\", question, wandb.Html(f'../data/svgs/{FILENAME}_optimized.svg'),\n",
    "        wandb.Html(f'../generated_data/{FILENAME}_optimized.svg'),\n",
    "        svg_original, answer,\n",
    "        validate_svg(answer), get_svg_size(answer)\n",
    "    ]\n",
    ")"
   ]
  },
  {
   "cell_type": "markdown",
   "metadata": {},
   "source": [
    "## Case 2: filled button\n",
    "### Case 2.1: generate other buttons"
   ]
  },
  {
   "cell_type": "code",
   "execution_count": 24,
   "metadata": {
    "tags": []
   },
   "outputs": [
    {
     "name": "stdout",
     "output_type": "stream",
     "text": [
      "\n",
      "common_buttons_short_optimized.svg:\n",
      "Done in 50 ms!\n",
      "3.814 KiB - \u001b[32m68.6%\u001b[39m = 1.199 KiB\n"
     ]
    },
    {
     "data": {
      "image/svg+xml": [
       "<svg width=\"127\" height=\"40\" fill=\"none\" style=\"-webkit-print-color-adjust:exact\"><g class=\"fills\"><rect width=\"126\" height=\"40\" class=\"frame-background\" rx=\"0\" ry=\"0\"/></g><g class=\"frame-children\"><defs><clipPath id=\"a\" class=\"frame-clip-def frame-clip\"><rect width=\"127\" height=\"40\" rx=\"0\" ry=\"0\"/></clipPath></defs><g clip-path=\"url(#a)\"><g class=\"fills\"><rect width=\"127\" height=\"40\" class=\"frame-background\" rx=\"0\" ry=\"0\"/></g><g class=\"frame-children\"><rect width=\"127\" height=\"40\" class=\"fills\" rx=\"20\" ry=\"20\" style=\"opacity:1;fill:#6750a4;fill-opacity:1\"/><defs><clipPath id=\"b\" class=\"frame-clip-def frame-clip\"><rect width=\"127\" height=\"40\" rx=\"0\" ry=\"0\"/></clipPath></defs><g clip-path=\"url(#b)\"><g class=\"fills\"><rect width=\"127\" height=\"40\" class=\"frame-background\" rx=\"0\" ry=\"0\"/></g><g class=\"frame-children\"><g class=\"text-container\"><text x=\"24\" y=\"27.852\" class=\"fills\" dominant-baseline=\"ideographic\" lengthAdjust=\"spacingAndGlyphs\" style=\"text-transform:none;font-family:Roboto;letter-spacing:.01px;font-style:normal;font-weight:500;white-space:pre;font-size:14px;text-decoration:none solid #fff;direction:ltr;fill:#fff;fill-opacity:1\" textLength=\"78.922\">Filled Button</text></g></g></g></g></g></g></svg>"
      ],
      "text/plain": [
       "<IPython.core.display.SVG object>"
      ]
     },
     "metadata": {},
     "output_type": "display_data"
    }
   ],
   "source": [
    "FILENAME = \"common_buttons_short\"\n",
    "svg_original = load_raw_svg_optimize_clean(FILENAME)\n",
    "show_svg(f'../data/svgs/{FILENAME}_optimized.svg')"
   ]
  },
  {
   "cell_type": "code",
   "execution_count": 25,
   "metadata": {
    "tags": []
   },
   "outputs": [
    {
     "name": "stdout",
     "output_type": "stream",
     "text": [
      "\n",
      "<svg width=\"127\" height=\"40\" fill=\"none\" style=\"-webkit-print-color-adjust:exact\"><g class=\"fills\"><rect width=\"126\" height=\"40\" class=\"frame-background\" rx=\"0\" ry=\"0\"/></g><g class=\"frame-children\"><defs><clipPath id=\"a\" class=\"frame-clip-def frame-clip\"><rect width=\"127\" height=\"40\" rx=\"0\" ry=\"0\"/></clipPath></defs><g clip-path=\"url(#a)\"><g class=\"fills\"><rect width=\"127\" height=\"40\" class=\"frame-background\" rx=\"0\" ry=\"0\"/></g><g class=\"frame-children\"><rect width=\"127\" height=\"40\" class=\"fills\" rx=\"20\" ry=\"20\" style=\"opacity:1;fill:#6750a4;fill-opacity:0.5\"/><defs><clipPath id=\"b\" class=\"frame-clip-def frame-clip\"><rect width=\"127\" height=\"40\" rx=\"0\" ry=\"0\"/></clipPath></defs><g clip-path=\"url(#b)\"><g class=\"fills\"><rect width=\"127\" height=\"40\" class=\"frame-background\" rx=\"0\" ry=\"0\"/></g><g class=\"frame-children\"><g class=\"text-container\"><text x=\"24\" y=\"27.852\" class=\"fills\" dominant-baseline=\"ideographic\" lengthAdjust=\"spacingAndGlyphs\" style=\"text-transform:none;font-family:Roboto;letter-spacing:.01px;font-style:normal;font-weight:500;white-space:pre;font-size:14px;text-decoration:none solid #fff;direction:ltr;fill:#fff;fill-opacity:1\" textLength=\"78.922\">Filled Button</text></g></g></g></g></g></g></svg>\n",
      "Quality check: True (127.0, 40.0)\n"
     ]
    }
   ],
   "source": [
    "question = f\"\"\"\n",
    "    This is a SVG file with a single button filled with color: \\n\n",
    "\n",
    "    {svg_original}\n",
    "\n",
    "    Generate a SVG with with the pressed version of the button.\n",
    "    Keep it as short and optimized as you can. \n",
    "    Start with <svg ... and end with </svg>\n",
    "\"\"\"\n",
    "\n",
    "answer = openai.Completion.create(\n",
    "    model=\"text-davinci-003\",\n",
    "    temperature=0.1,\n",
    "    max_tokens=1500,\n",
    "    prompt=question).choices[0].text\n",
    "print(answer)\n",
    "print(\"Quality check:\", validate_svg(answer), get_svg_size(answer))"
   ]
  },
  {
   "cell_type": "code",
   "execution_count": 26,
   "metadata": {
    "tags": []
   },
   "outputs": [
    {
     "name": "stdout",
     "output_type": "stream",
     "text": [
      "\n",
      "common_buttons_short_optimized.svg:\n",
      "Done in 45 ms!\n",
      "1.207 KiB - \u001b[32m0.6%\u001b[39m = 1.2 KiB\n"
     ]
    },
    {
     "data": {
      "image/svg+xml": [
       "<svg width=\"127\" height=\"40\" fill=\"none\" style=\"-webkit-print-color-adjust:exact\"><g class=\"fills\"><rect width=\"126\" height=\"40\" class=\"frame-background\" rx=\"0\" ry=\"0\"/></g><g class=\"frame-children\"><defs><clipPath id=\"a\" class=\"frame-clip-def frame-clip\"><rect width=\"127\" height=\"40\" rx=\"0\" ry=\"0\"/></clipPath></defs><g clip-path=\"url(#a)\"><g class=\"fills\"><rect width=\"127\" height=\"40\" class=\"frame-background\" rx=\"0\" ry=\"0\"/></g><g class=\"frame-children\"><rect width=\"127\" height=\"40\" class=\"fills\" rx=\"20\" ry=\"20\" style=\"opacity:1;fill:#6750a4;fill-opacity:.5\"/><defs><clipPath id=\"b\" class=\"frame-clip-def frame-clip\"><rect width=\"127\" height=\"40\" rx=\"0\" ry=\"0\"/></clipPath></defs><g clip-path=\"url(#b)\"><g class=\"fills\"><rect width=\"127\" height=\"40\" class=\"frame-background\" rx=\"0\" ry=\"0\"/></g><g class=\"frame-children\"><g class=\"text-container\"><text x=\"24\" y=\"27.852\" class=\"fills\" dominant-baseline=\"ideographic\" lengthAdjust=\"spacingAndGlyphs\" style=\"text-transform:none;font-family:Roboto;letter-spacing:.01px;font-style:normal;font-weight:500;white-space:pre;font-size:14px;text-decoration:none solid #fff;direction:ltr;fill:#fff;fill-opacity:1\" textLength=\"78.922\">Filled Button</text></g></g></g></g></g></g></svg>"
      ],
      "text/plain": [
       "<IPython.core.display.SVG object>"
      ]
     },
     "metadata": {},
     "output_type": "display_data"
    }
   ],
   "source": [
    "save_gpt_answer_as_svg(answer, FILENAME)\n",
    "show_svg(f'../generated_data/{FILENAME}_optimized.svg')"
   ]
  },
  {
   "cell_type": "code",
   "execution_count": 10,
   "metadata": {},
   "outputs": [],
   "source": [
    "results_table.add_data(\n",
    "    *[\n",
    "        \"complete\", question, wandb.Html(f'../data/svgs/{FILENAME}_optimized.svg'),\n",
    "        wandb.Html(f'../generated_data/{FILENAME}_optimized.svg'),\n",
    "        svg_original, answer,\n",
    "        validate_svg(answer), get_svg_size(answer)\n",
    "    ]\n",
    ")"
   ]
  },
  {
   "cell_type": "markdown",
   "metadata": {},
   "source": [
    "## Case 3: segmented buttons\n",
    "### Case 3.1: make other buttons active one by one"
   ]
  },
  {
   "cell_type": "code",
   "execution_count": 11,
   "metadata": {},
   "outputs": [
    {
     "name": "stdout",
     "output_type": "stream",
     "text": [
      "\n",
      "segmented_buttons_short_optimized.svg:\n",
      "Done in 118 ms!\n",
      "13.162 KiB - \u001b[32m70.3%\u001b[39m = 3.909 KiB\n"
     ]
    },
    {
     "data": {
      "image/svg+xml": [
       "<svg width=\"228\" height=\"48\" fill=\"none\" style=\"-webkit-print-color-adjust:exact\"><defs><clipPath id=\"a\" class=\"frame-clip-def frame-clip\"><rect width=\"228\" height=\"48\" rx=\"0\" ry=\"0\"/></clipPath></defs><g clip-path=\"url(#a)\"><g class=\"fills\"><rect width=\"228\" height=\"48\" class=\"frame-background\" rx=\"0\" ry=\"0\"/></g><g class=\"frame-children\"><defs><clipPath id=\"b\" class=\"frame-clip-def frame-clip\"><rect width=\"220\" height=\"40\" x=\"4\" y=\"4\" rx=\"0\" ry=\"0\"/></clipPath></defs><g clip-path=\"url(#b)\"><g class=\"fills\"><rect width=\"220\" height=\"40\" x=\"4\" y=\"4\" class=\"frame-background\" rx=\"0\" ry=\"0\"/></g><g class=\"frame-children\"><g class=\"fills\"><rect width=\"73\" height=\"40\" x=\"151\" y=\"4\" class=\"frame-background\" rx=\"0\" ry=\"0\"/></g><g class=\"frame-children\"><defs><clipPath id=\"c\" class=\"frame-clip-def frame-clip\"><path d=\"M150 4h54a20 20 0 0 1 20 20 20 20 0 0 1-20 20h-54V4z\"/></clipPath></defs><g clip-path=\"url(#c)\"><g class=\"fills\"><path d=\"M150 4h54a20 20 0 0 1 20 20 20 20 0 0 1-20 20h-54V4z\" class=\"frame-background\"/></g><g class=\"frame-children\"><g class=\"text-container\"><text x=\"162\" y=\"31.852\" class=\"fills\" dominant-baseline=\"ideographic\" lengthAdjust=\"spacingAndGlyphs\" style=\"text-transform:none;font-family:Roboto;letter-spacing:.01px;font-style:normal;font-weight:500;white-space:pre;font-size:14px;text-decoration:none solid #1c1b1f;direction:ltr;fill:#1c1b1f;fill-opacity:1\" textLength=\"50.219\">Enabled</text></g></g></g><g class=\"strokes\"><g class=\"inner-stroke-shape\"><defs><clipPath id=\"e\"><use href=\"#d\"/></clipPath><path id=\"d\" d=\"M150 4h54a20 20 0 0 1 20 20 20 20 0 0 1-20 20h-54V4z\" class=\"frame-background\" style=\"fill:none;stroke-width:2;stroke:#79747e;stroke-opacity:1\"/></defs><use clip-path=\"url('#e')\" href=\"#d\"/></g></g></g><defs><clipPath id=\"f\" class=\"frame-clip-def frame-clip\"><rect width=\"74\" height=\"40\" x=\"77\" y=\"4\" rx=\"0\" ry=\"0\"/></clipPath></defs><g clip-path=\"url(#f)\"><g class=\"fills\"><rect width=\"74\" height=\"40\" x=\"77\" y=\"4\" class=\"frame-background\" rx=\"0\" ry=\"0\"/></g><g class=\"frame-children\"><g class=\"fills\"><rect width=\"74\" height=\"40\" x=\"77\" y=\"4\" class=\"frame-background\" rx=\"0\" ry=\"0\"/></g><g class=\"frame-children\"><g class=\"text-container\"><text x=\"89\" y=\"31.852\" class=\"fills\" dominant-baseline=\"ideographic\" lengthAdjust=\"spacingAndGlyphs\" style=\"text-transform:none;font-family:Roboto;letter-spacing:.01px;font-style:normal;font-weight:500;white-space:pre;font-size:14px;text-decoration:none solid #1c1b1f;direction:ltr;fill:#1c1b1f;fill-opacity:1\" textLength=\"50.219\">Enabled</text></g></g><g class=\"strokes\"><g class=\"inner-stroke-shape\"><defs><clipPath id=\"h\"><use href=\"#g\"/></clipPath><rect id=\"g\" width=\"74\" height=\"40\" x=\"77\" y=\"4\" class=\"frame-background\" rx=\"0\" ry=\"0\" style=\"fill:none;stroke-width:2;stroke:#79747e;stroke-opacity:1\"/></defs><use clip-path=\"url('#h')\" href=\"#g\"/></g></g></g></g><g class=\"fills\"><rect width=\"73\" height=\"40\" x=\"4\" y=\"4\" class=\"frame-background\" rx=\"0\" ry=\"0\"/></g><g class=\"frame-children\"><defs><clipPath id=\"i\" class=\"frame-clip-def frame-clip\"><path d=\"M24 4h54v40H24A20 20 0 0 1 4 24 20 20 0 0 1 24 4z\"/></clipPath></defs><g clip-path=\"url(#i)\"><g class=\"fills\"><path d=\"M24 4h54v40H24A20 20 0 0 1 4 24 20 20 0 0 1 24 4z\" class=\"frame-background\"/></g><g class=\"frame-children\"><g class=\"text-container\"><text x=\"16\" y=\"31.852\" class=\"fills\" dominant-baseline=\"ideographic\" lengthAdjust=\"spacingAndGlyphs\" style=\"text-transform:none;font-family:Roboto;letter-spacing:.01px;font-style:normal;font-weight:500;white-space:pre;font-size:14px;text-decoration:none solid #1c1b1f;direction:ltr;fill:#1c1b1f;fill-opacity:1\" textLength=\"50.219\">Enabled</text></g></g></g><g class=\"strokes\"><g class=\"inner-stroke-shape\"><defs><clipPath id=\"k\"><use href=\"#j\"/></clipPath><path id=\"j\" d=\"M24 4h54v40H24A20 20 0 0 1 4 24 20 20 0 0 1 24 4z\" class=\"frame-background\" style=\"fill:none;stroke-width:2;stroke:#79747e;stroke-opacity:1\"/></defs><use clip-path=\"url('#k')\" href=\"#j\"/></g></g></g></g></g></g></g></svg>"
      ],
      "text/plain": [
       "<IPython.core.display.SVG object>"
      ]
     },
     "metadata": {},
     "output_type": "display_data"
    }
   ],
   "source": [
    "FILENAME = \"segmented_buttons_short\"\n",
    "svg_original = load_raw_svg_optimize_clean(FILENAME)\n",
    "show_svg(f'../data/svgs/{FILENAME}_optimized.svg')"
   ]
  },
  {
   "cell_type": "code",
   "execution_count": 12,
   "metadata": {},
   "outputs": [
    {
     "name": "stdout",
     "output_type": "stream",
     "text": [
      "\n",
      "<svg width=\"74\" height=\"40\" fill=\"none\" style=\"-webkit-print-color-adjust:exact\"><defs><clipPath id=\"a\" class=\"frame-clip-def frame-clip\"><rect width=\"74\" height=\"40\" rx=\"0\" ry=\"0\"/></clipPath></defs><g clip-path=\"url(#a)\"><g class=\"fills\"><rect width=\"74\" height=\"40\" class=\"frame-background\" rx=\"0\" ry=\"0\"/></g><g class=\"frame-children\"><g class=\"fills\"><rect width=\"74\" height=\"40\" class=\"frame-background\" rx=\"0\" ry=\"0\"/></g><g class=\"frame-children\"><g class=\"text-container\"><text x=\"89\" y=\"31.852\" class=\"fills\" dominant-baseline=\"ideographic\" lengthAdjust=\"spacingAndGlyphs\" style=\"text-transform:none;font-family:Roboto;letter-spacing:.01px;font-style:normal;font-weight:500;white-space:pre;font-size:14px;text-decoration:none solid #1c1b1f;direction:ltr;fill:#1c1b1f;fill-opacity:1\" textLength=\"50.219\">Enabled</text></g></g><g class=\"strokes\"><g class=\"inner-stroke-shape\"><defs><clipPath id=\"c\"><use href=\"#b\"/></clipPath><rect id=\"b\" width=\"74\" height=\"40\" class=\"frame-background\" rx=\"0\" ry=\"0\" style=\"fill:none;stroke-width:2;stroke:#79747e;stroke-opacity:1\"/></defs><use clip-path=\"url('#c')\" href=\"#b\"/></g></g></g></g></svg>\n",
      "Quality check: True (74.0, 40.0)\n"
     ]
    }
   ],
   "source": [
    "question = f\"\"\"\n",
    "    This a SVG file with 3 empty segmented buttons panel: \\n\n",
    "\n",
    "    {svg_original}\n",
    "\n",
    "    Generate a SVG with containing only the middle button in an active state.\n",
    "\n",
    "    Keep it as short and optimized as you can. \n",
    "    Start with <svg ... and end with </svg>\n",
    "\"\"\"\n",
    "\n",
    "answer = openai.Completion.create(\n",
    "    model=\"text-davinci-003\",\n",
    "    temperature=0.1,\n",
    "    max_tokens=1500,\n",
    "    prompt=question).choices[0].text\n",
    "print(answer)\n",
    "print(\"Quality check:\", validate_svg(answer), get_svg_size(answer))"
   ]
  },
  {
   "cell_type": "code",
   "execution_count": 13,
   "metadata": {},
   "outputs": [
    {
     "name": "stdout",
     "output_type": "stream",
     "text": [
      "\n",
      "segmented_buttons_short_optimized.svg:\n",
      "Done in 43 ms!\n",
      "1.121 KiB - \u001b[32m0.5%\u001b[39m = 1.115 KiB\n"
     ]
    },
    {
     "data": {
      "image/svg+xml": [
       "<svg width=\"74\" height=\"40\" fill=\"none\" style=\"-webkit-print-color-adjust:exact\"><defs><clipPath id=\"a\" class=\"frame-clip-def frame-clip\"><rect width=\"74\" height=\"40\" rx=\"0\" ry=\"0\"/></clipPath></defs><g clip-path=\"url(#a)\"><g class=\"fills\"><rect width=\"74\" height=\"40\" class=\"frame-background\" rx=\"0\" ry=\"0\"/></g><g class=\"frame-children\"><g class=\"fills\"><rect width=\"74\" height=\"40\" class=\"frame-background\" rx=\"0\" ry=\"0\"/></g><g class=\"frame-children\"><g class=\"text-container\"><text x=\"89\" y=\"31.852\" class=\"fills\" dominant-baseline=\"ideographic\" lengthAdjust=\"spacingAndGlyphs\" style=\"text-transform:none;font-family:Roboto;letter-spacing:.01px;font-style:normal;font-weight:500;white-space:pre;font-size:14px;text-decoration:none solid #1c1b1f;direction:ltr;fill:#1c1b1f;fill-opacity:1\" textLength=\"50.219\">Enabled</text></g></g><g class=\"strokes\"><g class=\"inner-stroke-shape\"><defs><clipPath id=\"c\"><use href=\"#b\"/></clipPath><rect id=\"b\" width=\"74\" height=\"40\" class=\"frame-background\" rx=\"0\" ry=\"0\" style=\"fill:none;stroke-width:2;stroke:#79747e;stroke-opacity:1\"/></defs><use clip-path=\"url('#c')\" href=\"#b\"/></g></g></g></g></svg>"
      ],
      "text/plain": [
       "<IPython.core.display.SVG object>"
      ]
     },
     "metadata": {},
     "output_type": "display_data"
    }
   ],
   "source": [
    "save_gpt_answer_as_svg(answer, FILENAME)\n",
    "show_svg(f'../generated_data/{FILENAME}_optimized.svg')"
   ]
  },
  {
   "cell_type": "code",
   "execution_count": 14,
   "metadata": {},
   "outputs": [],
   "source": [
    "results_table.add_data(\n",
    "    *[\n",
    "        \"complete\", question, wandb.Html(f'../data/svgs/{FILENAME}_optimized.svg'),\n",
    "        wandb.Html(f'../generated_data/{FILENAME}_optimized.svg'),\n",
    "        svg_original, answer,\n",
    "        validate_svg(answer), get_svg_size(answer)\n",
    "    ]\n",
    ")"
   ]
  },
  {
   "cell_type": "markdown",
   "metadata": {},
   "source": [
    "## Case 4: switches\n",
    "### Case 4.1 select elements + change the color palette"
   ]
  },
  {
   "cell_type": "code",
   "execution_count": 37,
   "metadata": {},
   "outputs": [
    {
     "name": "stdout",
     "output_type": "stream",
     "text": [
      "\n",
      "switch_full_optimized.svg:\n",
      "Done in 218 ms!\n",
      "22.691 KiB - \u001b[32m63.9%\u001b[39m = 8.196 KiB\n"
     ]
    },
    {
     "data": {
      "image/svg+xml": [
       "<svg width=\"390\" height=\"240\" fill=\"none\" style=\"-webkit-print-color-adjust:exact\"><defs><clipPath id=\"a\" class=\"frame-clip-def frame-clip\"><rect width=\"390\" height=\"240\" rx=\"0\" ry=\"0\" style=\"fill:#fff;fill-opacity:1\"/></clipPath></defs><g clip-path=\"url(#a)\"><g class=\"fills\"><rect width=\"390\" height=\"240\" class=\"frame-background\" rx=\"0\" ry=\"0\" style=\"fill:#fff;fill-opacity:1\"/></g><g class=\"frame-children\"><g class=\"text-container\"><text x=\"20\" y=\"224\" class=\"fills\" dominant-baseline=\"ideographic\" lengthAdjust=\"spacingAndGlyphs\" style=\"text-transform:none;font-family:Roboto;letter-spacing:.04px;font-style:normal;font-weight:400;white-space:pre;font-size:12px;text-decoration:none solid #000;direction:ltr;fill:#000;fill-opacity:1\" textLength=\"104.07\">Documentation link</text></g><g class=\"fills\"><rect width=\"52\" height=\"32\" x=\"318\" y=\"80\" class=\"frame-background\" rx=\"0\" ry=\"0\"/></g><g class=\"frame-children\"><defs><clipPath id=\"b\" class=\"frame-clip-def frame-clip\"><rect width=\"52\" height=\"32\" x=\"318\" y=\"80\" rx=\"16\" ry=\"16\"/></clipPath></defs><g clip-path=\"url(#b)\"><g class=\"fills\"><rect width=\"52\" height=\"32\" x=\"318\" y=\"80\" class=\"frame-background\" rx=\"16\" ry=\"16\"/></g><g class=\"frame-children\"><g class=\"fills\"><rect width=\"52\" height=\"32\" x=\"318\" y=\"80\" class=\"frame-background\" rx=\"16\" ry=\"16\" style=\"opacity:.12;fill:#1c1b1f;fill-opacity:1\"/></g><g class=\"fills\"><rect width=\"24\" height=\"24\" x=\"341\" y=\"84\" class=\"frame-background\" rx=\"0\" ry=\"0\"/></g><g class=\"frame-children\"><circle cx=\"353\" cy=\"96\" r=\"12\" class=\"fills\" style=\"fill:#fffbfe;fill-opacity:1\"/><g style=\"opacity:.38\"><g style=\"fill:#000\"><path d=\"m351.3 99.9-3.733-3.733.716-.717 3.017 3.017 6.4-6.4.717.716L351.3 99.9Z\" class=\"fills\" style=\"fill:#1c1b1f;fill-opacity:1\"/></g></g></g></g></g></g><g class=\"fills\"><rect width=\"52\" height=\"32\" x=\"318\" y=\"20\" class=\"frame-background\" rx=\"0\" ry=\"0\"/></g><g class=\"frame-children\"><defs><clipPath id=\"c\" class=\"frame-clip-def frame-clip\"><rect width=\"52\" height=\"32\" x=\"318\" y=\"20\" rx=\"16\" ry=\"16\"/></clipPath></defs><g clip-path=\"url(#c)\"><g class=\"fills\"><rect width=\"52\" height=\"32\" x=\"318\" y=\"20\" class=\"frame-background\" rx=\"16\" ry=\"16\"/></g><g class=\"frame-children\"><g class=\"fills\"><rect width=\"52\" height=\"32\" x=\"318\" y=\"20\" class=\"frame-background\" rx=\"16\" ry=\"16\" style=\"fill:#6750a4;fill-opacity:1\"/></g><g class=\"fills\"><rect width=\"24\" height=\"24\" x=\"341\" y=\"24\" class=\"frame-background\" rx=\"0\" ry=\"0\"/></g><g class=\"frame-children\"><circle cx=\"353\" cy=\"36\" r=\"12\" class=\"fills\" style=\"fill:#fff;fill-opacity:1\"/><g style=\"fill:#000\"><path d=\"m351.3 39.9-3.733-3.733.716-.717 3.017 3.017 6.4-6.4.717.716L351.3 39.9Z\" class=\"fills\" style=\"fill:#21005e;fill-opacity:1\"/></g></g></g></g></g><g class=\"fills\"><rect width=\"52\" height=\"32\" x=\"238\" y=\"80\" class=\"frame-background\" rx=\"0\" ry=\"0\"/></g><g class=\"frame-children\"><defs><clipPath id=\"d\" class=\"frame-clip-def frame-clip\"><rect width=\"52\" height=\"32\" x=\"238\" y=\"80\" rx=\"0\" ry=\"0\"/></clipPath></defs><g clip-path=\"url(#d)\"><g class=\"fills\"><rect width=\"52\" height=\"32\" x=\"238\" y=\"80\" class=\"frame-background\" rx=\"0\" ry=\"0\"/></g><g class=\"frame-children\"><g class=\"fills\"><rect width=\"52\" height=\"32\" x=\"238\" y=\"80\" class=\"frame-background\" rx=\"16\" ry=\"16\" style=\"opacity:.12;fill:#e7e0ec;fill-opacity:1\"/></g><g class=\"strokes\"><g class=\"inner-stroke-shape\"><defs><clipPath id=\"f\"><use href=\"#e\"/></clipPath><rect id=\"e\" width=\"52\" height=\"32\" x=\"238\" y=\"80\" class=\"frame-background\" rx=\"16\" ry=\"16\" style=\"opacity:.12;fill:none;stroke-width:4;stroke:#1c1b1f;stroke-opacity:1\"/></defs><use clip-path=\"url('#f')\" href=\"#e\"/></g></g><g class=\"fills\"><rect width=\"24\" height=\"24\" x=\"243\" y=\"84\" class=\"frame-background\" rx=\"0\" ry=\"0\"/></g><g class=\"frame-children\"><circle cx=\"255\" cy=\"96\" r=\"12\" class=\"fills\" style=\"opacity:.38;fill:#1c1b1f;fill-opacity:1\"/><g style=\"opacity:.38\"><g style=\"fill:#000\"><path d=\"m251.15 100.55-.7-.7L254.3 96l-3.85-3.85.7-.7L255 95.3l3.85-3.85.7.7L255.7 96l3.85 3.85-.7.7L255 96.7l-3.85 3.85Z\" class=\"fills\" style=\"fill:#e7e0ec;fill-opacity:1\"/></g></g></g></g></g></g><g class=\"fills\"><rect width=\"52\" height=\"32\" x=\"238\" y=\"20\" class=\"frame-background\" rx=\"0\" ry=\"0\"/></g><g class=\"frame-children\"><defs><clipPath id=\"g\" class=\"frame-clip-def frame-clip\"><rect width=\"52\" height=\"32\" x=\"238\" y=\"20\" rx=\"0\" ry=\"0\"/></clipPath></defs><g clip-path=\"url(#g)\"><g class=\"fills\"><rect width=\"52\" height=\"32\" x=\"238\" y=\"20\" class=\"frame-background\" rx=\"0\" ry=\"0\"/></g><g class=\"frame-children\"><g class=\"fills\"><rect width=\"52\" height=\"32\" x=\"238\" y=\"20\" class=\"frame-background\" rx=\"16\" ry=\"16\" style=\"fill:#e7e0ec;fill-opacity:1\"/></g><g class=\"strokes\"><g class=\"inner-stroke-shape\"><defs><clipPath id=\"i\"><use href=\"#h\"/></clipPath><rect id=\"h\" width=\"52\" height=\"32\" x=\"238\" y=\"20\" class=\"frame-background\" rx=\"16\" ry=\"16\" style=\"fill:none;stroke-width:4;stroke:#79747e;stroke-opacity:1\"/></defs><use clip-path=\"url('#i')\" href=\"#h\"/></g></g><g class=\"fills\"><rect width=\"24\" height=\"24\" x=\"243\" y=\"24\" class=\"frame-background\" rx=\"0\" ry=\"0\"/></g><g class=\"frame-children\"><circle cx=\"255\" cy=\"36\" r=\"12\" class=\"fills\" style=\"fill:#79747e;fill-opacity:1\"/><g style=\"fill:#000\"><path d=\"m251.15 40.55-.7-.7L254.3 36l-3.85-3.85.7-.7L255 35.3l3.85-3.85.7.7L255.7 36l3.85 3.85-.7.7L255 36.7l-3.85 3.85Z\" class=\"fills\" style=\"fill:#e7e0ec;fill-opacity:1\"/></g></g></g></g></g><g class=\"fills\"><rect width=\"52\" height=\"32\" x=\"100\" y=\"80\" class=\"frame-background\" rx=\"0\" ry=\"0\"/></g><g class=\"frame-children\"><g class=\"fills\"><rect width=\"52\" height=\"32\" x=\"100\" y=\"80\" class=\"frame-background\" rx=\"0\" ry=\"0\"/></g><g class=\"frame-children\"><g class=\"fills\"><rect width=\"52\" height=\"32\" x=\"100\" y=\"80\" class=\"frame-background\" rx=\"16\" ry=\"16\" style=\"opacity:.12;fill:#1c1b1f;fill-opacity:1\"/></g><circle cx=\"135\" cy=\"96\" r=\"12\" class=\"fills\" style=\"fill:#fffbfe;fill-opacity:1\"/></g></g><g class=\"fills\"><rect width=\"52\" height=\"32\" x=\"100\" y=\"20\" class=\"frame-background\" rx=\"0\" ry=\"0\"/></g><g class=\"frame-children\"><defs><clipPath id=\"j\" class=\"frame-clip-def frame-clip\"><rect width=\"52\" height=\"32\" x=\"100\" y=\"20\" rx=\"0\" ry=\"0\"/></clipPath></defs><g clip-path=\"url(#j)\"><g class=\"fills\"><rect width=\"52\" height=\"32\" x=\"100\" y=\"20\" class=\"frame-background\" rx=\"0\" ry=\"0\"/></g><g class=\"frame-children\"><g class=\"fills\"><rect width=\"52\" height=\"32\" x=\"100\" y=\"20\" class=\"frame-background\" rx=\"16\" ry=\"16\" style=\"fill:#6750a4;fill-opacity:1\"/></g><circle cx=\"135\" cy=\"36\" r=\"12\" class=\"fills\" style=\"fill:#fff;fill-opacity:1\"/></g></g></g><g class=\"fills\"><rect width=\"52\" height=\"32\" x=\"20\" y=\"80\" class=\"frame-background\" rx=\"0\" ry=\"0\"/></g><g class=\"frame-children\"><g class=\"fills\"><rect width=\"52\" height=\"32\" x=\"20\" y=\"80\" class=\"frame-background\" rx=\"16\" ry=\"16\" style=\"opacity:1\"/></g><g class=\"frame-children\"><g class=\"fills\"><rect width=\"52\" height=\"32\" x=\"20\" y=\"80\" class=\"frame-background\" rx=\"16\" ry=\"16\" style=\"opacity:.12;fill:#e7e0ec;fill-opacity:1\"/></g><g class=\"strokes\"><g class=\"inner-stroke-shape\"><defs><clipPath id=\"l\"><use href=\"#k\"/></clipPath><rect id=\"k\" width=\"52\" height=\"32\" x=\"20\" y=\"80\" class=\"frame-background\" rx=\"16\" ry=\"16\" style=\"opacity:.12;fill:none;stroke-width:4;stroke:#1c1b1f;stroke-opacity:1\"/></defs><use clip-path=\"url('#l')\" href=\"#k\"/></g></g><circle cx=\"35\" cy=\"96\" r=\"8\" class=\"fills\" style=\"opacity:.38;fill:#1c1b1f;fill-opacity:1\"/></g></g><g class=\"fills\"><rect width=\"52\" height=\"32\" x=\"20\" y=\"20\" class=\"frame-background\" rx=\"0\" ry=\"0\"/></g><g class=\"frame-children\"><defs><clipPath id=\"m\" class=\"frame-clip-def frame-clip\"><rect width=\"52\" height=\"32\" x=\"20\" y=\"20\" rx=\"0\" ry=\"0\"/></clipPath></defs><g clip-path=\"url(#m)\"><g class=\"fills\"><rect width=\"52\" height=\"32\" x=\"20\" y=\"20\" class=\"frame-background\" rx=\"0\" ry=\"0\"/></g><g class=\"frame-children\"><g class=\"fills\"><rect width=\"52\" height=\"32\" x=\"20\" y=\"20\" class=\"frame-background\" rx=\"16\" ry=\"16\" style=\"fill:#e7e0ec;fill-opacity:1\"/></g><g class=\"strokes\"><g class=\"inner-stroke-shape\"><defs><clipPath id=\"o\"><use href=\"#n\"/></clipPath><rect id=\"n\" width=\"52\" height=\"32\" x=\"20\" y=\"20\" class=\"frame-background\" rx=\"16\" ry=\"16\" style=\"fill:none;stroke-width:4;stroke:#79747e;stroke-opacity:1\"/></defs><use clip-path=\"url('#o')\" href=\"#n\"/></g></g><circle cx=\"35\" cy=\"36\" r=\"8\" class=\"fills\" style=\"fill:#79747e;fill-opacity:1\"/></g></g></g></g></g></svg>"
      ],
      "text/plain": [
       "<IPython.core.display.SVG object>"
      ]
     },
     "metadata": {},
     "output_type": "display_data"
    }
   ],
   "source": [
    "FILENAME = \"switch_full\"\n",
    "svg_original = load_raw_svg_optimize_clean(FILENAME)\n",
    "show_svg(f'../data/svgs/{FILENAME}_optimized.svg')"
   ]
  },
  {
   "cell_type": "code",
   "execution_count": 38,
   "metadata": {},
   "outputs": [
    {
     "name": "stdout",
     "output_type": "stream",
     "text": [
      "\n",
      "<svg width=\"52\" height=\"32\" fill=\"none\" style=\"-webkit-print-color-adjust:exact\"><defs><clipPath id=\"a\" class=\"frame-clip-def frame-clip\"><rect width=\"52\" height=\"32\" rx=\"0\" ry=\"0\" style=\"fill:#fff;fill-opacity:1\"/></clipPath></defs><g clip-path=\"url(#a)\"><g class=\"fills\"><rect width=\"52\" height=\"32\" class=\"frame-background\" rx=\"0\" ry=\"0\" style=\"fill:#fff;fill-opacity:1\"/></g><g class=\"frame-children\"><g class=\"fills\"><rect width=\"52\" height=\"32\" class=\"frame-background\" rx=\"16\" ry=\"16\" style=\"opacity:.12;fill:#009900;fill-opacity:1\"/></g><g class=\"fills\"><rect width=\"24\" height=\"24\" x=\"4\" y=\"4\" class=\"frame-background\" rx=\"0\" ry=\"0\"/></g><g class=\"frame-children\"><circle cx=\"16\" cy=\"16\" r=\"12\" class=\"fills\" style=\"fill:#fff;fill-opacity:1\"/><g style=\"fill:#000\"><path d=\"m14.3 19.9-3.733-3.733.716-.717 3.017 3.017 6.4-6.4.717.716L14.3 19.9Z\" class=\"fills\" style=\"fill:#009900;fill-opacity:1\"/></g></g></g></g></svg>\n",
      "Quality check: True (52.0, 32.0)\n"
     ]
    }
   ],
   "source": [
    "question = f\"\"\"\n",
    "    This is XML for the SVG file with switch elements:\n",
    "\n",
    "    {svg_original}\n",
    "\n",
    "    Generate a new SVG with only one switch, with colors changed - they should be shades of green.\n",
    "\n",
    "    Keep it as short and optimized as you can. \n",
    "    Start with <svg ... and end with </svg>\n",
    "\"\"\"\n",
    "\n",
    "answer = openai.Completion.create(\n",
    "    model=\"text-davinci-003\",\n",
    "    temperature=0.1,\n",
    "    max_tokens=500,\n",
    "    prompt=question).choices[0].text\n",
    "print(answer)\n",
    "print(\"Quality check:\", validate_svg(answer), get_svg_size(answer))"
   ]
  },
  {
   "cell_type": "code",
   "execution_count": 39,
   "metadata": {},
   "outputs": [
    {
     "name": "stdout",
     "output_type": "stream",
     "text": [
      "\n",
      "switch_full_optimized.svg:\n",
      "Done in 43 ms!\n",
      "0.911 KiB - \u001b[32m1.3%\u001b[39m = 0.899 KiB\n"
     ]
    },
    {
     "data": {
      "image/svg+xml": [
       "<svg width=\"52\" height=\"32\" fill=\"none\" style=\"-webkit-print-color-adjust:exact\"><defs><clipPath id=\"a\" class=\"frame-clip-def frame-clip\"><rect width=\"52\" height=\"32\" rx=\"0\" ry=\"0\" style=\"fill:#fff;fill-opacity:1\"/></clipPath></defs><g clip-path=\"url(#a)\"><g class=\"fills\"><rect width=\"52\" height=\"32\" class=\"frame-background\" rx=\"0\" ry=\"0\" style=\"fill:#fff;fill-opacity:1\"/></g><g class=\"frame-children\"><g class=\"fills\"><rect width=\"52\" height=\"32\" class=\"frame-background\" rx=\"16\" ry=\"16\" style=\"opacity:.12;fill:#090;fill-opacity:1\"/></g><g class=\"fills\"><rect width=\"24\" height=\"24\" x=\"4\" y=\"4\" class=\"frame-background\" rx=\"0\" ry=\"0\"/></g><g class=\"frame-children\"><circle cx=\"16\" cy=\"16\" r=\"12\" class=\"fills\" style=\"fill:#fff;fill-opacity:1\"/><g style=\"fill:#000\"><path d=\"m14.3 19.9-3.733-3.733.716-.717 3.017 3.017 6.4-6.4.717.716L14.3 19.9Z\" class=\"fills\" style=\"fill:#090;fill-opacity:1\"/></g></g></g></g></svg>"
      ],
      "text/plain": [
       "<IPython.core.display.SVG object>"
      ]
     },
     "metadata": {},
     "output_type": "display_data"
    }
   ],
   "source": [
    "save_gpt_answer_as_svg(answer, FILENAME)\n",
    "show_svg(f'../generated_data/{FILENAME}_optimized.svg')"
   ]
  },
  {
   "cell_type": "code",
   "execution_count": 18,
   "metadata": {},
   "outputs": [],
   "source": [
    "results_table.add_data(\n",
    "    *[\n",
    "        \"complete\", question, wandb.Html(f'../data/svgs/{FILENAME}_optimized.svg'),\n",
    "        wandb.Html(f'../generated_data/{FILENAME}_optimized.svg'),\n",
    "        svg_original, answer,\n",
    "        validate_svg(answer), get_svg_size(answer)\n",
    "    ]\n",
    ")"
   ]
  },
  {
   "cell_type": "markdown",
   "metadata": {},
   "source": [
    "## Publish results to wandb"
   ]
  },
  {
   "cell_type": "code",
   "execution_count": 19,
   "metadata": {
    "tags": []
   },
   "outputs": [
    {
     "name": "stderr",
     "output_type": "stream",
     "text": [
      "wandb: Network error (ReadTimeout), entering retry loop.\n"
     ]
    }
   ],
   "source": [
    "run.log({\"results_table\": results_table})"
   ]
  },
  {
   "cell_type": "code",
   "execution_count": null,
   "metadata": {},
   "outputs": [],
   "source": []
  }
 ],
 "metadata": {
  "kernelspec": {
   "display_name": "Python 3 (ipykernel)",
   "language": "python",
   "name": "python3"
  },
  "language_info": {
   "codemirror_mode": {
    "name": "ipython",
    "version": 3
   },
   "file_extension": ".py",
   "mimetype": "text/x-python",
   "name": "python",
   "nbconvert_exporter": "python",
   "pygments_lexer": "ipython3",
   "version": "3.10.9"
  }
 },
 "nbformat": 4,
 "nbformat_minor": 4
}
