{
 "cells": [
  {
   "cell_type": "code",
   "execution_count": 10,
   "metadata": {},
   "outputs": [],
   "source": [
    "import yaml\n",
    "import sys, os\n",
    "import tqdm\n",
    "import pandas as pd\n",
    "import pickle\n",
    "\n",
    "from IPython.display import Image, SVG\n",
    "\n",
    "sys.path.append(os.path.abspath(os.path.join(os.getcwd(), os.pardir)))\n",
    "\n",
    "from src.utils import *\n",
    "from src.svg_quality_checks import *\n",
    "from src.gpt_wrappers import *\n",
    "from src.langchain_database import *\n",
    "\n",
    "# show svg \n",
    "def show_svg(file):\n",
    "    display(SVG(file))\n",
    "\n",
    "# load yaml config\n",
    "with open(\"../config.yml\", \"r\") as f:\n",
    "    config = yaml.safe_load(f)"
   ]
  },
  {
   "cell_type": "code",
   "execution_count": 4,
   "metadata": {},
   "outputs": [],
   "source": [
    "import openai\n",
    "import wandb\n",
    "\n",
    "openai.api_key = config[\"OPENAI_KEY\"]\n",
    "os.environ[\"OPENAI_API_KEY\"] = config[\"OPENAI_KEY\"]\n",
    "\n",
    "# run = wandb.init(\n",
    "#     project=config['WANDB_PROJECT'], \n",
    "#     entity=config['WANDB_ENTITY']\n",
    "# )\n",
    "\n",
    "# results_table = wandb.Table(\n",
    "#     columns=[\n",
    "#                 \"system_prompt\", \n",
    "#                 \"question_prompt\",\n",
    "#                 \"input_svg\",\n",
    "#                 \"output_svg\",\n",
    "#                 \"input_svg_code\",\n",
    "#                 \"output_svg_code\",\n",
    "#                 \"valid_check\",\n",
    "#                 \"size_check\"\n",
    "#     ]\n",
    "# )"
   ]
  },
  {
   "cell_type": "code",
   "execution_count": 5,
   "metadata": {},
   "outputs": [],
   "source": [
    "from langchain.prompts import PromptTemplate\n",
    "from langchain.llms import OpenAIChat, OpenAI\n",
    "from langchain.chains.qa_with_sources import load_qa_with_sources_chain"
   ]
  },
  {
   "attachments": {},
   "cell_type": "markdown",
   "metadata": {},
   "source": [
    "## Create OpenAI index\n",
    "download the data in separate folders in the \"training_data_raw folder\"\n",
    "\n",
    "i.e. \"training_data_raw/Footer\" ..."
   ]
  },
  {
   "cell_type": "code",
   "execution_count": 11,
   "metadata": {},
   "outputs": [],
   "source": [
    "# sources = create_sources_from_files(path = \"../training_data_raw/\", \n",
    "#                                     description = \"\",\n",
    "#                                     )\n",
    "\n",
    "# res = []\n",
    "# llm = OpenAIChat(temperature=0.1, model_name=\"gpt-3.5-turbo\")\n",
    "# for i, source in tqdm.tqdm(enumerate(sources)):\n",
    "#     prompt = f\"\"\"\n",
    "#         {sources[i].page_content}.\n",
    "#         Can you tell me shortly 10+ facts about it? \n",
    "#         Talk about: size, colors, shapes, elements, strokes, and text.\n",
    "#         Give me only keywords, comma-separated. \n",
    "#     \"\"\"\n",
    "#     try:\n",
    "#         enriched_description = llm(prompt)\n",
    "#     except:\n",
    "#         enriched_description = \"\"\n",
    "#     sources[i].page_content = enriched_description + sources[i].page_content\n",
    "#     res.append({\"source\": sources[i].metadata[\"source\"], \"enriched_description\": enriched_description})\n",
    "#     pd.DataFrame(res).to_csv(\"enriched_descriptions.csv\", index=False)\n",
    "\n",
    "# save sources as pickle\n",
    "# with open(\"sources.pkl\", \"wb\") as f:\n",
    "#     pickle.dump(sources, f)\n",
    "\n",
    "# chunks = create_chunks_from_the_sources(sources, \n",
    "#                                         separators = [], \n",
    "#                                         chunk_size = 1024, \n",
    "#                                         chunk_overlap = 0\n",
    "#                                         )\n",
    "# index = create_index_from_the_chunks(chunks)\n",
    "# # save index as pickle\n",
    "# with open(\"../resources/index.pkl\", \"wb\") as f:\n",
    "#     pickle.dump(index, f)\n"
   ]
  },
  {
   "cell_type": "code",
   "execution_count": 37,
   "metadata": {},
   "outputs": [],
   "source": [
    "#load sources from pickle\n",
    "with open(\"../resources/sources.pkl\", \"rb\") as f:\n",
    "    sources = pickle.load(f)\n",
    "\n",
    "# load index from pickle\n",
    "with open(\"../resources/index.pkl\", \"rb\") as f:\n",
    "    index = pickle.load(f)"
   ]
  },
  {
   "attachments": {},
   "cell_type": "markdown",
   "metadata": {},
   "source": [
    "# Running experiments"
   ]
  },
  {
   "attachments": {},
   "cell_type": "markdown",
   "metadata": {},
   "source": [
    "## Case 1: no SVG input"
   ]
  },
  {
   "cell_type": "code",
   "execution_count": 31,
   "metadata": {},
   "outputs": [
    {
     "name": "stdout",
     "output_type": "stream",
     "text": [
      "<svg viewBox=\"0 0 300 50\">\n",
      "  <rect x=\"0\" y=\"0\" width=\"100\" height=\"50\" fill=\"#32100fdb\" rx=\"10\" />\n",
      "  <text x=\"25\" y=\"30\" fill=\"#ebedef\" font-size=\"20\">Email</text>\n",
      "  <rect x=\"100\" y=\"0\" width=\"100\" height=\"50\" fill=\"#32100fdb\" rx=\"10\" />\n",
      "  <text x=\"125\" y=\"30\" fill=\"#ebedef\" font-size=\"20\">Post</text>\n",
      "  <rect x=\"200\" y=\"0\" width=\"100\" height=\"50\" fill=\"#32100fdb\" rx=\"10\" />\n",
      "  <text x=\"225\" y=\"30\" fill=\"#ebedef\" font-size=\"20\">Horse</text>\n",
      "  <text x=\"50\" y=\"45\" font-size=\"30\">&#x1F4E7;</text>\n",
      "  <text x=\"150\" y=\"45\" font-size=\"30\">&#x1F4E9;</text>\n",
      "  <text x=\"250\" y=\"45\" font-size=\"30\">&#x1F40E;</text>\n",
      "</svg>\n",
      "Quality check: True (-1.0, -1.0)\n"
     ]
    }
   ],
   "source": [
    "system_prompt = \\\n",
    "\"\"\"\n",
    "    You are an expert in design in different fields, you use different vector graphics tools.\n",
    "    You deal professionally with SVG files, you know how to create complex design with them.\n",
    "    Your main jon is to complete design systems and tokens based on the initial inputs. \n",
    "    These initial inputs are SVG files that can consist of multiple layers, groups, paths, etc.\n",
    "    They can be different elements as icons, logos, buttons, checkboxes, etc. \\n\n",
    "\"\"\"\n",
    "\n",
    "question_prompt = \\\n",
    "\"\"\"=========\n",
    "TASK:\n",
    "Generate SVG of {question}.\n",
    "Keep it as short and optimized as you can, be limited by the tokens.\n",
    "Start with <svg ... and end with </svg>.\n",
    "=========\n",
    "SOURCES:\n",
    "{summaries}\n",
    "=========\n",
    "SVG:\"\"\"\n",
    "\n",
    "template = system_prompt + question_prompt\n",
    "\n",
    "prompt = PromptTemplate(template=template, input_variables=[\"summaries\", \"question\"])\n",
    "chain = load_qa_with_sources_chain(OpenAIChat(temperature=0.1, model_name=\"gpt-3.5-turbo\"), prompt=prompt)\n",
    "# chain = load_qa_with_sources_chain(OpenAI(temperature=0.9, model_name=\"text-davinci-003\", max_tokens=-1), prompt=prompt)\n",
    "\n",
    "question = \"Footer with segmented buttons saying Email, Post, Horse with corresponding emojis\"\n",
    "\n",
    "answer = chain(\n",
    "            {\n",
    "                \"input_documents\": index.similarity_search(question, k=4),\n",
    "                \"question\": question,\n",
    "            },\n",
    "            return_only_outputs=True,\n",
    "        )[\"output_text\"]\n",
    "\n",
    "print(answer)\n",
    "print(\"Quality check:\", validate_svg(answer), get_svg_size(answer))"
   ]
  },
  {
   "cell_type": "code",
   "execution_count": 32,
   "metadata": {},
   "outputs": [
    {
     "data": {
      "text/plain": [
       "[Document(page_content='Text: none Icon_Button_Tonal: <svg viewBox=\"0.00,0.00,48.00,48.00\"><g><g><rect rx=\"20.00\" x=\"4.00\" y=\"4.00\" width=\"40.00\" height=\"40.00\" fill=\"#e8.00def8.00\" /></g><g><g><path', metadata={'source': '../training_data_raw/components_material_design/Icon_Button_Tonal.svg', 'name': 'Icon_Button_Tonal', 'style': 'components_material_design'}),\n",
       " Document(page_content='Size: 156x42, \\nColors: #32100fdb, #ebedef, \\nShapes: rectangle with rounded corners, \\nElements: text, \\nStrokes: none, \\nText: \"Text Button\",', metadata={'source': '../training_data_raw/components_core/Default_Button-1.svg', 'name': 'Default_Button-1', 'style': 'components_core'}),\n",
       " Document(page_content='Size: 156x42, \\nColors: #32100fdb, #ebedef, \\nShapes: rectangle, \\nElements: filter, \\nStrokes: rounded corners, \\nText: \"Text Button\",', metadata={'source': '../training_data_raw/components_core/Default_Button.svg', 'name': 'Default_Button', 'style': 'components_core'}),\n",
       " Document(page_content='Size: 390x64, Elevated, Small, Top, Bar\\nColors: #fffbfe, #6750.00a4.00, #49454.00e, #1.00c1.00b1.00f\\nShapes: Rectangles, Paths\\nElements: Text, Arrow\\nStrokes: None', metadata={'source': '../training_data_raw/components_material_design/Elevated_Small_Top_App_Bar.svg', 'name': 'Elevated_Small_Top_App_Bar', 'style': 'components_material_design'})]"
      ]
     },
     "execution_count": 32,
     "metadata": {},
     "output_type": "execute_result"
    }
   ],
   "source": [
    "index.similarity_search(question, k=4)"
   ]
  },
  {
   "cell_type": "code",
   "execution_count": 33,
   "metadata": {},
   "outputs": [
    {
     "name": "stdout",
     "output_type": "stream",
     "text": [
      "\n",
      "test_optimized.svg:\n",
      "Done in 12 ms!\n",
      "0.584 KiB - 9.2% = 0.53 KiB\n"
     ]
    },
    {
     "data": {
      "image/svg+xml": [
       "<svg viewBox=\"0 0 300 50\"><rect width=\"100\" height=\"50\" fill=\"#32100fdb\" rx=\"10\"/><text x=\"25\" y=\"30\" fill=\"#ebedef\" font-size=\"20\">Email</text><rect width=\"100\" height=\"50\" x=\"100\" fill=\"#32100fdb\" rx=\"10\"/><text x=\"125\" y=\"30\" fill=\"#ebedef\" font-size=\"20\">Post</text><rect width=\"100\" height=\"50\" x=\"200\" fill=\"#32100fdb\" rx=\"10\"/><text x=\"225\" y=\"30\" fill=\"#ebedef\" font-size=\"20\">Horse</text><text x=\"50\" y=\"45\" font-size=\"30\">📧</text><text x=\"150\" y=\"45\" font-size=\"30\">📩</text><text x=\"250\" y=\"45\" font-size=\"30\">🐎</text></svg>"
      ],
      "text/plain": [
       "<IPython.core.display.SVG object>"
      ]
     },
     "metadata": {},
     "output_type": "display_data"
    }
   ],
   "source": [
    "FILENAME = 'test'\n",
    "save_gpt_answer_as_svg(answer, FILENAME)\n",
    "show_svg(f'../generated_data/{FILENAME}_optimized.svg')"
   ]
  },
  {
   "cell_type": "code",
   "execution_count": 39,
   "metadata": {},
   "outputs": [
    {
     "data": {
      "image/svg+xml": [
       "<svg viewBox=\"0 0 48 48\"><rect width=\"40\" height=\"40\" x=\"4\" y=\"4\" fill=\"#e800def8\" rx=\"20\"/><path stroke=\"#fff\" stroke-linecap=\"round\" stroke-linejoin=\"round\" stroke-width=\"2\" d=\"m14.1 14.1 19.8 19.8m0-19.8L14.1 33.9\"/></svg>"
      ],
      "text/plain": [
       "<IPython.core.display.SVG object>"
      ]
     },
     "metadata": {},
     "output_type": "display_data"
    }
   ],
   "source": [
    "show_svg(f'../generated_data/answer4_optimized.svg')"
   ]
  },
  {
   "cell_type": "code",
   "execution_count": 69,
   "metadata": {},
   "outputs": [],
   "source": [
    "# results_table.add_data(\n",
    "#     *[\n",
    "#         system_prompt, question, \n",
    "#         wandb.Html(f'../generated_data/{FILENAME}_optimized.svg'), wandb.Html(f'../generated_data/{FILENAME}_optimized.svg'),\n",
    "#         \"\", answer,\n",
    "#         validate_svg(answer), get_svg_size(answer)\n",
    "#     ]\n",
    "# )"
   ]
  },
  {
   "attachments": {},
   "cell_type": "markdown",
   "metadata": {},
   "source": [
    "## Case 2: SVG input"
   ]
  },
  {
   "cell_type": "code",
   "execution_count": 18,
   "metadata": {},
   "outputs": [
    {
     "name": "stdout",
     "output_type": "stream",
     "text": [
      "\n",
      "segmented_buttons_short_optimized.svg:\n",
      "Done in 60 ms!\n",
      "13.162 KiB - 70.3% = 3.909 KiB\n"
     ]
    },
    {
     "data": {
      "image/svg+xml": [
       "<svg width=\"228\" height=\"48\" fill=\"none\" style=\"-webkit-print-color-adjust:exact\"><defs><clipPath id=\"a\" class=\"frame-clip-def frame-clip\"><rect width=\"228\" height=\"48\" rx=\"0\" ry=\"0\"/></clipPath></defs><g clip-path=\"url(#a)\"><g class=\"fills\"><rect width=\"228\" height=\"48\" class=\"frame-background\" rx=\"0\" ry=\"0\"/></g><g class=\"frame-children\"><defs><clipPath id=\"b\" class=\"frame-clip-def frame-clip\"><rect width=\"220\" height=\"40\" x=\"4\" y=\"4\" rx=\"0\" ry=\"0\"/></clipPath></defs><g clip-path=\"url(#b)\"><g class=\"fills\"><rect width=\"220\" height=\"40\" x=\"4\" y=\"4\" class=\"frame-background\" rx=\"0\" ry=\"0\"/></g><g class=\"frame-children\"><g class=\"fills\"><rect width=\"73\" height=\"40\" x=\"151\" y=\"4\" class=\"frame-background\" rx=\"0\" ry=\"0\"/></g><g class=\"frame-children\"><defs><clipPath id=\"c\" class=\"frame-clip-def frame-clip\"><path d=\"M150 4h54a20 20 0 0 1 20 20 20 20 0 0 1-20 20h-54V4z\"/></clipPath></defs><g clip-path=\"url(#c)\"><g class=\"fills\"><path d=\"M150 4h54a20 20 0 0 1 20 20 20 20 0 0 1-20 20h-54V4z\" class=\"frame-background\"/></g><g class=\"frame-children\"><g class=\"text-container\"><text x=\"162\" y=\"31.852\" class=\"fills\" dominant-baseline=\"ideographic\" lengthAdjust=\"spacingAndGlyphs\" style=\"text-transform:none;font-family:Roboto;letter-spacing:.01px;font-style:normal;font-weight:500;white-space:pre;font-size:14px;text-decoration:none solid #1c1b1f;direction:ltr;fill:#1c1b1f;fill-opacity:1\" textLength=\"50.219\">Enabled</text></g></g></g><g class=\"strokes\"><g class=\"inner-stroke-shape\"><defs><clipPath id=\"e\"><use href=\"#d\"/></clipPath><path id=\"d\" d=\"M150 4h54a20 20 0 0 1 20 20 20 20 0 0 1-20 20h-54V4z\" class=\"frame-background\" style=\"fill:none;stroke-width:2;stroke:#79747e;stroke-opacity:1\"/></defs><use clip-path=\"url('#e')\" href=\"#d\"/></g></g></g><defs><clipPath id=\"f\" class=\"frame-clip-def frame-clip\"><rect width=\"74\" height=\"40\" x=\"77\" y=\"4\" rx=\"0\" ry=\"0\"/></clipPath></defs><g clip-path=\"url(#f)\"><g class=\"fills\"><rect width=\"74\" height=\"40\" x=\"77\" y=\"4\" class=\"frame-background\" rx=\"0\" ry=\"0\"/></g><g class=\"frame-children\"><g class=\"fills\"><rect width=\"74\" height=\"40\" x=\"77\" y=\"4\" class=\"frame-background\" rx=\"0\" ry=\"0\"/></g><g class=\"frame-children\"><g class=\"text-container\"><text x=\"89\" y=\"31.852\" class=\"fills\" dominant-baseline=\"ideographic\" lengthAdjust=\"spacingAndGlyphs\" style=\"text-transform:none;font-family:Roboto;letter-spacing:.01px;font-style:normal;font-weight:500;white-space:pre;font-size:14px;text-decoration:none solid #1c1b1f;direction:ltr;fill:#1c1b1f;fill-opacity:1\" textLength=\"50.219\">Enabled</text></g></g><g class=\"strokes\"><g class=\"inner-stroke-shape\"><defs><clipPath id=\"h\"><use href=\"#g\"/></clipPath><rect id=\"g\" width=\"74\" height=\"40\" x=\"77\" y=\"4\" class=\"frame-background\" rx=\"0\" ry=\"0\" style=\"fill:none;stroke-width:2;stroke:#79747e;stroke-opacity:1\"/></defs><use clip-path=\"url('#h')\" href=\"#g\"/></g></g></g></g><g class=\"fills\"><rect width=\"73\" height=\"40\" x=\"4\" y=\"4\" class=\"frame-background\" rx=\"0\" ry=\"0\"/></g><g class=\"frame-children\"><defs><clipPath id=\"i\" class=\"frame-clip-def frame-clip\"><path d=\"M24 4h54v40H24A20 20 0 0 1 4 24 20 20 0 0 1 24 4z\"/></clipPath></defs><g clip-path=\"url(#i)\"><g class=\"fills\"><path d=\"M24 4h54v40H24A20 20 0 0 1 4 24 20 20 0 0 1 24 4z\" class=\"frame-background\"/></g><g class=\"frame-children\"><g class=\"text-container\"><text x=\"16\" y=\"31.852\" class=\"fills\" dominant-baseline=\"ideographic\" lengthAdjust=\"spacingAndGlyphs\" style=\"text-transform:none;font-family:Roboto;letter-spacing:.01px;font-style:normal;font-weight:500;white-space:pre;font-size:14px;text-decoration:none solid #1c1b1f;direction:ltr;fill:#1c1b1f;fill-opacity:1\" textLength=\"50.219\">Enabled</text></g></g></g><g class=\"strokes\"><g class=\"inner-stroke-shape\"><defs><clipPath id=\"k\"><use href=\"#j\"/></clipPath><path id=\"j\" d=\"M24 4h54v40H24A20 20 0 0 1 4 24 20 20 0 0 1 24 4z\" class=\"frame-background\" style=\"fill:none;stroke-width:2;stroke:#79747e;stroke-opacity:1\"/></defs><use clip-path=\"url('#k')\" href=\"#j\"/></g></g></g></g></g></g></g></svg>"
      ],
      "text/plain": [
       "<IPython.core.display.SVG object>"
      ]
     },
     "metadata": {},
     "output_type": "display_data"
    }
   ],
   "source": [
    "FILENAME = \"segmented_buttons_short\"\n",
    "svg_original = load_raw_svg_optimize_clean(FILENAME)\n",
    "show_svg(f'../data/svgs/{FILENAME}_optimized.svg')"
   ]
  },
  {
   "cell_type": "code",
   "execution_count": 19,
   "metadata": {},
   "outputs": [
    {
     "name": "stdout",
     "output_type": "stream",
     "text": [
      "<svg fill=\"none\" viewBox=\"0.00 0.00 228.00 48.00\">\n",
      "  <style></style>\n",
      "  <defs>\n",
      "    <clipPath id=\"s1.00\">\n",
      "      <rect width=\"228.00\" height=\"48.00\" rx=\"0.00\" ry=\"0.00\"/>\n",
      "    </clipPath>\n",
      "    <clipPath id=\"s2.00\">\n",
      "      <rect width=\"220.00\" height=\"40.00\" x=\"4.00\" y=\"4.00\" rx=\"0.00\" ry=\"0.00\"/>\n",
      "    </clipPath>\n",
      "    <clipPath id=\"s3.00\">\n",
      "      <path d=\"M150.00,4.00h54.00a20.00,20.00,0.00,0.00,1.00,20.00,20.00,20.00,20.00,0.00,0.00,1.00-20.00,20.00h-54.00V4.00z\"/>\n",
      "    </clipPath>\n",
      "    <path id=\"s5.00\" d=\"M150.00,4.00h54.00a20.00,20.00,0.00,0.00,1.00,20.00,20.00,20.00,20.00,0.00,0.00,1.00-20.00,20.00h-54.00V4.00z\" fill=\"#1e92b\" stroke-width=\"2.00\" stroke=\"#79747.00e\"/>\n",
      "    <clipPath id=\"s6.00\">\n",
      "      <rect width=\"74.00\" height=\"40.00\" x=\"77.00\" y=\"4.00\" rx=\"0.00\" ry=\"0.00\"/>\n",
      "    </clipPath>\n",
      "    <rect id=\"s8.00\" width=\"74.00\" height=\"40.00\" x=\"77.00\" y=\"4.00\" rx=\"0.00\" ry=\"0.00\" fill=\"#1e92b\" stroke-width=\"2.00\" stroke=\"#79747.00e\"/>\n",
      "    <clipPath id=\"s9.00\">\n",
      "      <path d=\"M24.00,4.00h54.00v40.00H24.00a20.00,20.00,0.00,0.00,1.00-20.00-20.00,20.00,20.00,0.00,0.00,1.00-20.00,20.00z\"/>\n",
      "    </clipPath>\n",
      "    <path id=\"s11.00\" d=\"M24.00,4.00h54.00v40.00H24.00a20.00,20.00,0.00,0.00,1.00-20.00-20.00,20.00,20.00,0.00,0.00,1.00-20.00,20.00z\" fill=\"#e8def8\" stroke-width=\"2.00\" stroke=\"#79747.00e\"/>\n",
      "  </defs>\n",
      "  <rect width=\"228.00\" height=\"48.00\" class=\"frame-background\" rx=\"0.00\" ry=\"0.00\"/>\n",
      "  <rect width=\"73.00\" height=\"40.00\" x=\"151.00\" y=\"4.00\" class=\"frame-background\" rx=\"0.00\" ry=\"0.00\" clip-path=\"url(#s3.00)\"/>\n",
      "  <rect width=\"73.00\" height=\"40.00\" x=\"4.00\" y=\"4.00\" class=\"frame-background\" rx=\"0.00\" ry=\"0.00\"/>\n",
      "  <rect width=\"74.00\" height=\"40.00\" x=\"77.00\" y=\"4.00\" class=\"frame-background\" rx=\"0.00\" ry=\"0.00\"/>\n",
      "  <rect width=\"73.00\" height=\"40.00\" x=\"4.00\" y=\"4.00\" fill=\"#1e92b\" rx=\"0.00\" ry=\"0.00\" clip-path=\"url(#s9.00)\"/>\n",
      "  <rect width=\"73.00\" height=\"40.00\" x=\"151.00\" y=\"4.00\" fill=\"#1c1b1f\" rx=\"0.00\" ry=\"0.00\" clip-path=\"url(#s3.00)\"/>\n",
      "  <rect width=\"74.00\" height=\"40.00\" x=\"77.00\" y=\"4.00\" fill=\"#1c1b1f\" rx=\"0.00\" ry=\"0.00\" clip-path=\"url(#s6.00)\"/>\n",
      "  <text x=\"162.00\" y=\"31.85\" font-family=\"Roboto\" font-weight=\"500.00\" font-size=\"14.\n",
      "Quality check: False (-1.0, -1.0)\n"
     ]
    }
   ],
   "source": [
    "system_prompt = \\\n",
    "\"\"\"\n",
    "    You are an expert in design in different fields, you use different vector graphics tools.\n",
    "    You deal professionally with SVG files, you know how to create complex design with them.\n",
    "    Your main jon is to complete design systems and tokens based on the initial inputs. \n",
    "    These initial inputs are SVG files that can consist of multiple layers, groups, paths, etc.\n",
    "    They can be different elements as icons, logos, buttons, checkboxes, etc. \\n\n",
    "\"\"\"\n",
    "\n",
    "question_prompt = \\\n",
    "\"\"\"=========\n",
    "TASK:\n",
    "Generate SVG of {question}.\n",
    "Keep it as short and optimized as you can, be limited by the tokens.\n",
    "Start with <svg ... and end with </svg>.\n",
    "=========\n",
    "SIMILAR ELEMENTS:\n",
    "{summaries}\n",
    "=========\n",
    "SVG:\"\"\"\n",
    "\n",
    "template = system_prompt + question_prompt\n",
    "\n",
    "prompt = PromptTemplate(template=template, input_variables=[\"summaries\", \"question\"])\n",
    "chain = load_qa_with_sources_chain(OpenAIChat(temperature=0.9, model_name=\"gpt-3.5-turbo\"), prompt=prompt)\n",
    "\n",
    "question = f\"Segmented buttons the same as in the following SVG but middle button is green {svg_original}\"\n",
    "\n",
    "answer = chain(\n",
    "            {\n",
    "                \"input_documents\": index.similarity_search(question, k=2),\n",
    "                \"question\": question,\n",
    "            },\n",
    "            return_only_outputs=True,\n",
    "        )[\"output_text\"]\n",
    "\n",
    "print(answer)\n",
    "print(\"Quality check:\", validate_svg(answer), get_svg_size(answer))"
   ]
  },
  {
   "cell_type": "code",
   "execution_count": 20,
   "metadata": {},
   "outputs": [
    {
     "ename": "ParseError",
     "evalue": "unclosed token: line 30, column 2 (<string>)",
     "output_type": "error",
     "traceback": [
      "Traceback \u001b[0;36m(most recent call last)\u001b[0m:\n",
      "  File \u001b[1;32m\"/Users/oleksandrhonchar/miniforge3/lib/python3.9/site-packages/IPython/core/interactiveshell.py\"\u001b[0m, line \u001b[1;32m3444\u001b[0m, in \u001b[1;35mrun_code\u001b[0m\n    exec(code_obj, self.user_global_ns, self.user_ns)\n",
      "  File \u001b[1;32m\"/var/folders/kn/z50d24vx3sb3pxlg8lnjg_140000gn/T/ipykernel_23187/4041885526.py\"\u001b[0m, line \u001b[1;32m1\u001b[0m, in \u001b[1;35m<module>\u001b[0m\n    save_gpt_answer_as_svg(answer, FILENAME)\n",
      "  File \u001b[1;32m\"/Users/oleksandrhonchar/Documents/GitHub/penpot_protoprompt/src/utils.py\"\u001b[0m, line \u001b[1;32m84\u001b[0m, in \u001b[1;35msave_gpt_answer_as_svg\u001b[0m\n    svg_short_opt = load_raw_svg_optimize_clean(filename, svg_path = path)\n",
      "  File \u001b[1;32m\"/Users/oleksandrhonchar/Documents/GitHub/penpot_protoprompt/src/utils.py\"\u001b[0m, line \u001b[1;32m67\u001b[0m, in \u001b[1;35mload_raw_svg_optimize_clean\u001b[0m\n    remove_style(f\"{svg_path}/{file_name}.svg\", f\"{svg_path}/{file_name}_optimized.svg\")\n",
      "  File \u001b[1;32m\"/Users/oleksandrhonchar/Documents/GitHub/penpot_protoprompt/src/utils.py\"\u001b[0m, line \u001b[1;32m18\u001b[0m, in \u001b[1;35mremove_style\u001b[0m\n    svg_root = ET.parse(svg_file_path).getroot()\n",
      "  File \u001b[1;32m\"/Users/oleksandrhonchar/miniforge3/lib/python3.9/xml/etree/ElementTree.py\"\u001b[0m, line \u001b[1;32m1229\u001b[0m, in \u001b[1;35mparse\u001b[0m\n    tree.parse(source, parser)\n",
      "\u001b[0;36m  File \u001b[0;32m\"/Users/oleksandrhonchar/miniforge3/lib/python3.9/xml/etree/ElementTree.py\"\u001b[0;36m, line \u001b[0;32m580\u001b[0;36m, in \u001b[0;35mparse\u001b[0;36m\u001b[0m\n\u001b[0;31m    self._root = parser._parse_whole(source)\u001b[0m\n",
      "\u001b[0;36m  File \u001b[0;32m\"<string>\"\u001b[0;36m, line \u001b[0;32munknown\u001b[0m\n\u001b[0;31mParseError\u001b[0m\u001b[0;31m:\u001b[0m unclosed token: line 30, column 2\n"
     ]
    }
   ],
   "source": [
    "save_gpt_answer_as_svg(answer, FILENAME)\n",
    "show_svg(f'../generated_data/{FILENAME}_optimized.svg')"
   ]
  },
  {
   "cell_type": "code",
   "execution_count": null,
   "metadata": {},
   "outputs": [],
   "source": [
    "# results_table.add_data(\n",
    "#     *[\n",
    "#         system_prompt, question, \n",
    "#         wandb.Html(f'../data/svgs/{FILENAME}_optimized.svg'), wandb.Html(f'../generated_data/{FILENAME}_optimized.svg'),\n",
    "#         svg_original, answer,\n",
    "#         validate_svg(answer), get_svg_size(answer)\n",
    "#     ]\n",
    "# )"
   ]
  },
  {
   "attachments": {},
   "cell_type": "markdown",
   "metadata": {},
   "source": [
    "## Log everything"
   ]
  },
  {
   "cell_type": "code",
   "execution_count": null,
   "metadata": {},
   "outputs": [],
   "source": [
    "# run.log({\"results_table\": results_table})"
   ]
  }
 ],
 "metadata": {
  "kernelspec": {
   "display_name": "Python 3",
   "language": "python",
   "name": "python3"
  },
  "language_info": {
   "codemirror_mode": {
    "name": "ipython",
    "version": 3
   },
   "file_extension": ".py",
   "mimetype": "text/x-python",
   "name": "python",
   "nbconvert_exporter": "python",
   "pygments_lexer": "ipython3",
   "version": "3.9.6"
  },
  "orig_nbformat": 4
 },
 "nbformat": 4,
 "nbformat_minor": 2
}
