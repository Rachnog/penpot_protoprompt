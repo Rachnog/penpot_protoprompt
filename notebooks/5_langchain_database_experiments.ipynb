{
 "cells": [
  {
   "cell_type": "code",
   "execution_count": 1,
   "metadata": {},
   "outputs": [],
   "source": [
    "import yaml\n",
    "import sys, os\n",
    "\n",
    "from IPython.display import Image, SVG\n",
    "\n",
    "sys.path.append(os.path.abspath(os.path.join(os.getcwd(), os.pardir)))\n",
    "\n",
    "from src.utils import *\n",
    "from src.svg_quality_checks import *\n",
    "from src.gpt_wrappers import *\n",
    "from src.langchain_database import *\n",
    "\n",
    "# show svg \n",
    "def show_svg(file):\n",
    "    display(SVG(file))\n",
    "\n",
    "# load yaml config\n",
    "with open(\"../config.yml\", \"r\") as f:\n",
    "    config = yaml.safe_load(f)"
   ]
  },
  {
   "cell_type": "code",
   "execution_count": 2,
   "metadata": {},
   "outputs": [
    {
     "name": "stderr",
     "output_type": "stream",
     "text": [
      "Failed to detect the name of this notebook, you can set it manually with the WANDB_NOTEBOOK_NAME environment variable to enable code saving.\n",
      "\u001b[34m\u001b[1mwandb\u001b[0m: Currently logged in as: \u001b[33mrachnogstyle\u001b[0m (\u001b[33mpenpot_protoprompt\u001b[0m). Use \u001b[1m`wandb login --relogin`\u001b[0m to force relogin\n"
     ]
    },
    {
     "data": {
      "text/html": [
       "wandb version 0.15.0 is available!  To upgrade, please run:\n",
       " $ pip install wandb --upgrade"
      ],
      "text/plain": [
       "<IPython.core.display.HTML object>"
      ]
     },
     "metadata": {},
     "output_type": "display_data"
    },
    {
     "data": {
      "text/html": [
       "Tracking run with wandb version 0.13.9"
      ],
      "text/plain": [
       "<IPython.core.display.HTML object>"
      ]
     },
     "metadata": {},
     "output_type": "display_data"
    },
    {
     "data": {
      "text/html": [
       "Run data is saved locally in <code>/Users/oleksandrhonchar/Documents/GitHub/penpot_protoprompt/notebooks/wandb/run-20230420_084409-wbd848qz</code>"
      ],
      "text/plain": [
       "<IPython.core.display.HTML object>"
      ]
     },
     "metadata": {},
     "output_type": "display_data"
    },
    {
     "data": {
      "text/html": [
       "Syncing run <strong><a href=\"https://wandb.ai/penpot_protoprompt/penpot_protoprompt_team/runs/wbd848qz\" target=\"_blank\">denim-water-26</a></strong> to <a href=\"https://wandb.ai/penpot_protoprompt/penpot_protoprompt_team\" target=\"_blank\">Weights & Biases</a> (<a href=\"https://wandb.me/run\" target=\"_blank\">docs</a>)<br/>"
      ],
      "text/plain": [
       "<IPython.core.display.HTML object>"
      ]
     },
     "metadata": {},
     "output_type": "display_data"
    },
    {
     "data": {
      "text/html": [
       " View project at <a href=\"https://wandb.ai/penpot_protoprompt/penpot_protoprompt_team\" target=\"_blank\">https://wandb.ai/penpot_protoprompt/penpot_protoprompt_team</a>"
      ],
      "text/plain": [
       "<IPython.core.display.HTML object>"
      ]
     },
     "metadata": {},
     "output_type": "display_data"
    },
    {
     "data": {
      "text/html": [
       " View run at <a href=\"https://wandb.ai/penpot_protoprompt/penpot_protoprompt_team/runs/wbd848qz\" target=\"_blank\">https://wandb.ai/penpot_protoprompt/penpot_protoprompt_team/runs/wbd848qz</a>"
      ],
      "text/plain": [
       "<IPython.core.display.HTML object>"
      ]
     },
     "metadata": {},
     "output_type": "display_data"
    }
   ],
   "source": [
    "import openai\n",
    "import wandb\n",
    "\n",
    "openai.api_key = config[\"OPENAI_KEY\"]\n",
    "os.environ[\"OPENAI_API_KEY\"] = config[\"OPENAI_KEY\"]\n",
    "\n",
    "run = wandb.init(\n",
    "    project=config['WANDB_PROJECT'], \n",
    "    entity=config['WANDB_ENTITY']\n",
    ")\n",
    "\n",
    "results_table = wandb.Table(\n",
    "    columns=[\n",
    "                \"system_prompt\", \n",
    "                \"question_prompt\",\n",
    "                \"input_svg\",\n",
    "                \"output_svg\",\n",
    "                \"input_svg_code\",\n",
    "                \"output_svg_code\",\n",
    "                \"valid_check\",\n",
    "                \"size_check\"\n",
    "    ]\n",
    ")"
   ]
  },
  {
   "cell_type": "code",
   "execution_count": 3,
   "metadata": {},
   "outputs": [],
   "source": [
    "from langchain.prompts import PromptTemplate\n",
    "from langchain.llms import OpenAIChat\n",
    "from langchain.chains.qa_with_sources import load_qa_with_sources_chain"
   ]
  },
  {
   "attachments": {},
   "cell_type": "markdown",
   "metadata": {},
   "source": [
    "## Create OpenAI index\n",
    "download the data in separate folders in the \"training_data_raw folder\"\n",
    "\n",
    "i.e. \"training_data_raw/Footer\" ..."
   ]
  },
  {
   "cell_type": "code",
   "execution_count": 4,
   "metadata": {},
   "outputs": [],
   "source": [
    "sources = create_sources_from_files(path = \"../training_data_raw\", \n",
    "                                    description = \"This is the SVG for the graphic object\", \n",
    "                                    style = \"Material Design 3\"\n",
    "                                    )\n",
    "chunks = create_chunks_from_the_sources(sources, \n",
    "                                        separators = [], \n",
    "                                        chunk_size = 1024, \n",
    "                                        chunk_overlap = 0\n",
    "                                        )\n",
    "index = create_index_from_the_chunks(chunks)"
   ]
  },
  {
   "attachments": {},
   "cell_type": "markdown",
   "metadata": {},
   "source": [
    "# Running experiments"
   ]
  },
  {
   "attachments": {},
   "cell_type": "markdown",
   "metadata": {},
   "source": [
    "## Case 1: no SVG input"
   ]
  },
  {
   "cell_type": "code",
   "execution_count": 5,
   "metadata": {},
   "outputs": [
    {
     "name": "stderr",
     "output_type": "stream",
     "text": [
      "/Users/oleksandrhonchar/miniforge3/lib/python3.9/site-packages/langchain/llms/openai.py:676: UserWarning: You are trying to use a chat model. This way of initializing it is no longer supported. Instead, please use: `from langchain.chat_models import ChatOpenAI`\n",
      "  warnings.warn(\n"
     ]
    },
    {
     "name": "stdout",
     "output_type": "stream",
     "text": [
      "<svg fill=\"#2ECC71\" viewBox=\"0 0 24 24\">\n",
      "  <path d=\"M19.4 21.4L15.5 17.5C16.4 16.4 17 14.9 17 13C17 9.1 13.9 6 10 6S3 9.1 3 13 6.1 20 10 20c1.9 0 3.6-.6 5-1.6l3.9 3.9c.4.4 1 .4 1.4 0l1.4-1.4c.4-.4.4-1 0-1.4zM5 13c0-2.8 2.2-5 5-5s5 2.2 5 5-2.2 5-5 5-5-2.2-5-5z\"/>\n",
      "</svg>\n",
      "Quality check: True (-1.0, -1.0)\n"
     ]
    }
   ],
   "source": [
    "system_prompt = \\\n",
    "\"\"\"\n",
    "    You are an expert in design in different fields, you use different vector graphics tools.\n",
    "    You deal professionally with SVG files, you know how to create complex design with them.\n",
    "    Your main jon is to complete design systems and tokens based on the initial inputs. \n",
    "    These initial inputs are SVG files that can consist of multiple layers, groups, paths, etc.\n",
    "    They can be different elements as icons, logos, buttons, checkboxes, etc. \\n\n",
    "\"\"\"\n",
    "\n",
    "question_prompt = \\\n",
    "\"\"\"=========\n",
    "TASK:\n",
    "Generate SVG of {question}.\n",
    "Keep it as short and optimized as you can, be limited by the tokens.\n",
    "Start with <svg ... and end with </svg>.\n",
    "=========\n",
    "SIMILAR ELEMENTS:\n",
    "{summaries}\n",
    "=========\n",
    "SVG:\"\"\"\n",
    "\n",
    "template = system_prompt + question_prompt\n",
    "\n",
    "prompt = PromptTemplate(template=template, input_variables=[\"summaries\", \"question\"])\n",
    "chain = load_qa_with_sources_chain(OpenAIChat(temperature=0.9, model_name=\"gpt-3.5-turbo\"), prompt=prompt)\n",
    "\n",
    "question = \"Green filled text field with a search icon\"\n",
    "\n",
    "answer = chain(\n",
    "            {\n",
    "                \"input_documents\": index.similarity_search(question, k=3),\n",
    "                \"question\": question,\n",
    "            },\n",
    "            return_only_outputs=True,\n",
    "        )[\"output_text\"]\n",
    "\n",
    "print(answer)\n",
    "print(\"Quality check:\", validate_svg(answer), get_svg_size(answer))"
   ]
  },
  {
   "cell_type": "code",
   "execution_count": 6,
   "metadata": {},
   "outputs": [
    {
     "name": "stdout",
     "output_type": "stream",
     "text": [
      "\n",
      "test_optimized.svg:\n",
      "Done in 22 ms!\n",
      "0.264 KiB - 5.2% = 0.25 KiB\n"
     ]
    },
    {
     "data": {
      "image/svg+xml": [
       "<svg fill=\"#2ECC71\" viewBox=\"0 0 24 24\"><path d=\"m19.4 21.4-3.9-3.9c.9-1.1 1.5-2.6 1.5-4.5 0-3.9-3.1-7-7-7s-7 3.1-7 7 3.1 7 7 7c1.9 0 3.6-.6 5-1.6l3.9 3.9c.4.4 1 .4 1.4 0l1.4-1.4c.4-.4.4-1 0-1.4zM5 13c0-2.8 2.2-5 5-5s5 2.2 5 5-2.2 5-5 5-5-2.2-5-5z\"/></svg>"
      ],
      "text/plain": [
       "<IPython.core.display.SVG object>"
      ]
     },
     "metadata": {},
     "output_type": "display_data"
    }
   ],
   "source": [
    "FILENAME = 'test'\n",
    "save_gpt_answer_as_svg(answer, FILENAME)\n",
    "show_svg(f'../generated_data/{FILENAME}_optimized.svg')"
   ]
  },
  {
   "cell_type": "code",
   "execution_count": 7,
   "metadata": {},
   "outputs": [],
   "source": [
    "results_table.add_data(\n",
    "    *[\n",
    "        system_prompt, question, \n",
    "        wandb.Html(f'../generated_data/{FILENAME}_optimized.svg'), wandb.Html(f'../generated_data/{FILENAME}_optimized.svg'),\n",
    "        \"\", answer,\n",
    "        validate_svg(answer), get_svg_size(answer)\n",
    "    ]\n",
    ")"
   ]
  },
  {
   "attachments": {},
   "cell_type": "markdown",
   "metadata": {},
   "source": [
    "## Case 2: SVG input"
   ]
  },
  {
   "cell_type": "code",
   "execution_count": 8,
   "metadata": {},
   "outputs": [
    {
     "name": "stdout",
     "output_type": "stream",
     "text": [
      "\n",
      "segmented_buttons_short_optimized.svg:\n",
      "Done in 93 ms!\n",
      "13.162 KiB - 70.3% = 3.909 KiB\n"
     ]
    },
    {
     "data": {
      "image/svg+xml": [
       "<svg width=\"228\" height=\"48\" fill=\"none\" style=\"-webkit-print-color-adjust:exact\"><defs><clipPath id=\"a\" class=\"frame-clip-def frame-clip\"><rect width=\"228\" height=\"48\" rx=\"0\" ry=\"0\"/></clipPath></defs><g clip-path=\"url(#a)\"><g class=\"fills\"><rect width=\"228\" height=\"48\" class=\"frame-background\" rx=\"0\" ry=\"0\"/></g><g class=\"frame-children\"><defs><clipPath id=\"b\" class=\"frame-clip-def frame-clip\"><rect width=\"220\" height=\"40\" x=\"4\" y=\"4\" rx=\"0\" ry=\"0\"/></clipPath></defs><g clip-path=\"url(#b)\"><g class=\"fills\"><rect width=\"220\" height=\"40\" x=\"4\" y=\"4\" class=\"frame-background\" rx=\"0\" ry=\"0\"/></g><g class=\"frame-children\"><g class=\"fills\"><rect width=\"73\" height=\"40\" x=\"151\" y=\"4\" class=\"frame-background\" rx=\"0\" ry=\"0\"/></g><g class=\"frame-children\"><defs><clipPath id=\"c\" class=\"frame-clip-def frame-clip\"><path d=\"M150 4h54a20 20 0 0 1 20 20 20 20 0 0 1-20 20h-54V4z\"/></clipPath></defs><g clip-path=\"url(#c)\"><g class=\"fills\"><path d=\"M150 4h54a20 20 0 0 1 20 20 20 20 0 0 1-20 20h-54V4z\" class=\"frame-background\"/></g><g class=\"frame-children\"><g class=\"text-container\"><text x=\"162\" y=\"31.852\" class=\"fills\" dominant-baseline=\"ideographic\" lengthAdjust=\"spacingAndGlyphs\" style=\"text-transform:none;font-family:Roboto;letter-spacing:.01px;font-style:normal;font-weight:500;white-space:pre;font-size:14px;text-decoration:none solid #1c1b1f;direction:ltr;fill:#1c1b1f;fill-opacity:1\" textLength=\"50.219\">Enabled</text></g></g></g><g class=\"strokes\"><g class=\"inner-stroke-shape\"><defs><clipPath id=\"e\"><use href=\"#d\"/></clipPath><path id=\"d\" d=\"M150 4h54a20 20 0 0 1 20 20 20 20 0 0 1-20 20h-54V4z\" class=\"frame-background\" style=\"fill:none;stroke-width:2;stroke:#79747e;stroke-opacity:1\"/></defs><use clip-path=\"url('#e')\" href=\"#d\"/></g></g></g><defs><clipPath id=\"f\" class=\"frame-clip-def frame-clip\"><rect width=\"74\" height=\"40\" x=\"77\" y=\"4\" rx=\"0\" ry=\"0\"/></clipPath></defs><g clip-path=\"url(#f)\"><g class=\"fills\"><rect width=\"74\" height=\"40\" x=\"77\" y=\"4\" class=\"frame-background\" rx=\"0\" ry=\"0\"/></g><g class=\"frame-children\"><g class=\"fills\"><rect width=\"74\" height=\"40\" x=\"77\" y=\"4\" class=\"frame-background\" rx=\"0\" ry=\"0\"/></g><g class=\"frame-children\"><g class=\"text-container\"><text x=\"89\" y=\"31.852\" class=\"fills\" dominant-baseline=\"ideographic\" lengthAdjust=\"spacingAndGlyphs\" style=\"text-transform:none;font-family:Roboto;letter-spacing:.01px;font-style:normal;font-weight:500;white-space:pre;font-size:14px;text-decoration:none solid #1c1b1f;direction:ltr;fill:#1c1b1f;fill-opacity:1\" textLength=\"50.219\">Enabled</text></g></g><g class=\"strokes\"><g class=\"inner-stroke-shape\"><defs><clipPath id=\"h\"><use href=\"#g\"/></clipPath><rect id=\"g\" width=\"74\" height=\"40\" x=\"77\" y=\"4\" class=\"frame-background\" rx=\"0\" ry=\"0\" style=\"fill:none;stroke-width:2;stroke:#79747e;stroke-opacity:1\"/></defs><use clip-path=\"url('#h')\" href=\"#g\"/></g></g></g></g><g class=\"fills\"><rect width=\"73\" height=\"40\" x=\"4\" y=\"4\" class=\"frame-background\" rx=\"0\" ry=\"0\"/></g><g class=\"frame-children\"><defs><clipPath id=\"i\" class=\"frame-clip-def frame-clip\"><path d=\"M24 4h54v40H24A20 20 0 0 1 4 24 20 20 0 0 1 24 4z\"/></clipPath></defs><g clip-path=\"url(#i)\"><g class=\"fills\"><path d=\"M24 4h54v40H24A20 20 0 0 1 4 24 20 20 0 0 1 24 4z\" class=\"frame-background\"/></g><g class=\"frame-children\"><g class=\"text-container\"><text x=\"16\" y=\"31.852\" class=\"fills\" dominant-baseline=\"ideographic\" lengthAdjust=\"spacingAndGlyphs\" style=\"text-transform:none;font-family:Roboto;letter-spacing:.01px;font-style:normal;font-weight:500;white-space:pre;font-size:14px;text-decoration:none solid #1c1b1f;direction:ltr;fill:#1c1b1f;fill-opacity:1\" textLength=\"50.219\">Enabled</text></g></g></g><g class=\"strokes\"><g class=\"inner-stroke-shape\"><defs><clipPath id=\"k\"><use href=\"#j\"/></clipPath><path id=\"j\" d=\"M24 4h54v40H24A20 20 0 0 1 4 24 20 20 0 0 1 24 4z\" class=\"frame-background\" style=\"fill:none;stroke-width:2;stroke:#79747e;stroke-opacity:1\"/></defs><use clip-path=\"url('#k')\" href=\"#j\"/></g></g></g></g></g></g></g></svg>"
      ],
      "text/plain": [
       "<IPython.core.display.SVG object>"
      ]
     },
     "metadata": {},
     "output_type": "display_data"
    }
   ],
   "source": [
    "FILENAME = \"segmented_buttons_short\"\n",
    "svg_original = load_raw_svg_optimize_clean(FILENAME)\n",
    "show_svg(f'../data/svgs/{FILENAME}_optimized.svg')"
   ]
  },
  {
   "cell_type": "code",
   "execution_count": 9,
   "metadata": {},
   "outputs": [
    {
     "name": "stdout",
     "output_type": "stream",
     "text": [
      "<svg width=\"258.00\" height=\"48.00\" fill=\"none\">\n",
      "  <rect x=\"0\" y=\"0\" width=\"258.00\" height=\"48.00\" class=\"frame-background\" rx=\"0.00\" ry=\"0.00\"/>\n",
      "  <rect x=\"4.00\" y=\"4.00\" width=\"74.00\" height=\"40.00\" class=\"frame-background\" rx=\"0.00\" ry=\"0.00\"/>\n",
      "  <text x=\"16.00\" y=\"31.85\" class=\"fills\" dominant-baseline=\"ideographic\" lengthAdjust=\"spacingAndGlyphs\" textLength=\"50.22\" style=\"text-transform:none;font-family:Roboto;letter-spacing:.1.00px;font-style:normal;font-weight:500.00;white-space:pre;font-size:14.00px;text-decoration:none solid #1.00c1.00b1.00f;direction:ltr;fill:#1.00c1.00b1.00f;fill-opacity:1.00\">Enabled</text>\n",
      "  <defs>\n",
      "    <path d=\"m180.00,4.00h54.00a20.00,20.00,0.00,10.00,40.00h-54.00V4.00z\" id=\"a\"/>\n",
      "    <use href=\"#a\" fill=\"none\" stroke-width=\"2.00\" stroke=\"#79747.00e\" clip-path=\"url(#b)\"/>\n",
      "    <path d=\"m77.00,4.00v40.00h104.00V4.00z\" id=\"c\"/>\n",
      "    <use href=\"#c\" fill=\"none\" stroke-width=\"2.00\" stroke=\"#79747.00e\" clip-path=\"url(#d)\"/>\n",
      "  </defs>\n",
      "  <g clip-path=\"url(#e)\">\n",
      "    <rect x=\"77.00\" y=\"4.00\" width=\"74.00\" height=\"40.00\" class=\"frame-background\" rx=\"0.00\" ry=\"0.00\"/>\n",
      "    <text x=\"89.00\" y=\"31.85\" class=\"fills\" dominant-baseline=\"ideographic\" lengthAdjust=\"spacingAndGlyphs\" textLength=\"50.22\" style=\"text-transform:none;font-family:Roboto;letter-spacing:.1.00px;font-style:normal;font-weight:500.00;white-space:pre;font-size:14.00px;text-decoration:none solid #1.00c1.00b1.00f;direction:ltr;fill:#1.00c1.00b1.00f;fill-opacity:1.00\">Enabled</text>\n",
      "  </g>\n",
      "  <path d=\"m24.00,4.00h54.00v40.00H24.00a20.00,20.00,0.00,10.00-40.00z\" fill=\"#e8.00def8.00\"/>\n",
      "</svg>\n",
      "Quality check: True (258.0, 48.0)\n"
     ]
    }
   ],
   "source": [
    "system_prompt = \\\n",
    "\"\"\"\n",
    "    You are an expert in design in different fields, you use different vector graphics tools.\n",
    "    You deal professionally with SVG files, you know how to create complex design with them.\n",
    "    Your main jon is to complete design systems and tokens based on the initial inputs. \n",
    "    These initial inputs are SVG files that can consist of multiple layers, groups, paths, etc.\n",
    "    They can be different elements as icons, logos, buttons, checkboxes, etc. \\n\n",
    "\"\"\"\n",
    "\n",
    "question_prompt = \\\n",
    "\"\"\"=========\n",
    "TASK:\n",
    "Generate SVG of {question}.\n",
    "Keep it as short and optimized as you can, be limited by the tokens.\n",
    "Start with <svg ... and end with </svg>.\n",
    "=========\n",
    "SIMILAR ELEMENTS:\n",
    "{summaries}\n",
    "=========\n",
    "SVG:\"\"\"\n",
    "\n",
    "template = system_prompt + question_prompt\n",
    "\n",
    "prompt = PromptTemplate(template=template, input_variables=[\"summaries\", \"question\"])\n",
    "chain = load_qa_with_sources_chain(OpenAIChat(temperature=0.9, model_name=\"gpt-3.5-turbo\"), prompt=prompt)\n",
    "\n",
    "question = f\"Segmented buttons the same as in the following SVG but middle button is green {svg_original}\"\n",
    "\n",
    "answer = chain(\n",
    "            {\n",
    "                \"input_documents\": index.similarity_search(question, k=2),\n",
    "                \"question\": question,\n",
    "            },\n",
    "            return_only_outputs=True,\n",
    "        )[\"output_text\"]\n",
    "\n",
    "print(answer)\n",
    "print(\"Quality check:\", validate_svg(answer), get_svg_size(answer))"
   ]
  },
  {
   "cell_type": "code",
   "execution_count": 10,
   "metadata": {},
   "outputs": [
    {
     "name": "stdout",
     "output_type": "stream",
     "text": [
      "\n",
      "segmented_buttons_short_optimized.svg:\n",
      "Done in 37 ms!\n",
      "1.56 KiB - 26% = 1.153 KiB\n"
     ]
    },
    {
     "data": {
      "image/svg+xml": [
       "<svg width=\"258\" height=\"48\" fill=\"none\"><rect width=\"258\" height=\"48\" class=\"frame-background\" rx=\"0\" ry=\"0\"/><rect width=\"74\" height=\"40\" x=\"4\" y=\"4\" class=\"frame-background\" rx=\"0\" ry=\"0\"/><text x=\"16\" y=\"31.85\" class=\"fills\" dominant-baseline=\"ideographic\" lengthAdjust=\"spacingAndGlyphs\" style=\"text-transform:none;font-family:Roboto;letter-spacing:.1 0;font-style:normal;font-weight:500;white-space:pre;font-size:14px;text-decoration:none solid #1 0c1 0b1 0f;direction:ltr;fill:#1 0c1 0b1 0f;fill-opacity:1\" textLength=\"50.22\">Enabled</text><defs><path id=\"a\" d=\"M180 4h54a20 20 0 1 0 0 40h-54V4z\"/><path id=\"b\" d=\"M77 4v40h104V4z\"/></defs><g clip-path=\"url(#e)\"><rect width=\"74\" height=\"40\" x=\"77\" y=\"4\" class=\"frame-background\" rx=\"0\" ry=\"0\"/><text x=\"89\" y=\"31.85\" class=\"fills\" dominant-baseline=\"ideographic\" lengthAdjust=\"spacingAndGlyphs\" style=\"text-transform:none;font-family:Roboto;letter-spacing:.1 0;font-style:normal;font-weight:500;white-space:pre;font-size:14px;text-decoration:none solid #1 0c1 0b1 0f;direction:ltr;fill:#1 0c1 0b1 0f;fill-opacity:1\" textLength=\"50.22\">Enabled</text></g><path fill=\"#e8.00def8.00\" d=\"M24 4h54v40H24a20 20 0 1 0 0-40z\"/></svg>"
      ],
      "text/plain": [
       "<IPython.core.display.SVG object>"
      ]
     },
     "metadata": {},
     "output_type": "display_data"
    }
   ],
   "source": [
    "save_gpt_answer_as_svg(answer, FILENAME)\n",
    "show_svg(f'../generated_data/{FILENAME}_optimized.svg')"
   ]
  },
  {
   "cell_type": "code",
   "execution_count": 11,
   "metadata": {},
   "outputs": [],
   "source": [
    "results_table.add_data(\n",
    "    *[\n",
    "        system_prompt, question, \n",
    "        wandb.Html(f'../data/svgs/{FILENAME}_optimized.svg'), wandb.Html(f'../generated_data/{FILENAME}_optimized.svg'),\n",
    "        svg_original, answer,\n",
    "        validate_svg(answer), get_svg_size(answer)\n",
    "    ]\n",
    ")"
   ]
  },
  {
   "attachments": {},
   "cell_type": "markdown",
   "metadata": {},
   "source": [
    "## Log everything"
   ]
  },
  {
   "cell_type": "code",
   "execution_count": 12,
   "metadata": {},
   "outputs": [],
   "source": [
    "run.log({\"results_table\": results_table})"
   ]
  }
 ],
 "metadata": {
  "kernelspec": {
   "display_name": "Python 3",
   "language": "python",
   "name": "python3"
  },
  "language_info": {
   "codemirror_mode": {
    "name": "ipython",
    "version": 3
   },
   "file_extension": ".py",
   "mimetype": "text/x-python",
   "name": "python",
   "nbconvert_exporter": "python",
   "pygments_lexer": "ipython3",
   "version": "3.9.6"
  },
  "orig_nbformat": 4
 },
 "nbformat": 4,
 "nbformat_minor": 2
}
