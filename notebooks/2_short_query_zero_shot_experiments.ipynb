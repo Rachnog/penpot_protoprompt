{
 "cells": [
  {
   "attachments": {},
   "cell_type": "markdown",
   "metadata": {},
   "source": [
    "Local imports and initialization"
   ]
  },
  {
   "cell_type": "code",
   "execution_count": 11,
   "metadata": {},
   "outputs": [],
   "source": [
    "import yaml\n",
    "import sys, os\n",
    "\n",
    "from IPython.display import Image, SVG\n",
    "\n",
    "sys.path.append(os.path.abspath(os.path.join(os.getcwd(), os.pardir)))\n",
    "\n",
    "from src.utils import *\n",
    "from src.svg_quality_checks import *\n",
    "from src.gpt_wrappers import *\n",
    "\n",
    "# show svg \n",
    "def show_svg(file):\n",
    "    display(SVG(file))\n",
    "\n",
    "# load yaml config\n",
    "with open(\"../config.yml\", \"r\") as f:\n",
    "    config = yaml.safe_load(f)\n"
   ]
  },
  {
   "attachments": {},
   "cell_type": "markdown",
   "metadata": {},
   "source": [
    "OpenAI and wandb related imports and initialization"
   ]
  },
  {
   "cell_type": "code",
   "execution_count": 12,
   "metadata": {},
   "outputs": [
    {
     "data": {
      "text/html": [
       "Finishing last run (ID:t0pfh6t0) before initializing another..."
      ],
      "text/plain": [
       "<IPython.core.display.HTML object>"
      ]
     },
     "metadata": {},
     "output_type": "display_data"
    },
    {
     "data": {
      "text/html": [
       "Waiting for W&B process to finish... <strong style=\"color:green\">(success).</strong>"
      ],
      "text/plain": [
       "<IPython.core.display.HTML object>"
      ]
     },
     "metadata": {},
     "output_type": "display_data"
    },
    {
     "data": {
      "text/html": [
       " View run <strong style=\"color:#cdcd00\">comfy-durian-11</strong> at: <a href='https://wandb.ai/penpot_protoprompt/penpot_protoprompt_pablo/runs/t0pfh6t0' target=\"_blank\">https://wandb.ai/penpot_protoprompt/penpot_protoprompt_pablo/runs/t0pfh6t0</a><br/>Synced 5 W&B file(s), 1 media file(s), 3 artifact file(s) and 0 other file(s)"
      ],
      "text/plain": [
       "<IPython.core.display.HTML object>"
      ]
     },
     "metadata": {},
     "output_type": "display_data"
    },
    {
     "data": {
      "text/html": [
       "Find logs at: <code>./wandb/run-20230419_145451-t0pfh6t0/logs</code>"
      ],
      "text/plain": [
       "<IPython.core.display.HTML object>"
      ]
     },
     "metadata": {},
     "output_type": "display_data"
    },
    {
     "data": {
      "text/html": [
       "Successfully finished last run (ID:t0pfh6t0). Initializing new run:<br/>"
      ],
      "text/plain": [
       "<IPython.core.display.HTML object>"
      ]
     },
     "metadata": {},
     "output_type": "display_data"
    },
    {
     "data": {
      "text/html": [
       "Tracking run with wandb version 0.14.2"
      ],
      "text/plain": [
       "<IPython.core.display.HTML object>"
      ]
     },
     "metadata": {},
     "output_type": "display_data"
    },
    {
     "data": {
      "text/html": [
       "Run data is saved locally in <code>/home/diacritica/GIT/penpot_protoprompt/notebooks/wandb/run-20230419_154633-1cb14dks</code>"
      ],
      "text/plain": [
       "<IPython.core.display.HTML object>"
      ]
     },
     "metadata": {},
     "output_type": "display_data"
    },
    {
     "data": {
      "text/html": [
       "Syncing run <strong><a href='https://wandb.ai/penpot_protoprompt/penpot_protoprompt_team/runs/1cb14dks' target=\"_blank\">clean-plant-1</a></strong> to <a href='https://wandb.ai/penpot_protoprompt/penpot_protoprompt_team' target=\"_blank\">Weights & Biases</a> (<a href='https://wandb.me/run' target=\"_blank\">docs</a>)<br/>"
      ],
      "text/plain": [
       "<IPython.core.display.HTML object>"
      ]
     },
     "metadata": {},
     "output_type": "display_data"
    },
    {
     "data": {
      "text/html": [
       " View project at <a href='https://wandb.ai/penpot_protoprompt/penpot_protoprompt_team' target=\"_blank\">https://wandb.ai/penpot_protoprompt/penpot_protoprompt_team</a>"
      ],
      "text/plain": [
       "<IPython.core.display.HTML object>"
      ]
     },
     "metadata": {},
     "output_type": "display_data"
    },
    {
     "data": {
      "text/html": [
       " View run at <a href='https://wandb.ai/penpot_protoprompt/penpot_protoprompt_team/runs/1cb14dks' target=\"_blank\">https://wandb.ai/penpot_protoprompt/penpot_protoprompt_team/runs/1cb14dks</a>"
      ],
      "text/plain": [
       "<IPython.core.display.HTML object>"
      ]
     },
     "metadata": {},
     "output_type": "display_data"
    }
   ],
   "source": [
    "import openai\n",
    "import wandb\n",
    "\n",
    "openai.api_key = config[\"OPENAI_KEY\"]\n",
    "\n",
    "run = wandb.init(\n",
    "    project=config['WANDB_PROJECT'], \n",
    "    entity=config['WANDB_ENTITY']\n",
    ")\n",
    "\n",
    "results_table = wandb.Table(\n",
    "    columns=[\n",
    "                \"system_prompt\", \n",
    "                \"question_prompt\",\n",
    "                \"input_svg\",\n",
    "                \"output_svg\",\n",
    "                \"input_svg_code\",\n",
    "                \"output_svg_code\",\n",
    "                \"valid_check\",\n",
    "                \"size_check\"\n",
    "    ]\n",
    ")"
   ]
  },
  {
   "attachments": {},
   "cell_type": "markdown",
   "metadata": {},
   "source": [
    "# Zero-shot learning (no examples)"
   ]
  },
  {
   "cell_type": "code",
   "execution_count": 44,
   "metadata": {},
   "outputs": [],
   "source": [
    "system_prompt = \"\"\"\n",
    "    You are an expert in user interface design with a focus on progressive website designs.\n",
    "    You understand and manipulate designs, design systems, design elements, design components and design tokens.\n",
    "    You deal professionally with SVG files, you know the entire SVG version 1.1 specification by heart.\n",
    "    You know how to create complex designs elements using SVG version 1.1.\n",
    "    Your main job is to take initial SVG version 1.1 files and create derivative syntactically correct SVG output using additional instructions and inputs.\n",
    "    Your only allowed output for any query is SVG version 1.1 compatible files.\n",
    "\"\"\""
   ]
  },
  {
   "attachments": {},
   "cell_type": "markdown",
   "metadata": {},
   "source": [
    "## Case 1: bottom app bar\n",
    "### Case 1.1 Add a \"+\" on the right side of the bottom app bar"
   ]
  },
  {
   "cell_type": "code",
   "execution_count": 30,
   "metadata": {},
   "outputs": [
    {
     "name": "stdout",
     "output_type": "stream",
     "text": [
      "\n",
      "bottom_app_bar_short_optimized.svg:\n",
      "Done in 61 ms!\n",
      "12.4 KiB - \u001b[32m60.7%\u001b[39m = 4.877 KiB\n"
     ]
    },
    {
     "data": {
      "image/svg+xml": [
       "<svg width=\"390\" height=\"80\" style=\"-webkit-print-color-adjust:exact\" fill=\"none\"><defs><clipPath class=\"frame-clip-def frame-clip\" id=\"a\"><rect rx=\"0\" ry=\"0\" width=\"390\" height=\"80\" style=\"opacity:1\"/></clipPath></defs><g clip-path=\"url(#a)\"><g class=\"fills\"><rect width=\"390\" height=\"80\" class=\"frame-background\" style=\"opacity:1\" ry=\"0\" rx=\"0\"/></g><g class=\"frame-children\"><defs><clipPath class=\"frame-clip-def frame-clip\" id=\"b\"><rect rx=\"0\" ry=\"0\" width=\"390\" height=\"80\"/></clipPath></defs><g clip-path=\"url(#b)\"><g class=\"fills\"><rect rx=\"0\" ry=\"0\" width=\"390\" height=\"80\" class=\"frame-background\"/></g><g class=\"frame-children\"><rect rx=\"0\" ry=\"0\" width=\"390\" height=\"80\" style=\"fill:#fffbfe;fill-opacity:1\" class=\"fills\"/><rect rx=\"0\" ry=\"0\" width=\"390\" height=\"80\" style=\"opacity:.08;fill:#6750a4;fill-opacity:1\" class=\"fills\"/></g></g><defs><clipPath class=\"frame-clip-def frame-clip\" id=\"c\"><rect rx=\"0\" ry=\"0\" width=\"390\" height=\"80\"/></clipPath></defs><g clip-path=\"url(#c)\"><g class=\"fills\"><rect rx=\"0\" ry=\"0\" width=\"390\" height=\"80\" class=\"frame-background\"/></g><g class=\"frame-children\"><defs><clipPath class=\"frame-clip-def frame-clip\" id=\"d\"><rect rx=\"0\" ry=\"0\" x=\"4\" y=\"12\" width=\"370\" height=\"48\"/></clipPath></defs><g clip-path=\"url(#d)\"><g class=\"fills\"><rect rx=\"0\" ry=\"0\" x=\"4\" y=\"12\" width=\"370\" height=\"48\" class=\"frame-background\"/></g><g class=\"frame-children\"><g class=\"fills\"><rect rx=\"0\" ry=\"0\" x=\"172\" y=\"12\" width=\"48\" height=\"48\" class=\"frame-background\"/></g><g class=\"frame-children\"><g class=\"fills\"><rect rx=\"0\" ry=\"0\" x=\"184\" y=\"24\" width=\"24\" height=\"24\" class=\"frame-background\"/></g><g class=\"frame-children\"><path d=\"m203.9 44.975-6.575-6.575c-.5.433-1.083.771-1.749 1.012a6.178 6.178 0 0 1-2.126.363c-1.803 0-3.328-.625-4.577-1.875S187 35.142 187 33.375c0-1.767.625-3.275 1.875-4.525 1.25-1.25 2.762-1.875 4.537-1.875s3.284.625 4.525 1.875c1.242 1.25 1.863 2.76 1.863 4.529 0 .714-.117 1.404-.35 2.071a6.323 6.323 0 0 1-1.05 1.875l6.6 6.55-1.1 1.1Zm-10.475-6.7c1.354 0 2.505-.479 3.453-1.438.948-.958 1.422-2.112 1.422-3.462s-.474-2.504-1.422-3.463c-.948-.958-2.099-1.437-3.453-1.437-1.368 0-2.531.479-3.489 1.437-.957.959-1.436 2.113-1.436 3.463s.479 2.504 1.436 3.462c.958.959 2.121 1.438 3.489 1.438Z\" class=\"fills\" style=\"fill:#000\"/></g></g><g class=\"fills\"><rect rx=\"0\" ry=\"0\" x=\"116\" y=\"12\" width=\"48\" height=\"48\" class=\"frame-background\"/></g><g class=\"frame-children\"><g class=\"fills\"><rect rx=\"0\" ry=\"0\" x=\"128\" y=\"24\" width=\"24\" height=\"24\" class=\"frame-background\"/></g><g class=\"frame-children\"><path d=\"M140 37.425a2.368 2.368 0 0 1-1.8-.773c-.483-.515-.725-1.141-.725-1.877V28.5a2.4 2.4 0 0 1 .736-1.771 2.447 2.447 0 0 1 1.788-.729c.701 0 1.297.243 1.788.729.492.486.738 1.077.738 1.771v6.275c0 .736-.242 1.362-.725 1.877a2.368 2.368 0 0 1-1.8.773Zm0-5.7ZM139.25 45v-3.4c-1.767-.183-3.25-.925-4.45-2.225-1.2-1.3-1.8-2.833-1.8-4.6h1.5c0 1.517.536 2.792 1.607 3.825 1.072 1.033 2.367 1.55 3.888 1.55 1.52 0 2.817-.517 3.892-1.55 1.075-1.033 1.613-2.308 1.613-3.825h1.5c0 1.767-.6 3.3-1.8 4.6-1.2 1.3-2.683 2.042-4.45 2.225V45h-1.5Zm.75-9.075a.92.92 0 0 0 .737-.338c.192-.224.288-.495.288-.812V28.5a.952.952 0 0 0-.295-.712 1.003 1.003 0 0 0-.73-.288c-.29 0-.534.096-.73.288a.952.952 0 0 0-.295.712v6.275c0 .317.096.588.287.812a.924.924 0 0 0 .738.338Z\" class=\"fills\" style=\"fill:#000\"/></g></g><g class=\"fills\"><rect rx=\"0\" ry=\"0\" x=\"60\" y=\"12\" width=\"48\" height=\"48\" class=\"frame-background\"/></g><g class=\"frame-children\"><g class=\"fills\"><rect rx=\"0\" ry=\"0\" x=\"72\" y=\"24\" width=\"24\" height=\"24\" class=\"frame-background\"/></g><g class=\"frame-children\"><path d=\"M77.5 44c-.4 0-.75-.15-1.05-.45-.3-.3-.45-.65-.45-1.05v-3.575h1.5V42.5h13v-3.575H92V42.5c0 .4-.15.75-.45 1.05-.3.3-.65.45-1.05.45h-13Zm6.5-3.825-4.825-4.825 1.075-1.075 3 3V28h1.5v9.275l3-3 1.075 1.075L84 40.175Z\" class=\"fills\" style=\"fill:#000\"/></g></g><g class=\"fills\"><rect rx=\"0\" ry=\"0\" x=\"4\" y=\"12\" width=\"48\" height=\"48\" class=\"frame-background\"/></g><g class=\"frame-children\"><g class=\"fills\"><rect rx=\"0\" ry=\"0\" x=\"16\" y=\"24\" width=\"24\" height=\"24\" class=\"frame-background\"/></g><g style=\"fill:#000\" class=\"frame-children\"><path d=\"m28 33.65-1.05-1.05 1.85-1.85h-4.55v-1.5h4.55l-1.85-1.85L28 26.35 31.65 30 28 33.65ZM23.245 46c-.497 0-.92-.177-1.27-.53a1.749 1.749 0 0 1-.525-1.275c0-.497.177-.92.53-1.27.354-.35.779-.525 1.275-.525.497 0 .92.177 1.27.53.35.354.525.779.525 1.275 0 .497-.177.92-.53 1.27-.354.35-.779.525-1.275.525Zm10.1 0c-.497 0-.92-.177-1.27-.53a1.749 1.749 0 0 1-.525-1.275c0-.497.177-.92.53-1.27.354-.35.779-.525 1.275-.525.497 0 .92.177 1.27.53.35.354.525.779.525 1.275 0 .497-.177.92-.53 1.27-.354.35-.779.525-1.275.525ZM17.55 27.5V26h2.9l4.25 9.1h7.193l4.007-7h1.675l-4.05 7.575a2.227 2.227 0 0 1-.714.763 1.724 1.724 0 0 1-.961.287h-7.575l-1.4 2.6H35.15v1.5H23.1c-.628 0-1.105-.25-1.433-.75-.328-.5-.35-1.008-.067-1.525l1.6-2.95-3.7-8.1h-1.95Z\" style=\"fill:#6750a4;fill-opacity:1\" class=\"fills\"/></g></g></g></g></g></g></g></g></svg>"
      ],
      "text/plain": [
       "<IPython.core.display.SVG object>"
      ]
     },
     "metadata": {},
     "output_type": "display_data"
    }
   ],
   "source": [
    "FILENAME = \"bottom_app_bar_short\"\n",
    "svg_original = load_raw_svg_optimize_clean(FILENAME)\n",
    "show_svg(f'../data/svgs/{FILENAME}_optimized.svg')"
   ]
  },
  {
   "cell_type": "code",
   "execution_count": 58,
   "metadata": {},
   "outputs": [],
   "source": [
    "question = f\"\"\"\n",
    "\n",
    "    This is XML representing a SVG file: \\n\n",
    "\n",
    "    {svg_original}\n",
    "\n",
    "    As fast as you can, generate the most optimized version of the above input and produce an exact clone as an output.\n",
    "\"\"\"\n",
    "\n",
    "chatgpt = VanillaChatGPTWrapper(system_prompt)\n",
    "answer = chatgpt.generate(question)\n",
    "print(answer)\n",
    "print(\"Quality check:\", validate_svg(answer), get_svg_size(answer))"
   ]
  },
  {
   "cell_type": "code",
   "execution_count": 55,
   "metadata": {},
   "outputs": [
    {
     "name": "stdout",
     "output_type": "stream",
     "text": [
      "\n",
      "bottom_app_bar_short_optimized.svg:\n",
      "Done in 7 ms!\n",
      "0.08 KiB - \u001b[32m1.2%\u001b[39m = 0.079 KiB\n"
     ]
    },
    {
     "data": {
      "image/svg+xml": [
       "<svg width=\"390\" height=\"80\" fill=\"#00f\"><rect width=\"100%\" height=\"100%\"/></svg>"
      ],
      "text/plain": [
       "<IPython.core.display.SVG object>"
      ]
     },
     "metadata": {},
     "output_type": "display_data"
    }
   ],
   "source": [
    "save_gpt_answer_as_svg(answer, FILENAME)\n",
    "show_svg(f'../generated_data/{FILENAME}_optimized.svg')"
   ]
  },
  {
   "cell_type": "code",
   "execution_count": 18,
   "metadata": {},
   "outputs": [],
   "source": [
    "results_table.add_data(\n",
    "    *[\n",
    "        system_prompt, question, wandb.Html(f'../data/svgs/{FILENAME}_optimized.svg'),\n",
    "        wandb.Html(f'../generated_data/{FILENAME}_optimized.svg'),\n",
    "        svg_original, answer,\n",
    "        validate_svg(answer), get_svg_size(answer)\n",
    "    ]\n",
    ")"
   ]
  },
  {
   "attachments": {},
   "cell_type": "markdown",
   "metadata": {},
   "source": [
    "## Case 2: filled button\n",
    "### Case 2.1: generate other buttons"
   ]
  },
  {
   "cell_type": "code",
   "execution_count": 36,
   "metadata": {},
   "outputs": [
    {
     "name": "stdout",
     "output_type": "stream",
     "text": [
      "\n",
      "common_buttons_short_optimized.svg:\n",
      "Done in 31 ms!\n",
      "3.814 KiB - \u001b[32m68.6%\u001b[39m = 1.199 KiB\n"
     ]
    },
    {
     "data": {
      "image/svg+xml": [
       "<svg width=\"127\" height=\"40\" style=\"-webkit-print-color-adjust:exact\" fill=\"none\"><g class=\"fills\"><rect rx=\"0\" ry=\"0\" width=\"126\" height=\"40\" class=\"frame-background\"/></g><g class=\"frame-children\"><defs><clipPath class=\"frame-clip-def frame-clip\" id=\"a\"><rect rx=\"0\" ry=\"0\" width=\"127\" height=\"40\"/></clipPath></defs><g clip-path=\"url(#a)\"><g class=\"fills\"><rect rx=\"0\" ry=\"0\" width=\"127\" height=\"40\" class=\"frame-background\"/></g><g class=\"frame-children\"><rect rx=\"20\" ry=\"20\" width=\"127\" height=\"40\" style=\"opacity:1;fill:#6750a4;fill-opacity:1\" class=\"fills\"/><defs><clipPath class=\"frame-clip-def frame-clip\" id=\"b\"><rect rx=\"0\" ry=\"0\" width=\"127\" height=\"40\"/></clipPath></defs><g clip-path=\"url(#b)\"><g class=\"fills\"><rect rx=\"0\" ry=\"0\" width=\"127\" height=\"40\" class=\"frame-background\"/></g><g class=\"frame-children\"><g class=\"text-container\"><text x=\"24\" y=\"27.852\" dominant-baseline=\"ideographic\" textLength=\"78.922\" lengthAdjust=\"spacingAndGlyphs\" style=\"text-transform:none;font-family:Roboto;letter-spacing:.01px;font-style:normal;font-weight:500;white-space:pre;font-size:14px;text-decoration:none solid #fff;direction:ltr;fill:#fff;fill-opacity:1\" class=\"fills\">Filled Button</text></g></g></g></g></g></g></svg>"
      ],
      "text/plain": [
       "<IPython.core.display.SVG object>"
      ]
     },
     "metadata": {},
     "output_type": "display_data"
    }
   ],
   "source": [
    "FILENAME = \"common_buttons_short\"\n",
    "svg_original = load_raw_svg_optimize_clean(FILENAME)\n",
    "show_svg(f'../data/svgs/{FILENAME}_optimized.svg')"
   ]
  },
  {
   "cell_type": "code",
   "execution_count": 37,
   "metadata": {},
   "outputs": [
    {
     "ename": "ParseError",
     "evalue": "junk after document element: line 22, column 0 (<string>)",
     "output_type": "error",
     "traceback": [
      "Traceback \u001b[0;36m(most recent call last)\u001b[0m:\n",
      "\u001b[0m  File \u001b[1;32m~/GIT/penpot_protoprompt/env/lib/python3.10/site-packages/IPython/core/interactiveshell.py:3505\u001b[0m in \u001b[1;35mrun_code\u001b[0m\n    exec(code_obj, self.user_global_ns, self.user_ns)\u001b[0m\n",
      "\u001b[0m  Cell \u001b[1;32mIn[37], line 15\u001b[0m\n    print(\"Quality check:\", validate_svg(answer), get_svg_size(answer))\u001b[0m\n",
      "\u001b[0m  File \u001b[1;32m~/GIT/penpot_protoprompt/src/svg_quality_checks.py:14\u001b[0m in \u001b[1;35mget_svg_size\u001b[0m\n    svg_root = ET.fromstring(svg_string)\u001b[0m\n",
      "\u001b[0;36m  File \u001b[0;32m/usr/lib/python3.10/xml/etree/ElementTree.py:1342\u001b[0;36m in \u001b[0;35mXML\u001b[0;36m\n\u001b[0;31m    parser.feed(text)\u001b[0;36m\n",
      "\u001b[0;36m  File \u001b[0;32m<string>\u001b[0;36m\u001b[0m\n\u001b[0;31mParseError\u001b[0m\u001b[0;31m:\u001b[0m junk after document element: line 22, column 0\n"
     ]
    }
   ],
   "source": [
    "question = f\"\"\"\n",
    "    This is XML for the SVG file with a single button filled with color: \\n\n",
    "\n",
    "    {svg_original}\n",
    "\n",
    "    Generate SVG with same button, but variants: filled, elevated and outlined.\n",
    "\n",
    "    Keep it as short and optimized as you can. \n",
    "    Place buttons one under another, adjust the SVG size accordingly.\n",
    "    Start with <svg ... and end with </svg>\n",
    "\"\"\"\n",
    "\n",
    "chatgpt = VanillaChatGPTWrapper(system_prompt)\n",
    "answer = chatgpt.generate(question)\n",
    "print(answer)\n",
    "print(\"Quality check:\", validate_svg(answer), get_svg_size(answer))"
   ]
  },
  {
   "cell_type": "code",
   "execution_count": 12,
   "metadata": {},
   "outputs": [
    {
     "ename": "ParseError",
     "evalue": "unclosed token: line 1, column 3374 (<string>)",
     "output_type": "error",
     "traceback": [
      "Traceback \u001b[0;36m(most recent call last)\u001b[0m:\n",
      "\u001b[0m  File \u001b[1;32m~/GIT/penpot_protoprompt/env/lib/python3.10/site-packages/IPython/core/interactiveshell.py:3505\u001b[0m in \u001b[1;35mrun_code\u001b[0m\n    exec(code_obj, self.user_global_ns, self.user_ns)\u001b[0m\n",
      "\u001b[0m  Cell \u001b[1;32mIn[12], line 1\u001b[0m\n    save_gpt_answer_as_svg(answer, FILENAME)\u001b[0m\n",
      "\u001b[0m  File \u001b[1;32m~/GIT/penpot_protoprompt/src/utils.py:62\u001b[0m in \u001b[1;35msave_gpt_answer_as_svg\u001b[0m\n    svg_short_opt = load_raw_svg_optimize_clean(filename, svg_path = path)\u001b[0m\n",
      "\u001b[0m  File \u001b[1;32m~/GIT/penpot_protoprompt/src/utils.py:46\u001b[0m in \u001b[1;35mload_raw_svg_optimize_clean\u001b[0m\n    remove_style(f\"{svg_path}/{file_name}.svg\", f\"{svg_path}/{file_name}_optimized.svg\")\u001b[0m\n",
      "\u001b[0m  File \u001b[1;32m~/GIT/penpot_protoprompt/src/utils.py:17\u001b[0m in \u001b[1;35mremove_style\u001b[0m\n    svg_root = ET.parse(svg_file_path).getroot()\u001b[0m\n",
      "\u001b[0m  File \u001b[1;32m/usr/lib/python3.10/xml/etree/ElementTree.py:1222\u001b[0m in \u001b[1;35mparse\u001b[0m\n    tree.parse(source, parser)\u001b[0m\n",
      "\u001b[0;36m  File \u001b[0;32m/usr/lib/python3.10/xml/etree/ElementTree.py:580\u001b[0;36m in \u001b[0;35mparse\u001b[0;36m\n\u001b[0;31m    self._root = parser._parse_whole(source)\u001b[0;36m\n",
      "\u001b[0;36m  File \u001b[0;32m<string>\u001b[0;36m\u001b[0m\n\u001b[0;31mParseError\u001b[0m\u001b[0;31m:\u001b[0m unclosed token: line 1, column 3374\n"
     ]
    }
   ],
   "source": [
    "save_gpt_answer_as_svg(answer, FILENAME)\n",
    "show_svg(f'../generated_data/{FILENAME}_optimized.svg')"
   ]
  },
  {
   "cell_type": "code",
   "execution_count": 81,
   "metadata": {},
   "outputs": [
    {
     "ename": "ParseError",
     "evalue": "junk after document element: line 36, column 0 (<string>)",
     "output_type": "error",
     "traceback": [
      "Traceback \u001b[0;36m(most recent call last)\u001b[0m:\n",
      "\u001b[0m  File \u001b[1;32m~/GIT/penpot_protoprompt/env/lib/python3.10/site-packages/IPython/core/interactiveshell.py:3505\u001b[0m in \u001b[1;35mrun_code\u001b[0m\n    exec(code_obj, self.user_global_ns, self.user_ns)\u001b[0m\n",
      "\u001b[0m  Cell \u001b[1;32mIn[81], line 5\u001b[0m\n    validate_svg(answer), get_svg_size(answer)\u001b[0m\n",
      "\u001b[0m  File \u001b[1;32m~/GIT/penpot_protoprompt/src/svg_quality_checks.py:14\u001b[0m in \u001b[1;35mget_svg_size\u001b[0m\n    svg_root = ET.fromstring(svg_string)\u001b[0m\n",
      "\u001b[0;36m  File \u001b[0;32m/usr/lib/python3.10/xml/etree/ElementTree.py:1342\u001b[0;36m in \u001b[0;35mXML\u001b[0;36m\n\u001b[0;31m    parser.feed(text)\u001b[0;36m\n",
      "\u001b[0;36m  File \u001b[0;32m<string>\u001b[0;36m\u001b[0m\n\u001b[0;31mParseError\u001b[0m\u001b[0;31m:\u001b[0m junk after document element: line 36, column 0\n"
     ]
    }
   ],
   "source": [
    "results_table.add_data(\n",
    "    *[\n",
    "        system_prompt, question, wandb.Html(f'../data/svgs/{FILENAME}_optimized.svg'),\n",
    "        wandb.Html(f'../generated_data/{FILENAME}_optimized.svg'),\n",
    "        svg_original, answer,\n",
    "        validate_svg(answer), get_svg_size(answer)\n",
    "    ]\n",
    ")"
   ]
  },
  {
   "attachments": {},
   "cell_type": "markdown",
   "metadata": {},
   "source": [
    "## Case 3: segmented buttons\n",
    "### Case 3.1: make other buttons active one by one"
   ]
  },
  {
   "cell_type": "code",
   "execution_count": 5,
   "metadata": {},
   "outputs": [
    {
     "name": "stdout",
     "output_type": "stream",
     "text": [
      "\n",
      "segmented_buttons_short_optimized.svg:\n",
      "Done in 62 ms!\n",
      "13.162 KiB - \u001b[32m70.3%\u001b[39m = 3.909 KiB\n"
     ]
    },
    {
     "data": {
      "image/svg+xml": [
       "<svg width=\"228\" height=\"48\" style=\"-webkit-print-color-adjust:exact\" fill=\"none\"><defs><clipPath class=\"frame-clip-def frame-clip\" id=\"a\"><rect rx=\"0\" ry=\"0\" width=\"228\" height=\"48\"/></clipPath></defs><g clip-path=\"url(#a)\"><g class=\"fills\"><rect rx=\"0\" ry=\"0\" width=\"228\" height=\"48\" class=\"frame-background\"/></g><g class=\"frame-children\"><defs><clipPath class=\"frame-clip-def frame-clip\" id=\"b\"><rect rx=\"0\" ry=\"0\" x=\"4\" y=\"4\" width=\"220\" height=\"40\"/></clipPath></defs><g clip-path=\"url(#b)\"><g class=\"fills\"><rect rx=\"0\" ry=\"0\" x=\"4\" y=\"4\" width=\"220\" height=\"40\" class=\"frame-background\"/></g><g class=\"frame-children\"><g class=\"fills\"><rect rx=\"0\" ry=\"0\" x=\"151\" y=\"4\" width=\"73\" height=\"40\" class=\"frame-background\"/></g><g class=\"frame-children\"><defs><clipPath class=\"frame-clip-def frame-clip\" id=\"c\"><path d=\"M150 4h54a20 20 0 0 1 20 20 20 20 0 0 1-20 20h-54V4z\"/></clipPath></defs><g clip-path=\"url(#c)\"><g class=\"fills\"><path d=\"M150 4h54a20 20 0 0 1 20 20 20 20 0 0 1-20 20h-54V4z\" class=\"frame-background\"/></g><g class=\"frame-children\"><g class=\"text-container\"><text x=\"162\" y=\"31.852\" dominant-baseline=\"ideographic\" textLength=\"50.219\" lengthAdjust=\"spacingAndGlyphs\" style=\"text-transform:none;font-family:Roboto;letter-spacing:.01px;font-style:normal;font-weight:500;white-space:pre;font-size:14px;text-decoration:none solid #1c1b1f;direction:ltr;fill:#1c1b1f;fill-opacity:1\" class=\"fills\">Enabled</text></g></g></g><g class=\"strokes\"><g class=\"inner-stroke-shape\"><defs><clipPath id=\"e\"><use href=\"#d\"/></clipPath><path d=\"M150 4h54a20 20 0 0 1 20 20 20 20 0 0 1-20 20h-54V4z\" class=\"frame-background\" id=\"d\" style=\"fill:none;stroke-width:2;stroke:#79747e;stroke-opacity:1\"/></defs><use href=\"#d\" clip-path=\"url('#e')\"/></g></g></g><defs><clipPath class=\"frame-clip-def frame-clip\" id=\"f\"><rect rx=\"0\" ry=\"0\" x=\"77\" y=\"4\" width=\"74\" height=\"40\"/></clipPath></defs><g clip-path=\"url(#f)\"><g class=\"fills\"><rect rx=\"0\" ry=\"0\" x=\"77\" y=\"4\" width=\"74\" height=\"40\" class=\"frame-background\"/></g><g class=\"frame-children\"><g class=\"fills\"><rect rx=\"0\" ry=\"0\" x=\"77\" y=\"4\" width=\"74\" height=\"40\" class=\"frame-background\"/></g><g class=\"frame-children\"><g class=\"text-container\"><text x=\"89\" y=\"31.852\" dominant-baseline=\"ideographic\" textLength=\"50.219\" lengthAdjust=\"spacingAndGlyphs\" style=\"text-transform:none;font-family:Roboto;letter-spacing:.01px;font-style:normal;font-weight:500;white-space:pre;font-size:14px;text-decoration:none solid #1c1b1f;direction:ltr;fill:#1c1b1f;fill-opacity:1\" class=\"fills\">Enabled</text></g></g><g class=\"strokes\"><g class=\"inner-stroke-shape\"><defs><clipPath id=\"h\"><use href=\"#g\"/></clipPath><rect width=\"74\" height=\"40\" class=\"frame-background\" x=\"77\" id=\"g\" style=\"fill:none;stroke-width:2;stroke:#79747e;stroke-opacity:1\" ry=\"0\" rx=\"0\" y=\"4\"/></defs><use href=\"#g\" clip-path=\"url('#h')\"/></g></g></g></g><g class=\"fills\"><rect rx=\"0\" ry=\"0\" x=\"4\" y=\"4\" width=\"73\" height=\"40\" class=\"frame-background\"/></g><g class=\"frame-children\"><defs><clipPath class=\"frame-clip-def frame-clip\" id=\"i\"><path d=\"M24 4h54v40H24A20 20 0 0 1 4 24 20 20 0 0 1 24 4z\"/></clipPath></defs><g clip-path=\"url(#i)\"><g class=\"fills\"><path d=\"M24 4h54v40H24A20 20 0 0 1 4 24 20 20 0 0 1 24 4z\" class=\"frame-background\"/></g><g class=\"frame-children\"><g class=\"text-container\"><text x=\"16\" y=\"31.852\" dominant-baseline=\"ideographic\" textLength=\"50.219\" lengthAdjust=\"spacingAndGlyphs\" style=\"text-transform:none;font-family:Roboto;letter-spacing:.01px;font-style:normal;font-weight:500;white-space:pre;font-size:14px;text-decoration:none solid #1c1b1f;direction:ltr;fill:#1c1b1f;fill-opacity:1\" class=\"fills\">Enabled</text></g></g></g><g class=\"strokes\"><g class=\"inner-stroke-shape\"><defs><clipPath id=\"k\"><use href=\"#j\"/></clipPath><path d=\"M24 4h54v40H24A20 20 0 0 1 4 24 20 20 0 0 1 24 4z\" class=\"frame-background\" id=\"j\" style=\"fill:none;stroke-width:2;stroke:#79747e;stroke-opacity:1\"/></defs><use href=\"#j\" clip-path=\"url('#k')\"/></g></g></g></g></g></g></g></svg>"
      ],
      "text/plain": [
       "<IPython.core.display.SVG object>"
      ]
     },
     "metadata": {},
     "output_type": "display_data"
    }
   ],
   "source": [
    "FILENAME = \"segmented_buttons_short\"\n",
    "svg_original = load_raw_svg_optimize_clean(FILENAME)\n",
    "show_svg(f'../data/svgs/{FILENAME}_optimized.svg')"
   ]
  },
  {
   "cell_type": "code",
   "execution_count": 83,
   "metadata": {},
   "outputs": [
    {
     "name": "stdout",
     "output_type": "stream",
     "text": [
      "Quality check: True (228.0, 48.0)\n"
     ]
    }
   ],
   "source": [
    "question = f\"\"\"\n",
    "    This is XML for the SVG file with 3 empty segmented buttons panel: \\n\n",
    "\n",
    "    {svg_original}\n",
    "\n",
    "    Generate SVG with 1 new panel with middle button pressed and active.\n",
    "\n",
    "    Keep it as short and optimized as you can. \n",
    "    Start with <svg ... and end with </svg>\n",
    "\"\"\"\n",
    "\n",
    "chatgpt = VanillaChatGPTWrapper(system_prompt)\n",
    "answer = chatgpt.generate(question)\n",
    "print(\"Quality check:\", validate_svg(answer), get_svg_size(answer))"
   ]
  },
  {
   "cell_type": "code",
   "execution_count": 65,
   "metadata": {},
   "outputs": [
    {
     "ename": "ParseError",
     "evalue": "unclosed token: line 1, column 2656 (<string>)",
     "output_type": "error",
     "traceback": [
      "Traceback \u001b[0;36m(most recent call last)\u001b[0m:\n",
      "\u001b[0m  File \u001b[1;32m~/GIT/penpot_protoprompt/env/lib/python3.10/site-packages/IPython/core/interactiveshell.py:3505\u001b[0m in \u001b[1;35mrun_code\u001b[0m\n    exec(code_obj, self.user_global_ns, self.user_ns)\u001b[0m\n",
      "\u001b[0m  Cell \u001b[1;32mIn[65], line 1\u001b[0m\n    save_gpt_answer_as_svg_and_png(answer, FILENAME)\u001b[0m\n",
      "\u001b[0m  File \u001b[1;32m~/GIT/penpot_protoprompt/src/utils.py:48\u001b[0m in \u001b[1;35msave_gpt_answer_as_svg_and_png\u001b[0m\n    svg_short_opt = load_raw_svg_optimize_clean_save_png(filename, svg_path = path, png_path = path)\u001b[0m\n",
      "\u001b[0m  File \u001b[1;32m~/GIT/penpot_protoprompt/src/utils.py:37\u001b[0m in \u001b[1;35mload_raw_svg_optimize_clean_save_png\u001b[0m\n    remove_style(f\"{svg_path}/{file_name}.svg\", f\"{svg_path}/{file_name}_optimized.svg\")\u001b[0m\n",
      "\u001b[0m  File \u001b[1;32m~/GIT/penpot_protoprompt/src/utils.py:17\u001b[0m in \u001b[1;35mremove_style\u001b[0m\n    svg_root = ET.parse(svg_file_path).getroot()\u001b[0m\n",
      "\u001b[0m  File \u001b[1;32m/usr/lib/python3.10/xml/etree/ElementTree.py:1222\u001b[0m in \u001b[1;35mparse\u001b[0m\n    tree.parse(source, parser)\u001b[0m\n",
      "\u001b[0;36m  File \u001b[0;32m/usr/lib/python3.10/xml/etree/ElementTree.py:580\u001b[0;36m in \u001b[0;35mparse\u001b[0;36m\n\u001b[0;31m    self._root = parser._parse_whole(source)\u001b[0;36m\n",
      "\u001b[0;36m  File \u001b[0;32m<string>\u001b[0;36m\u001b[0m\n\u001b[0;31mParseError\u001b[0m\u001b[0;31m:\u001b[0m unclosed token: line 1, column 2656\n"
     ]
    }
   ],
   "source": [
    "save_gpt_answer_as_svg(answer, FILENAME)\n",
    "show_svg(f'../generated_data/{FILENAME}_optimized.svg')"
   ]
  },
  {
   "cell_type": "code",
   "execution_count": 6,
   "metadata": {},
   "outputs": [
    {
     "ename": "NameError",
     "evalue": "name 'results_table' is not defined",
     "output_type": "error",
     "traceback": [
      "\u001b[0;31m---------------------------------------------------------------------------\u001b[0m",
      "\u001b[0;31mNameError\u001b[0m                                 Traceback (most recent call last)",
      "Cell \u001b[0;32mIn[6], line 1\u001b[0m\n\u001b[0;32m----> 1\u001b[0m results_table\u001b[39m.\u001b[39madd_data(\n\u001b[1;32m      2\u001b[0m     \u001b[39m*\u001b[39m[\n\u001b[1;32m      3\u001b[0m         system_prompt, question, svg_original, answer,\n\u001b[1;32m      4\u001b[0m         validate_svg(answer), get_svg_size(answer)\n\u001b[1;32m      5\u001b[0m     ]\n\u001b[1;32m      6\u001b[0m )\n",
      "\u001b[0;31mNameError\u001b[0m: name 'results_table' is not defined"
     ]
    }
   ],
   "source": [
    "results_table.add_data(\n",
    "    *[\n",
    "        system_prompt, question, wandb.Html(f'../data/svgs/{FILENAME}_optimized.svg'),\n",
    "        wandb.Html(f'../generated_data/{FILENAME}_optimized.svg'),\n",
    "        svg_original, answer,\n",
    "        validate_svg(answer), get_svg_size(answer)\n",
    "    ]\n",
    ")"
   ]
  },
  {
   "attachments": {},
   "cell_type": "markdown",
   "metadata": {},
   "source": [
    "## Case 4: switches\n",
    "### Case 4.1 select elements + change the color palette"
   ]
  },
  {
   "cell_type": "code",
   "execution_count": 7,
   "metadata": {},
   "outputs": [
    {
     "name": "stdout",
     "output_type": "stream",
     "text": [
      "\n",
      "switch_full_optimized.svg:\n",
      "Done in 110 ms!\n",
      "22.691 KiB - \u001b[32m63.9%\u001b[39m = 8.196 KiB\n"
     ]
    },
    {
     "data": {
      "image/svg+xml": [
       "<svg width=\"390\" height=\"240\" style=\"-webkit-print-color-adjust:exact\" fill=\"none\"><defs><clipPath class=\"frame-clip-def frame-clip\" id=\"a\"><rect rx=\"0\" ry=\"0\" width=\"390\" height=\"240\" style=\"fill:#fff;fill-opacity:1\"/></clipPath></defs><g clip-path=\"url(#a)\"><g class=\"fills\"><rect width=\"390\" height=\"240\" class=\"frame-background\" style=\"fill:#fff;fill-opacity:1\" ry=\"0\" rx=\"0\"/></g><g class=\"frame-children\"><g class=\"text-container\"><text x=\"20\" y=\"224\" dominant-baseline=\"ideographic\" textLength=\"104.07\" lengthAdjust=\"spacingAndGlyphs\" style=\"text-transform:none;font-family:Roboto;letter-spacing:.04px;font-style:normal;font-weight:400;white-space:pre;font-size:12px;text-decoration:none solid #000;direction:ltr;fill:#000;fill-opacity:1\" class=\"fills\">Documentation link</text></g><g class=\"fills\"><rect rx=\"0\" ry=\"0\" x=\"318\" y=\"80\" width=\"52\" height=\"32\" class=\"frame-background\"/></g><g class=\"frame-children\"><defs><clipPath class=\"frame-clip-def frame-clip\" id=\"b\"><rect rx=\"16\" ry=\"16\" x=\"318\" y=\"80\" width=\"52\" height=\"32\"/></clipPath></defs><g clip-path=\"url(#b)\"><g class=\"fills\"><rect rx=\"16\" ry=\"16\" x=\"318\" y=\"80\" width=\"52\" height=\"32\" class=\"frame-background\"/></g><g class=\"frame-children\"><g class=\"fills\"><rect width=\"52\" height=\"32\" class=\"frame-background\" x=\"318\" style=\"opacity:.12;fill:#1c1b1f;fill-opacity:1\" ry=\"16\" rx=\"16\" y=\"80\"/></g><g class=\"fills\"><rect rx=\"0\" ry=\"0\" x=\"341\" y=\"84\" width=\"24\" height=\"24\" class=\"frame-background\"/></g><g class=\"frame-children\"><circle cx=\"353\" cy=\"96\" style=\"fill:#fffbfe;fill-opacity:1\" r=\"12\" class=\"fills\"/><g style=\"opacity:.38\"><g style=\"fill:#000\"><path d=\"m351.3 99.9-3.733-3.733.716-.717 3.017 3.017 6.4-6.4.717.716L351.3 99.9Z\" style=\"fill:#1c1b1f;fill-opacity:1\" class=\"fills\"/></g></g></g></g></g></g><g class=\"fills\"><rect rx=\"0\" ry=\"0\" x=\"318\" y=\"20\" width=\"52\" height=\"32\" class=\"frame-background\"/></g><g class=\"frame-children\"><defs><clipPath class=\"frame-clip-def frame-clip\" id=\"c\"><rect rx=\"16\" ry=\"16\" x=\"318\" y=\"20\" width=\"52\" height=\"32\"/></clipPath></defs><g clip-path=\"url(#c)\"><g class=\"fills\"><rect rx=\"16\" ry=\"16\" x=\"318\" y=\"20\" width=\"52\" height=\"32\" class=\"frame-background\"/></g><g class=\"frame-children\"><g class=\"fills\"><rect width=\"52\" height=\"32\" class=\"frame-background\" x=\"318\" style=\"fill:#6750a4;fill-opacity:1\" ry=\"16\" rx=\"16\" y=\"20\"/></g><g class=\"fills\"><rect rx=\"0\" ry=\"0\" x=\"341\" y=\"24\" width=\"24\" height=\"24\" class=\"frame-background\"/></g><g class=\"frame-children\"><circle cx=\"353\" cy=\"36\" style=\"fill:#fff;fill-opacity:1\" r=\"12\" class=\"fills\"/><g style=\"fill:#000\"><path d=\"m351.3 39.9-3.733-3.733.716-.717 3.017 3.017 6.4-6.4.717.716L351.3 39.9Z\" style=\"fill:#21005e;fill-opacity:1\" class=\"fills\"/></g></g></g></g></g><g class=\"fills\"><rect rx=\"0\" ry=\"0\" x=\"238\" y=\"80\" width=\"52\" height=\"32\" class=\"frame-background\"/></g><g class=\"frame-children\"><defs><clipPath class=\"frame-clip-def frame-clip\" id=\"d\"><rect rx=\"0\" ry=\"0\" x=\"238\" y=\"80\" width=\"52\" height=\"32\"/></clipPath></defs><g clip-path=\"url(#d)\"><g class=\"fills\"><rect rx=\"0\" ry=\"0\" x=\"238\" y=\"80\" width=\"52\" height=\"32\" class=\"frame-background\"/></g><g class=\"frame-children\"><g class=\"fills\"><rect width=\"52\" height=\"32\" class=\"frame-background\" x=\"238\" style=\"opacity:.12;fill:#e7e0ec;fill-opacity:1\" ry=\"16\" rx=\"16\" y=\"80\"/></g><g class=\"strokes\"><g class=\"inner-stroke-shape\"><defs><clipPath id=\"f\"><use href=\"#e\"/></clipPath><rect width=\"52\" height=\"32\" class=\"frame-background\" x=\"238\" id=\"e\" style=\"opacity:.12;fill:none;stroke-width:4;stroke:#1c1b1f;stroke-opacity:1\" ry=\"16\" rx=\"16\" y=\"80\"/></defs><use href=\"#e\" clip-path=\"url('#f')\"/></g></g><g class=\"fills\"><rect rx=\"0\" ry=\"0\" x=\"243\" y=\"84\" width=\"24\" height=\"24\" class=\"frame-background\"/></g><g class=\"frame-children\"><circle cx=\"255\" cy=\"96\" style=\"opacity:.38;fill:#1c1b1f;fill-opacity:1\" r=\"12\" class=\"fills\"/><g style=\"opacity:.38\"><g style=\"fill:#000\"><path d=\"m251.15 100.55-.7-.7L254.3 96l-3.85-3.85.7-.7L255 95.3l3.85-3.85.7.7L255.7 96l3.85 3.85-.7.7L255 96.7l-3.85 3.85Z\" style=\"fill:#e7e0ec;fill-opacity:1\" class=\"fills\"/></g></g></g></g></g></g><g class=\"fills\"><rect rx=\"0\" ry=\"0\" x=\"238\" y=\"20\" width=\"52\" height=\"32\" class=\"frame-background\"/></g><g class=\"frame-children\"><defs><clipPath class=\"frame-clip-def frame-clip\" id=\"g\"><rect rx=\"0\" ry=\"0\" x=\"238\" y=\"20\" width=\"52\" height=\"32\"/></clipPath></defs><g clip-path=\"url(#g)\"><g class=\"fills\"><rect rx=\"0\" ry=\"0\" x=\"238\" y=\"20\" width=\"52\" height=\"32\" class=\"frame-background\"/></g><g class=\"frame-children\"><g class=\"fills\"><rect width=\"52\" height=\"32\" class=\"frame-background\" x=\"238\" style=\"fill:#e7e0ec;fill-opacity:1\" ry=\"16\" rx=\"16\" y=\"20\"/></g><g class=\"strokes\"><g class=\"inner-stroke-shape\"><defs><clipPath id=\"i\"><use href=\"#h\"/></clipPath><rect width=\"52\" height=\"32\" class=\"frame-background\" x=\"238\" id=\"h\" style=\"fill:none;stroke-width:4;stroke:#79747e;stroke-opacity:1\" ry=\"16\" rx=\"16\" y=\"20\"/></defs><use href=\"#h\" clip-path=\"url('#i')\"/></g></g><g class=\"fills\"><rect rx=\"0\" ry=\"0\" x=\"243\" y=\"24\" width=\"24\" height=\"24\" class=\"frame-background\"/></g><g class=\"frame-children\"><circle cx=\"255\" cy=\"36\" style=\"fill:#79747e;fill-opacity:1\" r=\"12\" class=\"fills\"/><g style=\"fill:#000\"><path d=\"m251.15 40.55-.7-.7L254.3 36l-3.85-3.85.7-.7L255 35.3l3.85-3.85.7.7L255.7 36l3.85 3.85-.7.7L255 36.7l-3.85 3.85Z\" style=\"fill:#e7e0ec;fill-opacity:1\" class=\"fills\"/></g></g></g></g></g><g class=\"fills\"><rect rx=\"0\" ry=\"0\" x=\"100\" y=\"80\" width=\"52\" height=\"32\" class=\"frame-background\"/></g><g class=\"frame-children\"><g class=\"fills\"><rect rx=\"0\" ry=\"0\" x=\"100\" y=\"80\" width=\"52\" height=\"32\" class=\"frame-background\"/></g><g class=\"frame-children\"><g class=\"fills\"><rect width=\"52\" height=\"32\" class=\"frame-background\" x=\"100\" style=\"opacity:.12;fill:#1c1b1f;fill-opacity:1\" ry=\"16\" rx=\"16\" y=\"80\"/></g><circle cx=\"135\" cy=\"96\" style=\"fill:#fffbfe;fill-opacity:1\" r=\"12\" class=\"fills\"/></g></g><g class=\"fills\"><rect rx=\"0\" ry=\"0\" x=\"100\" y=\"20\" width=\"52\" height=\"32\" class=\"frame-background\"/></g><g class=\"frame-children\"><defs><clipPath class=\"frame-clip-def frame-clip\" id=\"j\"><rect rx=\"0\" ry=\"0\" x=\"100\" y=\"20\" width=\"52\" height=\"32\"/></clipPath></defs><g clip-path=\"url(#j)\"><g class=\"fills\"><rect rx=\"0\" ry=\"0\" x=\"100\" y=\"20\" width=\"52\" height=\"32\" class=\"frame-background\"/></g><g class=\"frame-children\"><g class=\"fills\"><rect width=\"52\" height=\"32\" class=\"frame-background\" x=\"100\" style=\"fill:#6750a4;fill-opacity:1\" ry=\"16\" rx=\"16\" y=\"20\"/></g><circle cx=\"135\" cy=\"36\" style=\"fill:#fff;fill-opacity:1\" r=\"12\" class=\"fills\"/></g></g></g><g class=\"fills\"><rect rx=\"0\" ry=\"0\" x=\"20\" y=\"80\" width=\"52\" height=\"32\" class=\"frame-background\"/></g><g class=\"frame-children\"><g class=\"fills\"><rect width=\"52\" height=\"32\" class=\"frame-background\" x=\"20\" style=\"opacity:1\" ry=\"16\" rx=\"16\" y=\"80\"/></g><g class=\"frame-children\"><g class=\"fills\"><rect width=\"52\" height=\"32\" class=\"frame-background\" x=\"20\" style=\"opacity:.12;fill:#e7e0ec;fill-opacity:1\" ry=\"16\" rx=\"16\" y=\"80\"/></g><g class=\"strokes\"><g class=\"inner-stroke-shape\"><defs><clipPath id=\"l\"><use href=\"#k\"/></clipPath><rect width=\"52\" height=\"32\" class=\"frame-background\" x=\"20\" id=\"k\" style=\"opacity:.12;fill:none;stroke-width:4;stroke:#1c1b1f;stroke-opacity:1\" ry=\"16\" rx=\"16\" y=\"80\"/></defs><use href=\"#k\" clip-path=\"url('#l')\"/></g></g><circle cx=\"35\" cy=\"96\" style=\"opacity:.38;fill:#1c1b1f;fill-opacity:1\" r=\"8\" class=\"fills\"/></g></g><g class=\"fills\"><rect rx=\"0\" ry=\"0\" x=\"20\" y=\"20\" width=\"52\" height=\"32\" class=\"frame-background\"/></g><g class=\"frame-children\"><defs><clipPath class=\"frame-clip-def frame-clip\" id=\"m\"><rect rx=\"0\" ry=\"0\" x=\"20\" y=\"20\" width=\"52\" height=\"32\"/></clipPath></defs><g clip-path=\"url(#m)\"><g class=\"fills\"><rect rx=\"0\" ry=\"0\" x=\"20\" y=\"20\" width=\"52\" height=\"32\" class=\"frame-background\"/></g><g class=\"frame-children\"><g class=\"fills\"><rect width=\"52\" height=\"32\" class=\"frame-background\" x=\"20\" style=\"fill:#e7e0ec;fill-opacity:1\" ry=\"16\" rx=\"16\" y=\"20\"/></g><g class=\"strokes\"><g class=\"inner-stroke-shape\"><defs><clipPath id=\"o\"><use href=\"#n\"/></clipPath><rect width=\"52\" height=\"32\" class=\"frame-background\" x=\"20\" id=\"n\" style=\"fill:none;stroke-width:4;stroke:#79747e;stroke-opacity:1\" ry=\"16\" rx=\"16\" y=\"20\"/></defs><use href=\"#n\" clip-path=\"url('#o')\"/></g></g><circle cx=\"35\" cy=\"36\" style=\"fill:#79747e;fill-opacity:1\" r=\"8\" class=\"fills\"/></g></g></g></g></g></svg>"
      ],
      "text/plain": [
       "<IPython.core.display.SVG object>"
      ]
     },
     "metadata": {},
     "output_type": "display_data"
    }
   ],
   "source": [
    "FILENAME = \"switch_full\"\n",
    "svg_original = load_raw_svg_optimize_clean(FILENAME)\n",
    "show_svg(f'../data/svgs/{FILENAME}_optimized.svg')"
   ]
  },
  {
   "cell_type": "code",
   "execution_count": 18,
   "metadata": {},
   "outputs": [
    {
     "name": "stdout",
     "output_type": "stream",
     "text": [
      "Quality check: True (390.0, 240.0)\n"
     ]
    }
   ],
   "source": [
    "question = f\"\"\"\n",
    "    This is XML for the SVG file with switch elements: \\n\n",
    "\n",
    "    {svg_original}\n",
    "\n",
    "    Take only 2 switches.\n",
    "    Generate a new SVG with these switches, with colors changed - they should be shades of green.\n",
    "\n",
    "    Keep it as short and optimized as you can. \n",
    "    Start with <svg ... and end with </svg>\n",
    "\"\"\"\n",
    "\n",
    "chatgpt = VanillaChatGPTWrapper(system_prompt)\n",
    "answer = chatgpt.generate(question)\n",
    "print(\"Quality check:\", validate_svg(answer), get_svg_size(answer))"
   ]
  },
  {
   "cell_type": "code",
   "execution_count": 19,
   "metadata": {},
   "outputs": [
    {
     "name": "stdout",
     "output_type": "stream",
     "text": [
      "\n",
      "switch_full_optimized.svg:\n",
      "Done in 13 ms!\n",
      "0.324 KiB - \u001b[32m16.9%\u001b[39m = 0.27 KiB\n"
     ]
    },
    {
     "data": {
      "image/png": "[encoded data removed]",
      "text/plain": [
       "<IPython.core.display.Image object>"
      ]
     },
     "execution_count": 19,
     "metadata": {
      "image/png": {
       "height": 300,
       "width": 400
      }
     },
     "output_type": "execute_result"
    }
   ],
   "source": [
    "save_gpt_answer_as_svg(answer, FILENAME)\n",
    "show_svg(f'../generated_data/{FILENAME}_optimized.svg')"
   ]
  },
  {
   "cell_type": "code",
   "execution_count": 68,
   "metadata": {},
   "outputs": [
    {
     "ename": "ParseError",
     "evalue": "unclosed token: line 1, column 3388 (<string>)",
     "output_type": "error",
     "traceback": [
      "Traceback \u001b[0;36m(most recent call last)\u001b[0m:\n",
      "\u001b[0m  File \u001b[1;32m~/GIT/penpot_protoprompt/env/lib/python3.10/site-packages/IPython/core/interactiveshell.py:3505\u001b[0m in \u001b[1;35mrun_code\u001b[0m\n    exec(code_obj, self.user_global_ns, self.user_ns)\u001b[0m\n",
      "\u001b[0m  Cell \u001b[1;32mIn[68], line 5\u001b[0m\n    validate_svg(answer), get_svg_size(answer)\u001b[0m\n",
      "\u001b[0m  File \u001b[1;32m~/GIT/penpot_protoprompt/src/svg_quality_checks.py:14\u001b[0m in \u001b[1;35mget_svg_size\u001b[0m\n    svg_root = ET.fromstring(svg_string)\u001b[0m\n",
      "\u001b[0;36m  File \u001b[0;32m/usr/lib/python3.10/xml/etree/ElementTree.py:1343\u001b[0;36m in \u001b[0;35mXML\u001b[0;36m\n\u001b[0;31m    return parser.close()\u001b[0;36m\n",
      "\u001b[0;36m  File \u001b[0;32m<string>\u001b[0;36m\u001b[0m\n\u001b[0;31mParseError\u001b[0m\u001b[0;31m:\u001b[0m unclosed token: line 1, column 3388\n"
     ]
    }
   ],
   "source": [
    "results_table.add_data(\n",
    "    *[\n",
    "        system_prompt, question, wandb.Html(f'../data/svgs/{FILENAME}_optimized.svg'),\n",
    "        wandb.Html(f'../generated_data/{FILENAME}_optimized.svg'),\n",
    "        svg_original, answer,\n",
    "        validate_svg(answer), get_svg_size(answer)\n",
    "    ]\n",
    ")"
   ]
  },
  {
   "attachments": {},
   "cell_type": "markdown",
   "metadata": {},
   "source": [
    "## Publish results to wandb"
   ]
  },
  {
   "cell_type": "code",
   "execution_count": 19,
   "metadata": {},
   "outputs": [],
   "source": [
    "run.log({\"results_table\": results_table})"
   ]
  }
 ],
 "metadata": {
  "kernelspec": {
   "display_name": "Python 3",
   "language": "python",
   "name": "python3"
  },
  "language_info": {
   "codemirror_mode": {
    "name": "ipython",
    "version": 3
   },
   "file_extension": ".py",
   "mimetype": "text/x-python",
   "name": "python",
   "nbconvert_exporter": "python",
   "pygments_lexer": "ipython3",
   "version": "3.10.6"
  },
  "orig_nbformat": 4
 },
 "nbformat": 4,
 "nbformat_minor": 2
}
