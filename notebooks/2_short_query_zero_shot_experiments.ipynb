{
 "cells": [
  {
   "attachments": {},
   "cell_type": "markdown",
   "metadata": {},
   "source": [
    "Local imports and initialization"
   ]
  },
  {
   "cell_type": "code",
   "execution_count": 20,
   "metadata": {},
   "outputs": [],
   "source": [
    "import yaml\n",
    "import sys, os\n",
    "\n",
    "from IPython.display import Image, SVG\n",
    "\n",
    "sys.path.append(os.path.abspath(os.path.join(os.getcwd(), os.pardir)))\n",
    "\n",
    "from src.utils import *\n",
    "from src.svg_quality_checks import *\n",
    "from src.gpt_wrappers import *\n",
    "\n",
    "# show svg \n",
    "def show_svg(file):\n",
    "    display(SVG(file))\n",
    "\n",
    "# load yaml config\n",
    "with open(\"../config.yml\", \"r\") as f:\n",
    "    config = yaml.safe_load(f)\n"
   ]
  },
  {
   "attachments": {},
   "cell_type": "markdown",
   "metadata": {},
   "source": [
    "OpenAI and wandb related imports and initialization"
   ]
  },
  {
   "cell_type": "code",
   "execution_count": 3,
   "metadata": {},
   "outputs": [
    {
     "name": "stderr",
     "output_type": "stream",
     "text": [
      "Failed to detect the name of this notebook, you can set it manually with the WANDB_NOTEBOOK_NAME environment variable to enable code saving.\n",
      "\u001b[34m\u001b[1mwandb\u001b[0m: Currently logged in as: \u001b[33mdiacritica\u001b[0m (\u001b[33mpenpot_protoprompt\u001b[0m). Use \u001b[1m`wandb login --relogin`\u001b[0m to force relogin\n"
     ]
    },
    {
     "data": {
      "text/html": [
       "Tracking run with wandb version 0.14.2"
      ],
      "text/plain": [
       "<IPython.core.display.HTML object>"
      ]
     },
     "metadata": {},
     "output_type": "display_data"
    },
    {
     "data": {
      "text/html": [
       "Run data is saved locally in <code>/home/diacritica/GIT/penpot_protoprompt/notebooks/wandb/run-20230419_203008-60vsjgck</code>"
      ],
      "text/plain": [
       "<IPython.core.display.HTML object>"
      ]
     },
     "metadata": {},
     "output_type": "display_data"
    },
    {
     "data": {
      "text/html": [
       "Syncing run <strong><a href='https://wandb.ai/penpot_protoprompt/penpot_protoprompt_team/runs/60vsjgck' target=\"_blank\">serene-terrain-19</a></strong> to <a href='https://wandb.ai/penpot_protoprompt/penpot_protoprompt_team' target=\"_blank\">Weights & Biases</a> (<a href='https://wandb.me/run' target=\"_blank\">docs</a>)<br/>"
      ],
      "text/plain": [
       "<IPython.core.display.HTML object>"
      ]
     },
     "metadata": {},
     "output_type": "display_data"
    },
    {
     "data": {
      "text/html": [
       " View project at <a href='https://wandb.ai/penpot_protoprompt/penpot_protoprompt_team' target=\"_blank\">https://wandb.ai/penpot_protoprompt/penpot_protoprompt_team</a>"
      ],
      "text/plain": [
       "<IPython.core.display.HTML object>"
      ]
     },
     "metadata": {},
     "output_type": "display_data"
    },
    {
     "data": {
      "text/html": [
       " View run at <a href='https://wandb.ai/penpot_protoprompt/penpot_protoprompt_team/runs/60vsjgck' target=\"_blank\">https://wandb.ai/penpot_protoprompt/penpot_protoprompt_team/runs/60vsjgck</a>"
      ],
      "text/plain": [
       "<IPython.core.display.HTML object>"
      ]
     },
     "metadata": {},
     "output_type": "display_data"
    }
   ],
   "source": [
    "import openai\n",
    "import wandb\n",
    "\n",
    "openai.api_key = config[\"OPENAI_KEY\"]\n",
    "\n",
    "run = wandb.init(\n",
    "    project=config['WANDB_PROJECT'], \n",
    "    entity=config['WANDB_ENTITY']\n",
    ")\n",
    "\n",
    "results_table = wandb.Table(\n",
    "    columns=[\n",
    "                \"system_prompt\", \n",
    "                \"question_prompt\",\n",
    "                \"input_svg\",\n",
    "                \"output_svg\",\n",
    "                \"input_svg_code\",\n",
    "                \"output_svg_code\",\n",
    "                \"valid_check\",\n",
    "                \"size_check\"\n",
    "    ]\n",
    ")"
   ]
  },
  {
   "attachments": {},
   "cell_type": "markdown",
   "metadata": {},
   "source": [
    "# Zero-shot learning (no examples)"
   ]
  },
  {
   "cell_type": "code",
   "execution_count": 4,
   "metadata": {},
   "outputs": [],
   "source": [
    "system_prompt = \"\"\"\n",
    "    You are an expert in user interface design with a focus on progressive and responsive webapp designs.\n",
    "    You understand and manipulate design systems, design elements, design components and design tokens.\n",
    "    You deal professionally with SVG files, you know the entire SVG version 1.1 specification by heart.\n",
    "    You know how to create both simple and complex designs elements using SVG version 1.1.\n",
    "    Your main job is to take initial SVG version 1.1 files and create derivative syntactically correct SVG output using additional instructions and inputs.\n",
    "    You are able to translate high level abstractions such as icons, shapes and layers into SVG elements and properties.\n",
    "    Your only allowed output for any query is SVG version 1.1 compatible files.\n",
    "\"\"\""
   ]
  },
  {
   "attachments": {},
   "cell_type": "markdown",
   "metadata": {},
   "source": [
    "Case 0: generate a simple SVG"
   ]
  },
  {
   "cell_type": "code",
   "execution_count": 23,
   "metadata": {},
   "outputs": [
    {
     "name": "stdout",
     "output_type": "stream",
     "text": [
      "<svg width=\"300\" height=\"300\">\n",
      "  <rect width=\"100%\" height=\"100%\" style=\"fill: white; stroke: black;\" />\n",
      "  <text x=\"50%\" y=\"50%\" dominant-baseline=\"middle\" text-anchor=\"middle\" font-size=\"50\">HELLO WORLD!</text>\n",
      "</svg>\n",
      "Quality check: True (300.0, 300.0)\n"
     ]
    }
   ],
   "source": [
    "question = f\"\"\"\n",
    "As fast as you can, generate SVG that shows a rectangle 300x300 that has the text 'HELLO WORLD!' in it.\n",
    "\"\"\"\n",
    "\n",
    "chatgpt = VanillaChatGPTWrapper(system_prompt)\n",
    "answer = chatgpt.generate(question)\n",
    "print(answer)\n",
    "print(\"Quality check:\", validate_svg(answer), get_svg_size(answer))"
   ]
  },
  {
   "attachments": {},
   "cell_type": "markdown",
   "metadata": {},
   "source": [
    "## Case 1: bottom app bar\n",
    "### Case 1.1 Add a \"+\" on the right side of the bottom app bar"
   ]
  },
  {
   "cell_type": "code",
   "execution_count": 5,
   "metadata": {},
   "outputs": [
    {
     "name": "stdout",
     "output_type": "stream",
     "text": [
      "\n",
      "bottom_app_bar_short_optimized.svg:\n",
      "Done in 61 ms!\n",
      "12.4 KiB - \u001b[32m60.7%\u001b[39m = 4.877 KiB\n"
     ]
    },
    {
     "data": {
      "image/svg+xml": [
       "<svg width=\"390\" height=\"80\" style=\"-webkit-print-color-adjust:exact\" fill=\"none\"><defs><clipPath class=\"frame-clip-def frame-clip\" id=\"a\"><rect rx=\"0\" ry=\"0\" width=\"390\" height=\"80\" style=\"opacity:1\"/></clipPath></defs><g clip-path=\"url(#a)\"><g class=\"fills\"><rect width=\"390\" height=\"80\" class=\"frame-background\" style=\"opacity:1\" ry=\"0\" rx=\"0\"/></g><g class=\"frame-children\"><defs><clipPath class=\"frame-clip-def frame-clip\" id=\"b\"><rect rx=\"0\" ry=\"0\" width=\"390\" height=\"80\"/></clipPath></defs><g clip-path=\"url(#b)\"><g class=\"fills\"><rect rx=\"0\" ry=\"0\" width=\"390\" height=\"80\" class=\"frame-background\"/></g><g class=\"frame-children\"><rect rx=\"0\" ry=\"0\" width=\"390\" height=\"80\" style=\"fill:#fffbfe;fill-opacity:1\" class=\"fills\"/><rect rx=\"0\" ry=\"0\" width=\"390\" height=\"80\" style=\"opacity:.08;fill:#6750a4;fill-opacity:1\" class=\"fills\"/></g></g><defs><clipPath class=\"frame-clip-def frame-clip\" id=\"c\"><rect rx=\"0\" ry=\"0\" width=\"390\" height=\"80\"/></clipPath></defs><g clip-path=\"url(#c)\"><g class=\"fills\"><rect rx=\"0\" ry=\"0\" width=\"390\" height=\"80\" class=\"frame-background\"/></g><g class=\"frame-children\"><defs><clipPath class=\"frame-clip-def frame-clip\" id=\"d\"><rect rx=\"0\" ry=\"0\" x=\"4\" y=\"12\" width=\"370\" height=\"48\"/></clipPath></defs><g clip-path=\"url(#d)\"><g class=\"fills\"><rect rx=\"0\" ry=\"0\" x=\"4\" y=\"12\" width=\"370\" height=\"48\" class=\"frame-background\"/></g><g class=\"frame-children\"><g class=\"fills\"><rect rx=\"0\" ry=\"0\" x=\"172\" y=\"12\" width=\"48\" height=\"48\" class=\"frame-background\"/></g><g class=\"frame-children\"><g class=\"fills\"><rect rx=\"0\" ry=\"0\" x=\"184\" y=\"24\" width=\"24\" height=\"24\" class=\"frame-background\"/></g><g class=\"frame-children\"><path d=\"m203.9 44.975-6.575-6.575c-.5.433-1.083.771-1.749 1.012a6.178 6.178 0 0 1-2.126.363c-1.803 0-3.328-.625-4.577-1.875S187 35.142 187 33.375c0-1.767.625-3.275 1.875-4.525 1.25-1.25 2.762-1.875 4.537-1.875s3.284.625 4.525 1.875c1.242 1.25 1.863 2.76 1.863 4.529 0 .714-.117 1.404-.35 2.071a6.323 6.323 0 0 1-1.05 1.875l6.6 6.55-1.1 1.1Zm-10.475-6.7c1.354 0 2.505-.479 3.453-1.438.948-.958 1.422-2.112 1.422-3.462s-.474-2.504-1.422-3.463c-.948-.958-2.099-1.437-3.453-1.437-1.368 0-2.531.479-3.489 1.437-.957.959-1.436 2.113-1.436 3.463s.479 2.504 1.436 3.462c.958.959 2.121 1.438 3.489 1.438Z\" class=\"fills\" style=\"fill:#000\"/></g></g><g class=\"fills\"><rect rx=\"0\" ry=\"0\" x=\"116\" y=\"12\" width=\"48\" height=\"48\" class=\"frame-background\"/></g><g class=\"frame-children\"><g class=\"fills\"><rect rx=\"0\" ry=\"0\" x=\"128\" y=\"24\" width=\"24\" height=\"24\" class=\"frame-background\"/></g><g class=\"frame-children\"><path d=\"M140 37.425a2.368 2.368 0 0 1-1.8-.773c-.483-.515-.725-1.141-.725-1.877V28.5a2.4 2.4 0 0 1 .736-1.771 2.447 2.447 0 0 1 1.788-.729c.701 0 1.297.243 1.788.729.492.486.738 1.077.738 1.771v6.275c0 .736-.242 1.362-.725 1.877a2.368 2.368 0 0 1-1.8.773Zm0-5.7ZM139.25 45v-3.4c-1.767-.183-3.25-.925-4.45-2.225-1.2-1.3-1.8-2.833-1.8-4.6h1.5c0 1.517.536 2.792 1.607 3.825 1.072 1.033 2.367 1.55 3.888 1.55 1.52 0 2.817-.517 3.892-1.55 1.075-1.033 1.613-2.308 1.613-3.825h1.5c0 1.767-.6 3.3-1.8 4.6-1.2 1.3-2.683 2.042-4.45 2.225V45h-1.5Zm.75-9.075a.92.92 0 0 0 .737-.338c.192-.224.288-.495.288-.812V28.5a.952.952 0 0 0-.295-.712 1.003 1.003 0 0 0-.73-.288c-.29 0-.534.096-.73.288a.952.952 0 0 0-.295.712v6.275c0 .317.096.588.287.812a.924.924 0 0 0 .738.338Z\" class=\"fills\" style=\"fill:#000\"/></g></g><g class=\"fills\"><rect rx=\"0\" ry=\"0\" x=\"60\" y=\"12\" width=\"48\" height=\"48\" class=\"frame-background\"/></g><g class=\"frame-children\"><g class=\"fills\"><rect rx=\"0\" ry=\"0\" x=\"72\" y=\"24\" width=\"24\" height=\"24\" class=\"frame-background\"/></g><g class=\"frame-children\"><path d=\"M77.5 44c-.4 0-.75-.15-1.05-.45-.3-.3-.45-.65-.45-1.05v-3.575h1.5V42.5h13v-3.575H92V42.5c0 .4-.15.75-.45 1.05-.3.3-.65.45-1.05.45h-13Zm6.5-3.825-4.825-4.825 1.075-1.075 3 3V28h1.5v9.275l3-3 1.075 1.075L84 40.175Z\" class=\"fills\" style=\"fill:#000\"/></g></g><g class=\"fills\"><rect rx=\"0\" ry=\"0\" x=\"4\" y=\"12\" width=\"48\" height=\"48\" class=\"frame-background\"/></g><g class=\"frame-children\"><g class=\"fills\"><rect rx=\"0\" ry=\"0\" x=\"16\" y=\"24\" width=\"24\" height=\"24\" class=\"frame-background\"/></g><g style=\"fill:#000\" class=\"frame-children\"><path d=\"m28 33.65-1.05-1.05 1.85-1.85h-4.55v-1.5h4.55l-1.85-1.85L28 26.35 31.65 30 28 33.65ZM23.245 46c-.497 0-.92-.177-1.27-.53a1.749 1.749 0 0 1-.525-1.275c0-.497.177-.92.53-1.27.354-.35.779-.525 1.275-.525.497 0 .92.177 1.27.53.35.354.525.779.525 1.275 0 .497-.177.92-.53 1.27-.354.35-.779.525-1.275.525Zm10.1 0c-.497 0-.92-.177-1.27-.53a1.749 1.749 0 0 1-.525-1.275c0-.497.177-.92.53-1.27.354-.35.779-.525 1.275-.525.497 0 .92.177 1.27.53.35.354.525.779.525 1.275 0 .497-.177.92-.53 1.27-.354.35-.779.525-1.275.525ZM17.55 27.5V26h2.9l4.25 9.1h7.193l4.007-7h1.675l-4.05 7.575a2.227 2.227 0 0 1-.714.763 1.724 1.724 0 0 1-.961.287h-7.575l-1.4 2.6H35.15v1.5H23.1c-.628 0-1.105-.25-1.433-.75-.328-.5-.35-1.008-.067-1.525l1.6-2.95-3.7-8.1h-1.95Z\" style=\"fill:#6750a4;fill-opacity:1\" class=\"fills\"/></g></g></g></g></g></g></g></g></svg>"
      ],
      "text/plain": [
       "<IPython.core.display.SVG object>"
      ]
     },
     "metadata": {},
     "output_type": "display_data"
    }
   ],
   "source": [
    "FILENAME = \"bottom_app_bar_short\"\n",
    "svg_original = load_raw_svg_optimize_clean(FILENAME)\n",
    "show_svg(f'../data/svgs/{FILENAME}_optimized.svg')"
   ]
  },
  {
   "cell_type": "code",
   "execution_count": 13,
   "metadata": {},
   "outputs": [
    {
     "ename": "KeyboardInterrupt",
     "evalue": "",
     "output_type": "error",
     "traceback": [
      "\u001b[0;31m---------------------------------------------------------------------------\u001b[0m",
      "\u001b[0;31mKeyboardInterrupt\u001b[0m                         Traceback (most recent call last)",
      "Cell \u001b[0;32mIn[13], line 11\u001b[0m\n\u001b[1;32m      1\u001b[0m question \u001b[39m=\u001b[39m \u001b[39mf\u001b[39m\u001b[39m\"\"\"\u001b[39m\n\u001b[1;32m      2\u001b[0m \n\u001b[1;32m      3\u001b[0m \u001b[39m    This is a SVG file containing four distinct elements: \u001b[39m\u001b[39m\\n\u001b[39;00m\n\u001b[0;32m   (...)\u001b[0m\n\u001b[1;32m      7\u001b[0m \u001b[39m    As fast as you can, take the above input and reverse the order of those four elements, then generate the resulting output SVG.\u001b[39m\n\u001b[1;32m      8\u001b[0m \u001b[39m\"\"\"\u001b[39m\n\u001b[1;32m     10\u001b[0m chatgpt \u001b[39m=\u001b[39m VanillaChatGPTWrapper(system_prompt)\n\u001b[0;32m---> 11\u001b[0m answer \u001b[39m=\u001b[39m chatgpt\u001b[39m.\u001b[39;49mgenerate(question)\n\u001b[1;32m     12\u001b[0m \u001b[39mprint\u001b[39m(answer)\n\u001b[1;32m     13\u001b[0m \u001b[39mprint\u001b[39m(\u001b[39m\"\u001b[39m\u001b[39mQuality check:\u001b[39m\u001b[39m\"\u001b[39m, validate_svg(answer), get_svg_size(answer))\n",
      "File \u001b[0;32m~/GIT/penpot_protoprompt/src/gpt_wrappers.py:37\u001b[0m, in \u001b[0;36mVanillaChatGPTWrapper.generate\u001b[0;34m(self, question)\u001b[0m\n\u001b[1;32m     30\u001b[0m \u001b[39mdef\u001b[39;00m \u001b[39mgenerate\u001b[39m(\u001b[39mself\u001b[39m, question):\n\u001b[1;32m     31\u001b[0m     \u001b[39mself\u001b[39m\u001b[39m.\u001b[39mmessages\u001b[39m.\u001b[39mappend(\n\u001b[1;32m     32\u001b[0m         {\n\u001b[1;32m     33\u001b[0m             \u001b[39m\"\u001b[39m\u001b[39mrole\u001b[39m\u001b[39m\"\u001b[39m: \u001b[39m\"\u001b[39m\u001b[39muser\u001b[39m\u001b[39m\"\u001b[39m,\n\u001b[1;32m     34\u001b[0m             \u001b[39m\"\u001b[39m\u001b[39mcontent\u001b[39m\u001b[39m\"\u001b[39m: question\n\u001b[1;32m     35\u001b[0m         }\n\u001b[1;32m     36\u001b[0m     )\n\u001b[0;32m---> 37\u001b[0m     response \u001b[39m=\u001b[39m openai\u001b[39m.\u001b[39;49mChatCompletion\u001b[39m.\u001b[39;49mcreate(\n\u001b[1;32m     38\u001b[0m         model\u001b[39m=\u001b[39;49m\u001b[39mself\u001b[39;49m\u001b[39m.\u001b[39;49mmodel,\n\u001b[1;32m     39\u001b[0m         messages \u001b[39m=\u001b[39;49m \u001b[39mself\u001b[39;49m\u001b[39m.\u001b[39;49mmessages\n\u001b[1;32m     40\u001b[0m     )\n\u001b[1;32m     41\u001b[0m     \u001b[39mself\u001b[39m\u001b[39m.\u001b[39mmessages\u001b[39m.\u001b[39mappend(\n\u001b[1;32m     42\u001b[0m         {\n\u001b[1;32m     43\u001b[0m             \u001b[39m\"\u001b[39m\u001b[39mrole\u001b[39m\u001b[39m\"\u001b[39m: \u001b[39m\"\u001b[39m\u001b[39massistant\u001b[39m\u001b[39m\"\u001b[39m,\n\u001b[1;32m     44\u001b[0m             \u001b[39m\"\u001b[39m\u001b[39mcontent\u001b[39m\u001b[39m\"\u001b[39m: response[\u001b[39m'\u001b[39m\u001b[39mchoices\u001b[39m\u001b[39m'\u001b[39m][\u001b[39m0\u001b[39m][\u001b[39m'\u001b[39m\u001b[39mmessage\u001b[39m\u001b[39m'\u001b[39m][\u001b[39m'\u001b[39m\u001b[39mcontent\u001b[39m\u001b[39m'\u001b[39m]\n\u001b[1;32m     45\u001b[0m         }\n\u001b[1;32m     46\u001b[0m     )\n\u001b[1;32m     47\u001b[0m     \u001b[39mreturn\u001b[39;00m response[\u001b[39m'\u001b[39m\u001b[39mchoices\u001b[39m\u001b[39m'\u001b[39m][\u001b[39m0\u001b[39m][\u001b[39m'\u001b[39m\u001b[39mmessage\u001b[39m\u001b[39m'\u001b[39m][\u001b[39m'\u001b[39m\u001b[39mcontent\u001b[39m\u001b[39m'\u001b[39m]\n",
      "File \u001b[0;32m~/GIT/penpot_protoprompt/env/lib/python3.10/site-packages/openai/api_resources/chat_completion.py:25\u001b[0m, in \u001b[0;36mChatCompletion.create\u001b[0;34m(cls, *args, **kwargs)\u001b[0m\n\u001b[1;32m     23\u001b[0m \u001b[39mwhile\u001b[39;00m \u001b[39mTrue\u001b[39;00m:\n\u001b[1;32m     24\u001b[0m     \u001b[39mtry\u001b[39;00m:\n\u001b[0;32m---> 25\u001b[0m         \u001b[39mreturn\u001b[39;00m \u001b[39msuper\u001b[39;49m()\u001b[39m.\u001b[39;49mcreate(\u001b[39m*\u001b[39;49margs, \u001b[39m*\u001b[39;49m\u001b[39m*\u001b[39;49mkwargs)\n\u001b[1;32m     26\u001b[0m     \u001b[39mexcept\u001b[39;00m TryAgain \u001b[39mas\u001b[39;00m e:\n\u001b[1;32m     27\u001b[0m         \u001b[39mif\u001b[39;00m timeout \u001b[39mis\u001b[39;00m \u001b[39mnot\u001b[39;00m \u001b[39mNone\u001b[39;00m \u001b[39mand\u001b[39;00m time\u001b[39m.\u001b[39mtime() \u001b[39m>\u001b[39m start \u001b[39m+\u001b[39m timeout:\n",
      "File \u001b[0;32m~/GIT/penpot_protoprompt/env/lib/python3.10/site-packages/openai/api_resources/abstract/engine_api_resource.py:153\u001b[0m, in \u001b[0;36mEngineAPIResource.create\u001b[0;34m(cls, api_key, api_base, api_type, request_id, api_version, organization, **params)\u001b[0m\n\u001b[1;32m    127\u001b[0m \u001b[39m@classmethod\u001b[39m\n\u001b[1;32m    128\u001b[0m \u001b[39mdef\u001b[39;00m \u001b[39mcreate\u001b[39m(\n\u001b[1;32m    129\u001b[0m     \u001b[39mcls\u001b[39m,\n\u001b[0;32m   (...)\u001b[0m\n\u001b[1;32m    136\u001b[0m     \u001b[39m*\u001b[39m\u001b[39m*\u001b[39mparams,\n\u001b[1;32m    137\u001b[0m ):\n\u001b[1;32m    138\u001b[0m     (\n\u001b[1;32m    139\u001b[0m         deployment_id,\n\u001b[1;32m    140\u001b[0m         engine,\n\u001b[0;32m   (...)\u001b[0m\n\u001b[1;32m    150\u001b[0m         api_key, api_base, api_type, api_version, organization, \u001b[39m*\u001b[39m\u001b[39m*\u001b[39mparams\n\u001b[1;32m    151\u001b[0m     )\n\u001b[0;32m--> 153\u001b[0m     response, _, api_key \u001b[39m=\u001b[39m requestor\u001b[39m.\u001b[39;49mrequest(\n\u001b[1;32m    154\u001b[0m         \u001b[39m\"\u001b[39;49m\u001b[39mpost\u001b[39;49m\u001b[39m\"\u001b[39;49m,\n\u001b[1;32m    155\u001b[0m         url,\n\u001b[1;32m    156\u001b[0m         params\u001b[39m=\u001b[39;49mparams,\n\u001b[1;32m    157\u001b[0m         headers\u001b[39m=\u001b[39;49mheaders,\n\u001b[1;32m    158\u001b[0m         stream\u001b[39m=\u001b[39;49mstream,\n\u001b[1;32m    159\u001b[0m         request_id\u001b[39m=\u001b[39;49mrequest_id,\n\u001b[1;32m    160\u001b[0m         request_timeout\u001b[39m=\u001b[39;49mrequest_timeout,\n\u001b[1;32m    161\u001b[0m     )\n\u001b[1;32m    163\u001b[0m     \u001b[39mif\u001b[39;00m stream:\n\u001b[1;32m    164\u001b[0m         \u001b[39m# must be an iterator\u001b[39;00m\n\u001b[1;32m    165\u001b[0m         \u001b[39massert\u001b[39;00m \u001b[39mnot\u001b[39;00m \u001b[39misinstance\u001b[39m(response, OpenAIResponse)\n",
      "File \u001b[0;32m~/GIT/penpot_protoprompt/env/lib/python3.10/site-packages/openai/api_requestor.py:216\u001b[0m, in \u001b[0;36mAPIRequestor.request\u001b[0;34m(self, method, url, params, headers, files, stream, request_id, request_timeout)\u001b[0m\n\u001b[1;32m    205\u001b[0m \u001b[39mdef\u001b[39;00m \u001b[39mrequest\u001b[39m(\n\u001b[1;32m    206\u001b[0m     \u001b[39mself\u001b[39m,\n\u001b[1;32m    207\u001b[0m     method,\n\u001b[0;32m   (...)\u001b[0m\n\u001b[1;32m    214\u001b[0m     request_timeout: Optional[Union[\u001b[39mfloat\u001b[39m, Tuple[\u001b[39mfloat\u001b[39m, \u001b[39mfloat\u001b[39m]]] \u001b[39m=\u001b[39m \u001b[39mNone\u001b[39;00m,\n\u001b[1;32m    215\u001b[0m ) \u001b[39m-\u001b[39m\u001b[39m>\u001b[39m Tuple[Union[OpenAIResponse, Iterator[OpenAIResponse]], \u001b[39mbool\u001b[39m, \u001b[39mstr\u001b[39m]:\n\u001b[0;32m--> 216\u001b[0m     result \u001b[39m=\u001b[39m \u001b[39mself\u001b[39;49m\u001b[39m.\u001b[39;49mrequest_raw(\n\u001b[1;32m    217\u001b[0m         method\u001b[39m.\u001b[39;49mlower(),\n\u001b[1;32m    218\u001b[0m         url,\n\u001b[1;32m    219\u001b[0m         params\u001b[39m=\u001b[39;49mparams,\n\u001b[1;32m    220\u001b[0m         supplied_headers\u001b[39m=\u001b[39;49mheaders,\n\u001b[1;32m    221\u001b[0m         files\u001b[39m=\u001b[39;49mfiles,\n\u001b[1;32m    222\u001b[0m         stream\u001b[39m=\u001b[39;49mstream,\n\u001b[1;32m    223\u001b[0m         request_id\u001b[39m=\u001b[39;49mrequest_id,\n\u001b[1;32m    224\u001b[0m         request_timeout\u001b[39m=\u001b[39;49mrequest_timeout,\n\u001b[1;32m    225\u001b[0m     )\n\u001b[1;32m    226\u001b[0m     resp, got_stream \u001b[39m=\u001b[39m \u001b[39mself\u001b[39m\u001b[39m.\u001b[39m_interpret_response(result, stream)\n\u001b[1;32m    227\u001b[0m     \u001b[39mreturn\u001b[39;00m resp, got_stream, \u001b[39mself\u001b[39m\u001b[39m.\u001b[39mapi_key\n",
      "File \u001b[0;32m~/GIT/penpot_protoprompt/env/lib/python3.10/site-packages/openai/api_requestor.py:516\u001b[0m, in \u001b[0;36mAPIRequestor.request_raw\u001b[0;34m(self, method, url, params, supplied_headers, files, stream, request_id, request_timeout)\u001b[0m\n\u001b[1;32m    514\u001b[0m     _thread_context\u001b[39m.\u001b[39msession \u001b[39m=\u001b[39m _make_session()\n\u001b[1;32m    515\u001b[0m \u001b[39mtry\u001b[39;00m:\n\u001b[0;32m--> 516\u001b[0m     result \u001b[39m=\u001b[39m _thread_context\u001b[39m.\u001b[39;49msession\u001b[39m.\u001b[39;49mrequest(\n\u001b[1;32m    517\u001b[0m         method,\n\u001b[1;32m    518\u001b[0m         abs_url,\n\u001b[1;32m    519\u001b[0m         headers\u001b[39m=\u001b[39;49mheaders,\n\u001b[1;32m    520\u001b[0m         data\u001b[39m=\u001b[39;49mdata,\n\u001b[1;32m    521\u001b[0m         files\u001b[39m=\u001b[39;49mfiles,\n\u001b[1;32m    522\u001b[0m         stream\u001b[39m=\u001b[39;49mstream,\n\u001b[1;32m    523\u001b[0m         timeout\u001b[39m=\u001b[39;49mrequest_timeout \u001b[39mif\u001b[39;49;00m request_timeout \u001b[39melse\u001b[39;49;00m TIMEOUT_SECS,\n\u001b[1;32m    524\u001b[0m         proxies\u001b[39m=\u001b[39;49m_thread_context\u001b[39m.\u001b[39;49msession\u001b[39m.\u001b[39;49mproxies,\n\u001b[1;32m    525\u001b[0m     )\n\u001b[1;32m    526\u001b[0m \u001b[39mexcept\u001b[39;00m requests\u001b[39m.\u001b[39mexceptions\u001b[39m.\u001b[39mTimeout \u001b[39mas\u001b[39;00m e:\n\u001b[1;32m    527\u001b[0m     \u001b[39mraise\u001b[39;00m error\u001b[39m.\u001b[39mTimeout(\u001b[39m\"\u001b[39m\u001b[39mRequest timed out: \u001b[39m\u001b[39m{}\u001b[39;00m\u001b[39m\"\u001b[39m\u001b[39m.\u001b[39mformat(e)) \u001b[39mfrom\u001b[39;00m \u001b[39me\u001b[39;00m\n",
      "File \u001b[0;32m~/GIT/penpot_protoprompt/env/lib/python3.10/site-packages/requests/sessions.py:587\u001b[0m, in \u001b[0;36mSession.request\u001b[0;34m(self, method, url, params, data, headers, cookies, files, auth, timeout, allow_redirects, proxies, hooks, stream, verify, cert, json)\u001b[0m\n\u001b[1;32m    582\u001b[0m send_kwargs \u001b[39m=\u001b[39m {\n\u001b[1;32m    583\u001b[0m     \u001b[39m\"\u001b[39m\u001b[39mtimeout\u001b[39m\u001b[39m\"\u001b[39m: timeout,\n\u001b[1;32m    584\u001b[0m     \u001b[39m\"\u001b[39m\u001b[39mallow_redirects\u001b[39m\u001b[39m\"\u001b[39m: allow_redirects,\n\u001b[1;32m    585\u001b[0m }\n\u001b[1;32m    586\u001b[0m send_kwargs\u001b[39m.\u001b[39mupdate(settings)\n\u001b[0;32m--> 587\u001b[0m resp \u001b[39m=\u001b[39m \u001b[39mself\u001b[39;49m\u001b[39m.\u001b[39;49msend(prep, \u001b[39m*\u001b[39;49m\u001b[39m*\u001b[39;49msend_kwargs)\n\u001b[1;32m    589\u001b[0m \u001b[39mreturn\u001b[39;00m resp\n",
      "File \u001b[0;32m~/GIT/penpot_protoprompt/env/lib/python3.10/site-packages/requests/sessions.py:701\u001b[0m, in \u001b[0;36mSession.send\u001b[0;34m(self, request, **kwargs)\u001b[0m\n\u001b[1;32m    698\u001b[0m start \u001b[39m=\u001b[39m preferred_clock()\n\u001b[1;32m    700\u001b[0m \u001b[39m# Send the request\u001b[39;00m\n\u001b[0;32m--> 701\u001b[0m r \u001b[39m=\u001b[39m adapter\u001b[39m.\u001b[39;49msend(request, \u001b[39m*\u001b[39;49m\u001b[39m*\u001b[39;49mkwargs)\n\u001b[1;32m    703\u001b[0m \u001b[39m# Total elapsed time of the request (approximately)\u001b[39;00m\n\u001b[1;32m    704\u001b[0m elapsed \u001b[39m=\u001b[39m preferred_clock() \u001b[39m-\u001b[39m start\n",
      "File \u001b[0;32m~/GIT/penpot_protoprompt/env/lib/python3.10/site-packages/requests/adapters.py:489\u001b[0m, in \u001b[0;36mHTTPAdapter.send\u001b[0;34m(self, request, stream, timeout, verify, cert, proxies)\u001b[0m\n\u001b[1;32m    487\u001b[0m \u001b[39mtry\u001b[39;00m:\n\u001b[1;32m    488\u001b[0m     \u001b[39mif\u001b[39;00m \u001b[39mnot\u001b[39;00m chunked:\n\u001b[0;32m--> 489\u001b[0m         resp \u001b[39m=\u001b[39m conn\u001b[39m.\u001b[39;49murlopen(\n\u001b[1;32m    490\u001b[0m             method\u001b[39m=\u001b[39;49mrequest\u001b[39m.\u001b[39;49mmethod,\n\u001b[1;32m    491\u001b[0m             url\u001b[39m=\u001b[39;49murl,\n\u001b[1;32m    492\u001b[0m             body\u001b[39m=\u001b[39;49mrequest\u001b[39m.\u001b[39;49mbody,\n\u001b[1;32m    493\u001b[0m             headers\u001b[39m=\u001b[39;49mrequest\u001b[39m.\u001b[39;49mheaders,\n\u001b[1;32m    494\u001b[0m             redirect\u001b[39m=\u001b[39;49m\u001b[39mFalse\u001b[39;49;00m,\n\u001b[1;32m    495\u001b[0m             assert_same_host\u001b[39m=\u001b[39;49m\u001b[39mFalse\u001b[39;49;00m,\n\u001b[1;32m    496\u001b[0m             preload_content\u001b[39m=\u001b[39;49m\u001b[39mFalse\u001b[39;49;00m,\n\u001b[1;32m    497\u001b[0m             decode_content\u001b[39m=\u001b[39;49m\u001b[39mFalse\u001b[39;49;00m,\n\u001b[1;32m    498\u001b[0m             retries\u001b[39m=\u001b[39;49m\u001b[39mself\u001b[39;49m\u001b[39m.\u001b[39;49mmax_retries,\n\u001b[1;32m    499\u001b[0m             timeout\u001b[39m=\u001b[39;49mtimeout,\n\u001b[1;32m    500\u001b[0m         )\n\u001b[1;32m    502\u001b[0m     \u001b[39m# Send the request.\u001b[39;00m\n\u001b[1;32m    503\u001b[0m     \u001b[39melse\u001b[39;00m:\n\u001b[1;32m    504\u001b[0m         \u001b[39mif\u001b[39;00m \u001b[39mhasattr\u001b[39m(conn, \u001b[39m\"\u001b[39m\u001b[39mproxy_pool\u001b[39m\u001b[39m\"\u001b[39m):\n",
      "File \u001b[0;32m~/GIT/penpot_protoprompt/env/lib/python3.10/site-packages/urllib3/connectionpool.py:703\u001b[0m, in \u001b[0;36mHTTPConnectionPool.urlopen\u001b[0;34m(self, method, url, body, headers, retries, redirect, assert_same_host, timeout, pool_timeout, release_conn, chunked, body_pos, **response_kw)\u001b[0m\n\u001b[1;32m    700\u001b[0m     \u001b[39mself\u001b[39m\u001b[39m.\u001b[39m_prepare_proxy(conn)\n\u001b[1;32m    702\u001b[0m \u001b[39m# Make the request on the httplib connection object.\u001b[39;00m\n\u001b[0;32m--> 703\u001b[0m httplib_response \u001b[39m=\u001b[39m \u001b[39mself\u001b[39;49m\u001b[39m.\u001b[39;49m_make_request(\n\u001b[1;32m    704\u001b[0m     conn,\n\u001b[1;32m    705\u001b[0m     method,\n\u001b[1;32m    706\u001b[0m     url,\n\u001b[1;32m    707\u001b[0m     timeout\u001b[39m=\u001b[39;49mtimeout_obj,\n\u001b[1;32m    708\u001b[0m     body\u001b[39m=\u001b[39;49mbody,\n\u001b[1;32m    709\u001b[0m     headers\u001b[39m=\u001b[39;49mheaders,\n\u001b[1;32m    710\u001b[0m     chunked\u001b[39m=\u001b[39;49mchunked,\n\u001b[1;32m    711\u001b[0m )\n\u001b[1;32m    713\u001b[0m \u001b[39m# If we're going to release the connection in ``finally:``, then\u001b[39;00m\n\u001b[1;32m    714\u001b[0m \u001b[39m# the response doesn't need to know about the connection. Otherwise\u001b[39;00m\n\u001b[1;32m    715\u001b[0m \u001b[39m# it will also try to release it and we'll have a double-release\u001b[39;00m\n\u001b[1;32m    716\u001b[0m \u001b[39m# mess.\u001b[39;00m\n\u001b[1;32m    717\u001b[0m response_conn \u001b[39m=\u001b[39m conn \u001b[39mif\u001b[39;00m \u001b[39mnot\u001b[39;00m release_conn \u001b[39melse\u001b[39;00m \u001b[39mNone\u001b[39;00m\n",
      "File \u001b[0;32m~/GIT/penpot_protoprompt/env/lib/python3.10/site-packages/urllib3/connectionpool.py:449\u001b[0m, in \u001b[0;36mHTTPConnectionPool._make_request\u001b[0;34m(self, conn, method, url, timeout, chunked, **httplib_request_kw)\u001b[0m\n\u001b[1;32m    444\u001b[0m             httplib_response \u001b[39m=\u001b[39m conn\u001b[39m.\u001b[39mgetresponse()\n\u001b[1;32m    445\u001b[0m         \u001b[39mexcept\u001b[39;00m \u001b[39mBaseException\u001b[39;00m \u001b[39mas\u001b[39;00m e:\n\u001b[1;32m    446\u001b[0m             \u001b[39m# Remove the TypeError from the exception chain in\u001b[39;00m\n\u001b[1;32m    447\u001b[0m             \u001b[39m# Python 3 (including for exceptions like SystemExit).\u001b[39;00m\n\u001b[1;32m    448\u001b[0m             \u001b[39m# Otherwise it looks like a bug in the code.\u001b[39;00m\n\u001b[0;32m--> 449\u001b[0m             six\u001b[39m.\u001b[39;49mraise_from(e, \u001b[39mNone\u001b[39;49;00m)\n\u001b[1;32m    450\u001b[0m \u001b[39mexcept\u001b[39;00m (SocketTimeout, BaseSSLError, SocketError) \u001b[39mas\u001b[39;00m e:\n\u001b[1;32m    451\u001b[0m     \u001b[39mself\u001b[39m\u001b[39m.\u001b[39m_raise_timeout(err\u001b[39m=\u001b[39me, url\u001b[39m=\u001b[39murl, timeout_value\u001b[39m=\u001b[39mread_timeout)\n",
      "File \u001b[0;32m<string>:3\u001b[0m, in \u001b[0;36mraise_from\u001b[0;34m(value, from_value)\u001b[0m\n",
      "File \u001b[0;32m~/GIT/penpot_protoprompt/env/lib/python3.10/site-packages/urllib3/connectionpool.py:444\u001b[0m, in \u001b[0;36mHTTPConnectionPool._make_request\u001b[0;34m(self, conn, method, url, timeout, chunked, **httplib_request_kw)\u001b[0m\n\u001b[1;32m    441\u001b[0m \u001b[39mexcept\u001b[39;00m \u001b[39mTypeError\u001b[39;00m:\n\u001b[1;32m    442\u001b[0m     \u001b[39m# Python 3\u001b[39;00m\n\u001b[1;32m    443\u001b[0m     \u001b[39mtry\u001b[39;00m:\n\u001b[0;32m--> 444\u001b[0m         httplib_response \u001b[39m=\u001b[39m conn\u001b[39m.\u001b[39;49mgetresponse()\n\u001b[1;32m    445\u001b[0m     \u001b[39mexcept\u001b[39;00m \u001b[39mBaseException\u001b[39;00m \u001b[39mas\u001b[39;00m e:\n\u001b[1;32m    446\u001b[0m         \u001b[39m# Remove the TypeError from the exception chain in\u001b[39;00m\n\u001b[1;32m    447\u001b[0m         \u001b[39m# Python 3 (including for exceptions like SystemExit).\u001b[39;00m\n\u001b[1;32m    448\u001b[0m         \u001b[39m# Otherwise it looks like a bug in the code.\u001b[39;00m\n\u001b[1;32m    449\u001b[0m         six\u001b[39m.\u001b[39mraise_from(e, \u001b[39mNone\u001b[39;00m)\n",
      "File \u001b[0;32m/usr/lib/python3.10/http/client.py:1374\u001b[0m, in \u001b[0;36mHTTPConnection.getresponse\u001b[0;34m(self)\u001b[0m\n\u001b[1;32m   1372\u001b[0m \u001b[39mtry\u001b[39;00m:\n\u001b[1;32m   1373\u001b[0m     \u001b[39mtry\u001b[39;00m:\n\u001b[0;32m-> 1374\u001b[0m         response\u001b[39m.\u001b[39;49mbegin()\n\u001b[1;32m   1375\u001b[0m     \u001b[39mexcept\u001b[39;00m \u001b[39mConnectionError\u001b[39;00m:\n\u001b[1;32m   1376\u001b[0m         \u001b[39mself\u001b[39m\u001b[39m.\u001b[39mclose()\n",
      "File \u001b[0;32m/usr/lib/python3.10/http/client.py:318\u001b[0m, in \u001b[0;36mHTTPResponse.begin\u001b[0;34m(self)\u001b[0m\n\u001b[1;32m    316\u001b[0m \u001b[39m# read until we get a non-100 response\u001b[39;00m\n\u001b[1;32m    317\u001b[0m \u001b[39mwhile\u001b[39;00m \u001b[39mTrue\u001b[39;00m:\n\u001b[0;32m--> 318\u001b[0m     version, status, reason \u001b[39m=\u001b[39m \u001b[39mself\u001b[39;49m\u001b[39m.\u001b[39;49m_read_status()\n\u001b[1;32m    319\u001b[0m     \u001b[39mif\u001b[39;00m status \u001b[39m!=\u001b[39m CONTINUE:\n\u001b[1;32m    320\u001b[0m         \u001b[39mbreak\u001b[39;00m\n",
      "File \u001b[0;32m/usr/lib/python3.10/http/client.py:279\u001b[0m, in \u001b[0;36mHTTPResponse._read_status\u001b[0;34m(self)\u001b[0m\n\u001b[1;32m    278\u001b[0m \u001b[39mdef\u001b[39;00m \u001b[39m_read_status\u001b[39m(\u001b[39mself\u001b[39m):\n\u001b[0;32m--> 279\u001b[0m     line \u001b[39m=\u001b[39m \u001b[39mstr\u001b[39m(\u001b[39mself\u001b[39;49m\u001b[39m.\u001b[39;49mfp\u001b[39m.\u001b[39;49mreadline(_MAXLINE \u001b[39m+\u001b[39;49m \u001b[39m1\u001b[39;49m), \u001b[39m\"\u001b[39m\u001b[39miso-8859-1\u001b[39m\u001b[39m\"\u001b[39m)\n\u001b[1;32m    280\u001b[0m     \u001b[39mif\u001b[39;00m \u001b[39mlen\u001b[39m(line) \u001b[39m>\u001b[39m _MAXLINE:\n\u001b[1;32m    281\u001b[0m         \u001b[39mraise\u001b[39;00m LineTooLong(\u001b[39m\"\u001b[39m\u001b[39mstatus line\u001b[39m\u001b[39m\"\u001b[39m)\n",
      "File \u001b[0;32m/usr/lib/python3.10/socket.py:705\u001b[0m, in \u001b[0;36mSocketIO.readinto\u001b[0;34m(self, b)\u001b[0m\n\u001b[1;32m    703\u001b[0m \u001b[39mwhile\u001b[39;00m \u001b[39mTrue\u001b[39;00m:\n\u001b[1;32m    704\u001b[0m     \u001b[39mtry\u001b[39;00m:\n\u001b[0;32m--> 705\u001b[0m         \u001b[39mreturn\u001b[39;00m \u001b[39mself\u001b[39;49m\u001b[39m.\u001b[39;49m_sock\u001b[39m.\u001b[39;49mrecv_into(b)\n\u001b[1;32m    706\u001b[0m     \u001b[39mexcept\u001b[39;00m timeout:\n\u001b[1;32m    707\u001b[0m         \u001b[39mself\u001b[39m\u001b[39m.\u001b[39m_timeout_occurred \u001b[39m=\u001b[39m \u001b[39mTrue\u001b[39;00m\n",
      "File \u001b[0;32m/usr/lib/python3.10/ssl.py:1274\u001b[0m, in \u001b[0;36mSSLSocket.recv_into\u001b[0;34m(self, buffer, nbytes, flags)\u001b[0m\n\u001b[1;32m   1270\u001b[0m     \u001b[39mif\u001b[39;00m flags \u001b[39m!=\u001b[39m \u001b[39m0\u001b[39m:\n\u001b[1;32m   1271\u001b[0m         \u001b[39mraise\u001b[39;00m \u001b[39mValueError\u001b[39;00m(\n\u001b[1;32m   1272\u001b[0m           \u001b[39m\"\u001b[39m\u001b[39mnon-zero flags not allowed in calls to recv_into() on \u001b[39m\u001b[39m%s\u001b[39;00m\u001b[39m\"\u001b[39m \u001b[39m%\u001b[39m\n\u001b[1;32m   1273\u001b[0m           \u001b[39mself\u001b[39m\u001b[39m.\u001b[39m\u001b[39m__class__\u001b[39m)\n\u001b[0;32m-> 1274\u001b[0m     \u001b[39mreturn\u001b[39;00m \u001b[39mself\u001b[39;49m\u001b[39m.\u001b[39;49mread(nbytes, buffer)\n\u001b[1;32m   1275\u001b[0m \u001b[39melse\u001b[39;00m:\n\u001b[1;32m   1276\u001b[0m     \u001b[39mreturn\u001b[39;00m \u001b[39msuper\u001b[39m()\u001b[39m.\u001b[39mrecv_into(buffer, nbytes, flags)\n",
      "File \u001b[0;32m/usr/lib/python3.10/ssl.py:1130\u001b[0m, in \u001b[0;36mSSLSocket.read\u001b[0;34m(self, len, buffer)\u001b[0m\n\u001b[1;32m   1128\u001b[0m \u001b[39mtry\u001b[39;00m:\n\u001b[1;32m   1129\u001b[0m     \u001b[39mif\u001b[39;00m buffer \u001b[39mis\u001b[39;00m \u001b[39mnot\u001b[39;00m \u001b[39mNone\u001b[39;00m:\n\u001b[0;32m-> 1130\u001b[0m         \u001b[39mreturn\u001b[39;00m \u001b[39mself\u001b[39;49m\u001b[39m.\u001b[39;49m_sslobj\u001b[39m.\u001b[39;49mread(\u001b[39mlen\u001b[39;49m, buffer)\n\u001b[1;32m   1131\u001b[0m     \u001b[39melse\u001b[39;00m:\n\u001b[1;32m   1132\u001b[0m         \u001b[39mreturn\u001b[39;00m \u001b[39mself\u001b[39m\u001b[39m.\u001b[39m_sslobj\u001b[39m.\u001b[39mread(\u001b[39mlen\u001b[39m)\n",
      "\u001b[0;31mKeyboardInterrupt\u001b[0m: "
     ]
    }
   ],
   "source": [
    "question = f\"\"\"\n",
    "\n",
    "    This is a SVG file containing four distinct elements: \\n\n",
    "\n",
    "    {svg_original}\n",
    "\n",
    "    As fast as you can, take the above input and reverse the order of those four elements, then generate the resulting output SVG.\n",
    "\"\"\"\n",
    "\n",
    "chatgpt = VanillaChatGPTWrapper(system_prompt)\n",
    "answer = chatgpt.generate(question)\n",
    "print(answer)\n",
    "print(\"Quality check:\", validate_svg(answer), get_svg_size(answer))"
   ]
  },
  {
   "cell_type": "code",
   "execution_count": 55,
   "metadata": {},
   "outputs": [
    {
     "name": "stdout",
     "output_type": "stream",
     "text": [
      "\n",
      "bottom_app_bar_short_optimized.svg:\n",
      "Done in 7 ms!\n",
      "0.08 KiB - \u001b[32m1.2%\u001b[39m = 0.079 KiB\n"
     ]
    },
    {
     "data": {
      "image/svg+xml": [
       "<svg width=\"390\" height=\"80\" fill=\"#00f\"><rect width=\"100%\" height=\"100%\"/></svg>"
      ],
      "text/plain": [
       "<IPython.core.display.SVG object>"
      ]
     },
     "metadata": {},
     "output_type": "display_data"
    }
   ],
   "source": [
    "save_gpt_answer_as_svg(answer, FILENAME)\n",
    "show_svg(f'../generated_data/{FILENAME}_optimized.svg')"
   ]
  },
  {
   "cell_type": "code",
   "execution_count": 18,
   "metadata": {},
   "outputs": [],
   "source": [
    "results_table.add_data(\n",
    "    *[\n",
    "        system_prompt, question, wandb.Html(f'../data/svgs/{FILENAME}_optimized.svg'),\n",
    "        wandb.Html(f'../generated_data/{FILENAME}_optimized.svg'),\n",
    "        svg_original, answer,\n",
    "        validate_svg(answer), get_svg_size(answer)\n",
    "    ]\n",
    ")"
   ]
  },
  {
   "attachments": {},
   "cell_type": "markdown",
   "metadata": {},
   "source": [
    "## Case 2: filled button\n",
    "### Case 2.1: generate other buttons"
   ]
  },
  {
   "cell_type": "code",
   "execution_count": 14,
   "metadata": {},
   "outputs": [
    {
     "name": "stdout",
     "output_type": "stream",
     "text": [
      "\n",
      "common_buttons_short_optimized.svg:\n",
      "Done in 29 ms!\n",
      "3.814 KiB - \u001b[32m68.6%\u001b[39m = 1.199 KiB\n"
     ]
    },
    {
     "data": {
      "image/svg+xml": [
       "<svg width=\"127\" height=\"40\" style=\"-webkit-print-color-adjust:exact\" fill=\"none\"><g class=\"fills\"><rect rx=\"0\" ry=\"0\" width=\"126\" height=\"40\" class=\"frame-background\"/></g><g class=\"frame-children\"><defs><clipPath class=\"frame-clip-def frame-clip\" id=\"a\"><rect rx=\"0\" ry=\"0\" width=\"127\" height=\"40\"/></clipPath></defs><g clip-path=\"url(#a)\"><g class=\"fills\"><rect rx=\"0\" ry=\"0\" width=\"127\" height=\"40\" class=\"frame-background\"/></g><g class=\"frame-children\"><rect rx=\"20\" ry=\"20\" width=\"127\" height=\"40\" style=\"opacity:1;fill:#6750a4;fill-opacity:1\" class=\"fills\"/><defs><clipPath class=\"frame-clip-def frame-clip\" id=\"b\"><rect rx=\"0\" ry=\"0\" width=\"127\" height=\"40\"/></clipPath></defs><g clip-path=\"url(#b)\"><g class=\"fills\"><rect rx=\"0\" ry=\"0\" width=\"127\" height=\"40\" class=\"frame-background\"/></g><g class=\"frame-children\"><g class=\"text-container\"><text x=\"24\" y=\"27.852\" dominant-baseline=\"ideographic\" textLength=\"78.922\" lengthAdjust=\"spacingAndGlyphs\" style=\"text-transform:none;font-family:Roboto;letter-spacing:.01px;font-style:normal;font-weight:500;white-space:pre;font-size:14px;text-decoration:none solid #fff;direction:ltr;fill:#fff;fill-opacity:1\" class=\"fills\">Filled Button</text></g></g></g></g></g></g></svg>"
      ],
      "text/plain": [
       "<IPython.core.display.SVG object>"
      ]
     },
     "metadata": {},
     "output_type": "display_data"
    }
   ],
   "source": [
    "FILENAME = \"common_buttons_short\"\n",
    "svg_original = load_raw_svg_optimize_clean(FILENAME)\n",
    "show_svg(f'../data/svgs/{FILENAME}_optimized.svg')"
   ]
  },
  {
   "cell_type": "code",
   "execution_count": 15,
   "metadata": {},
   "outputs": [
    {
     "name": "stdout",
     "output_type": "stream",
     "text": [
      "<svg width=\"127\" height=\"120\" style=\"-webkit-print-color-adjust:exact\" fill=\"none\">\n",
      "  <g class=\"fills\">\n",
      "    <rect rx=\"0\" ry=\"0\" width=\"126\" height=\"40\" class=\"frame-background\"/>\n",
      "  </g>\n",
      "  <g class=\"frame-children\">\n",
      "    <defs>\n",
      "      <clipPath class=\"frame-clip-def frame-clip\" id=\"a\">\n",
      "        <rect rx=\"0\" ry=\"0\" width=\"127\" height=\"40\"/>\n",
      "      </clipPath>\n",
      "    </defs>\n",
      "    <g clip-path=\"url(#a)\">\n",
      "      <g class=\"fills\">\n",
      "        <rect rx=\"0\" ry=\"0\" width=\"127\" height=\"40\" class=\"frame-background\"/>\n",
      "      </g>\n",
      "      <g class=\"frame-children\">\n",
      "        <rect rx=\"20\" ry=\"20\" width=\"127\" height=\"40\" style=\"opacity:1;fill:#6750a4;fill-opacity:1\" class=\"fills\"/>\n",
      "      </g>\n",
      "    </g>\n",
      "  </g>\n",
      "</svg>\n",
      "\n",
      "<svg width=\"127\" height=\"120\" style=\"-webkit-print-color-adjust:exact\" fill=\"none\">\n",
      "  <g class=\"fills\">\n",
      "    <rect rx=\"0\" ry=\"0\" width=\"126\" height=\"40\" class=\"frame-background\"/>\n",
      "  </g>\n",
      "  <g class=\"frame-children\">\n",
      "    <defs>\n",
      "      <clipPath class=\"frame-clip-def frame-clip\" id=\"a\">\n",
      "        <rect rx=\"0\" ry=\"0\" width=\"127\" height=\"40\"/>\n",
      "      </clipPath>\n",
      "    </defs>\n",
      "    <g clip-path=\"url(#a)\">\n",
      "      <g class=\"fills\">\n",
      "        <rect rx=\"0\" ry=\"0\" width=\"127\" height=\"40\" class=\"frame-background\"/>\n",
      "      </g>\n",
      "      <g class=\"frame-children\">\n",
      "        <rect rx=\"20\" ry=\"20\" width=\"127\" height=\"40\" style=\"opacity:1;fill:#fff;fill-opacity:0;stroke:#6750a4;stroke-width:2\" class=\"fills\"/>\n",
      "      </g>\n",
      "    </g>\n",
      "  </g>\n",
      "</svg>\n",
      "\n",
      "<svg width=\"127\" height=\"120\" style=\"-webkit-print-color-adjust:exact\" fill=\"none\">\n",
      "  <g class=\"fills\">\n",
      "    <rect rx=\"0\" ry=\"0\" width=\"126\" height=\"40\" class=\"frame-background\"/>\n",
      "  </g>\n",
      "  <g class=\"frame-children\">\n",
      "    <defs>\n",
      "      <clipPath class=\"frame-clip-def frame-clip\" id=\"a\">\n",
      "        <rect rx=\"0\" ry=\"0\" width=\"127\" height=\"40\"/>\n",
      "      </clipPath>\n",
      "    </defs>\n",
      "    <g clip-path=\"url(#a)\">\n",
      "      <g class=\"fills\">\n",
      "        <rect rx=\"0\" ry=\"0\" width=\"127\" height=\"40\" class=\"frame-background\"/>\n",
      "      </g>\n",
      "      <g class=\"frame-children\">\n",
      "        <rect rx=\"20\" ry=\"20\" width=\"127\" height=\"40\" style=\"opacity:1;fill:#fff;fill-opacity:0;stroke:#6750a4;stroke-width:2\" class=\"fills\"/>\n",
      "        <g class=\"text-container\">\n",
      "          <text x=\"24\" y=\"27.852\" dominant-baseline=\"ideographic\" textLength=\"78.922\" lengthAdjust=\"spacingAndGlyphs\" style=\"text-transform:none;font-family:Roboto;letter-spacing:.01px;font-style:normal;font-weight:500;white-space:pre;font-size:14px;text-decoration:none solid #6750a4;direction:ltr;fill:#6750a4;fill-opacity:1\" class=\"fills\">Outlined Button</text>\n",
      "        </g>\n",
      "      </g>\n",
      "    </g>\n",
      "  </g>\n",
      "</svg>\n"
     ]
    },
    {
     "ename": "ParseError",
     "evalue": "junk after document element: line 22, column 0 (<string>)",
     "output_type": "error",
     "traceback": [
      "Traceback \u001b[0;36m(most recent call last)\u001b[0m:\n",
      "\u001b[0m  File \u001b[1;32m~/GIT/penpot_protoprompt/env/lib/python3.10/site-packages/IPython/core/interactiveshell.py:3505\u001b[0m in \u001b[1;35mrun_code\u001b[0m\n    exec(code_obj, self.user_global_ns, self.user_ns)\u001b[0m\n",
      "\u001b[0m  Cell \u001b[1;32mIn[15], line 16\u001b[0m\n    print(\"Quality check:\", validate_svg(answer), get_svg_size(answer))\u001b[0m\n",
      "\u001b[0m  File \u001b[1;32m~/GIT/penpot_protoprompt/src/svg_quality_checks.py:14\u001b[0m in \u001b[1;35mget_svg_size\u001b[0m\n    svg_root = ET.fromstring(svg_string)\u001b[0m\n",
      "\u001b[0;36m  File \u001b[0;32m/usr/lib/python3.10/xml/etree/ElementTree.py:1342\u001b[0;36m in \u001b[0;35mXML\u001b[0;36m\n\u001b[0;31m    parser.feed(text)\u001b[0;36m\n",
      "\u001b[0;36m  File \u001b[0;32m<string>\u001b[0;36m\u001b[0m\n\u001b[0;31mParseError\u001b[0m\u001b[0;31m:\u001b[0m junk after document element: line 22, column 0\n"
     ]
    }
   ],
   "source": [
    "question = f\"\"\"\n",
    "    This is XML for the SVG file with a single button filled with color: \\n\n",
    "\n",
    "    {svg_original}\n",
    "\n",
    "    Generate SVG with same button, but variants: filled, elevated and outlined.\n",
    "\n",
    "    Keep it as short and optimized as you can. \n",
    "    Place buttons one under another, adjust the SVG size accordingly.\n",
    "    Start with <svg ... and end with </svg>\n",
    "\"\"\"\n",
    "\n",
    "chatgpt = VanillaChatGPTWrapper(system_prompt)\n",
    "answer = chatgpt.generate(question)\n",
    "print(answer)\n",
    "print(\"Quality check:\", validate_svg(answer), get_svg_size(answer))"
   ]
  },
  {
   "cell_type": "code",
   "execution_count": 12,
   "metadata": {},
   "outputs": [
    {
     "ename": "ParseError",
     "evalue": "unclosed token: line 1, column 3374 (<string>)",
     "output_type": "error",
     "traceback": [
      "Traceback \u001b[0;36m(most recent call last)\u001b[0m:\n",
      "\u001b[0m  File \u001b[1;32m~/GIT/penpot_protoprompt/env/lib/python3.10/site-packages/IPython/core/interactiveshell.py:3505\u001b[0m in \u001b[1;35mrun_code\u001b[0m\n    exec(code_obj, self.user_global_ns, self.user_ns)\u001b[0m\n",
      "\u001b[0m  Cell \u001b[1;32mIn[12], line 1\u001b[0m\n    save_gpt_answer_as_svg(answer, FILENAME)\u001b[0m\n",
      "\u001b[0m  File \u001b[1;32m~/GIT/penpot_protoprompt/src/utils.py:62\u001b[0m in \u001b[1;35msave_gpt_answer_as_svg\u001b[0m\n    svg_short_opt = load_raw_svg_optimize_clean(filename, svg_path = path)\u001b[0m\n",
      "\u001b[0m  File \u001b[1;32m~/GIT/penpot_protoprompt/src/utils.py:46\u001b[0m in \u001b[1;35mload_raw_svg_optimize_clean\u001b[0m\n    remove_style(f\"{svg_path}/{file_name}.svg\", f\"{svg_path}/{file_name}_optimized.svg\")\u001b[0m\n",
      "\u001b[0m  File \u001b[1;32m~/GIT/penpot_protoprompt/src/utils.py:17\u001b[0m in \u001b[1;35mremove_style\u001b[0m\n    svg_root = ET.parse(svg_file_path).getroot()\u001b[0m\n",
      "\u001b[0m  File \u001b[1;32m/usr/lib/python3.10/xml/etree/ElementTree.py:1222\u001b[0m in \u001b[1;35mparse\u001b[0m\n    tree.parse(source, parser)\u001b[0m\n",
      "\u001b[0;36m  File \u001b[0;32m/usr/lib/python3.10/xml/etree/ElementTree.py:580\u001b[0;36m in \u001b[0;35mparse\u001b[0;36m\n\u001b[0;31m    self._root = parser._parse_whole(source)\u001b[0;36m\n",
      "\u001b[0;36m  File \u001b[0;32m<string>\u001b[0;36m\u001b[0m\n\u001b[0;31mParseError\u001b[0m\u001b[0;31m:\u001b[0m unclosed token: line 1, column 3374\n"
     ]
    }
   ],
   "source": [
    "save_gpt_answer_as_svg(answer, FILENAME)\n",
    "show_svg(f'../generated_data/{FILENAME}_optimized.svg')"
   ]
  },
  {
   "cell_type": "code",
   "execution_count": 81,
   "metadata": {},
   "outputs": [
    {
     "ename": "ParseError",
     "evalue": "junk after document element: line 36, column 0 (<string>)",
     "output_type": "error",
     "traceback": [
      "Traceback \u001b[0;36m(most recent call last)\u001b[0m:\n",
      "\u001b[0m  File \u001b[1;32m~/GIT/penpot_protoprompt/env/lib/python3.10/site-packages/IPython/core/interactiveshell.py:3505\u001b[0m in \u001b[1;35mrun_code\u001b[0m\n    exec(code_obj, self.user_global_ns, self.user_ns)\u001b[0m\n",
      "\u001b[0m  Cell \u001b[1;32mIn[81], line 5\u001b[0m\n    validate_svg(answer), get_svg_size(answer)\u001b[0m\n",
      "\u001b[0m  File \u001b[1;32m~/GIT/penpot_protoprompt/src/svg_quality_checks.py:14\u001b[0m in \u001b[1;35mget_svg_size\u001b[0m\n    svg_root = ET.fromstring(svg_string)\u001b[0m\n",
      "\u001b[0;36m  File \u001b[0;32m/usr/lib/python3.10/xml/etree/ElementTree.py:1342\u001b[0;36m in \u001b[0;35mXML\u001b[0;36m\n\u001b[0;31m    parser.feed(text)\u001b[0;36m\n",
      "\u001b[0;36m  File \u001b[0;32m<string>\u001b[0;36m\u001b[0m\n\u001b[0;31mParseError\u001b[0m\u001b[0;31m:\u001b[0m junk after document element: line 36, column 0\n"
     ]
    }
   ],
   "source": [
    "results_table.add_data(\n",
    "    *[\n",
    "        system_prompt, question, wandb.Html(f'../data/svgs/{FILENAME}_optimized.svg'),\n",
    "        wandb.Html(f'../generated_data/{FILENAME}_optimized.svg'),\n",
    "        svg_original, answer,\n",
    "        validate_svg(answer), get_svg_size(answer)\n",
    "    ]\n",
    ")"
   ]
  },
  {
   "attachments": {},
   "cell_type": "markdown",
   "metadata": {},
   "source": [
    "## Case 3: segmented buttons\n",
    "### Case 3.1: make other buttons active one by one"
   ]
  },
  {
   "cell_type": "code",
   "execution_count": 5,
   "metadata": {},
   "outputs": [
    {
     "name": "stdout",
     "output_type": "stream",
     "text": [
      "\n",
      "segmented_buttons_short_optimized.svg:\n",
      "Done in 62 ms!\n",
      "13.162 KiB - \u001b[32m70.3%\u001b[39m = 3.909 KiB\n"
     ]
    },
    {
     "data": {
      "image/svg+xml": [
       "<svg width=\"228\" height=\"48\" style=\"-webkit-print-color-adjust:exact\" fill=\"none\"><defs><clipPath class=\"frame-clip-def frame-clip\" id=\"a\"><rect rx=\"0\" ry=\"0\" width=\"228\" height=\"48\"/></clipPath></defs><g clip-path=\"url(#a)\"><g class=\"fills\"><rect rx=\"0\" ry=\"0\" width=\"228\" height=\"48\" class=\"frame-background\"/></g><g class=\"frame-children\"><defs><clipPath class=\"frame-clip-def frame-clip\" id=\"b\"><rect rx=\"0\" ry=\"0\" x=\"4\" y=\"4\" width=\"220\" height=\"40\"/></clipPath></defs><g clip-path=\"url(#b)\"><g class=\"fills\"><rect rx=\"0\" ry=\"0\" x=\"4\" y=\"4\" width=\"220\" height=\"40\" class=\"frame-background\"/></g><g class=\"frame-children\"><g class=\"fills\"><rect rx=\"0\" ry=\"0\" x=\"151\" y=\"4\" width=\"73\" height=\"40\" class=\"frame-background\"/></g><g class=\"frame-children\"><defs><clipPath class=\"frame-clip-def frame-clip\" id=\"c\"><path d=\"M150 4h54a20 20 0 0 1 20 20 20 20 0 0 1-20 20h-54V4z\"/></clipPath></defs><g clip-path=\"url(#c)\"><g class=\"fills\"><path d=\"M150 4h54a20 20 0 0 1 20 20 20 20 0 0 1-20 20h-54V4z\" class=\"frame-background\"/></g><g class=\"frame-children\"><g class=\"text-container\"><text x=\"162\" y=\"31.852\" dominant-baseline=\"ideographic\" textLength=\"50.219\" lengthAdjust=\"spacingAndGlyphs\" style=\"text-transform:none;font-family:Roboto;letter-spacing:.01px;font-style:normal;font-weight:500;white-space:pre;font-size:14px;text-decoration:none solid #1c1b1f;direction:ltr;fill:#1c1b1f;fill-opacity:1\" class=\"fills\">Enabled</text></g></g></g><g class=\"strokes\"><g class=\"inner-stroke-shape\"><defs><clipPath id=\"e\"><use href=\"#d\"/></clipPath><path d=\"M150 4h54a20 20 0 0 1 20 20 20 20 0 0 1-20 20h-54V4z\" class=\"frame-background\" id=\"d\" style=\"fill:none;stroke-width:2;stroke:#79747e;stroke-opacity:1\"/></defs><use href=\"#d\" clip-path=\"url('#e')\"/></g></g></g><defs><clipPath class=\"frame-clip-def frame-clip\" id=\"f\"><rect rx=\"0\" ry=\"0\" x=\"77\" y=\"4\" width=\"74\" height=\"40\"/></clipPath></defs><g clip-path=\"url(#f)\"><g class=\"fills\"><rect rx=\"0\" ry=\"0\" x=\"77\" y=\"4\" width=\"74\" height=\"40\" class=\"frame-background\"/></g><g class=\"frame-children\"><g class=\"fills\"><rect rx=\"0\" ry=\"0\" x=\"77\" y=\"4\" width=\"74\" height=\"40\" class=\"frame-background\"/></g><g class=\"frame-children\"><g class=\"text-container\"><text x=\"89\" y=\"31.852\" dominant-baseline=\"ideographic\" textLength=\"50.219\" lengthAdjust=\"spacingAndGlyphs\" style=\"text-transform:none;font-family:Roboto;letter-spacing:.01px;font-style:normal;font-weight:500;white-space:pre;font-size:14px;text-decoration:none solid #1c1b1f;direction:ltr;fill:#1c1b1f;fill-opacity:1\" class=\"fills\">Enabled</text></g></g><g class=\"strokes\"><g class=\"inner-stroke-shape\"><defs><clipPath id=\"h\"><use href=\"#g\"/></clipPath><rect width=\"74\" height=\"40\" class=\"frame-background\" x=\"77\" id=\"g\" style=\"fill:none;stroke-width:2;stroke:#79747e;stroke-opacity:1\" ry=\"0\" rx=\"0\" y=\"4\"/></defs><use href=\"#g\" clip-path=\"url('#h')\"/></g></g></g></g><g class=\"fills\"><rect rx=\"0\" ry=\"0\" x=\"4\" y=\"4\" width=\"73\" height=\"40\" class=\"frame-background\"/></g><g class=\"frame-children\"><defs><clipPath class=\"frame-clip-def frame-clip\" id=\"i\"><path d=\"M24 4h54v40H24A20 20 0 0 1 4 24 20 20 0 0 1 24 4z\"/></clipPath></defs><g clip-path=\"url(#i)\"><g class=\"fills\"><path d=\"M24 4h54v40H24A20 20 0 0 1 4 24 20 20 0 0 1 24 4z\" class=\"frame-background\"/></g><g class=\"frame-children\"><g class=\"text-container\"><text x=\"16\" y=\"31.852\" dominant-baseline=\"ideographic\" textLength=\"50.219\" lengthAdjust=\"spacingAndGlyphs\" style=\"text-transform:none;font-family:Roboto;letter-spacing:.01px;font-style:normal;font-weight:500;white-space:pre;font-size:14px;text-decoration:none solid #1c1b1f;direction:ltr;fill:#1c1b1f;fill-opacity:1\" class=\"fills\">Enabled</text></g></g></g><g class=\"strokes\"><g class=\"inner-stroke-shape\"><defs><clipPath id=\"k\"><use href=\"#j\"/></clipPath><path d=\"M24 4h54v40H24A20 20 0 0 1 4 24 20 20 0 0 1 24 4z\" class=\"frame-background\" id=\"j\" style=\"fill:none;stroke-width:2;stroke:#79747e;stroke-opacity:1\"/></defs><use href=\"#j\" clip-path=\"url('#k')\"/></g></g></g></g></g></g></g></svg>"
      ],
      "text/plain": [
       "<IPython.core.display.SVG object>"
      ]
     },
     "metadata": {},
     "output_type": "display_data"
    }
   ],
   "source": [
    "FILENAME = \"segmented_buttons_short\"\n",
    "svg_original = load_raw_svg_optimize_clean(FILENAME)\n",
    "show_svg(f'../data/svgs/{FILENAME}_optimized.svg')"
   ]
  },
  {
   "cell_type": "code",
   "execution_count": 83,
   "metadata": {},
   "outputs": [
    {
     "name": "stdout",
     "output_type": "stream",
     "text": [
      "Quality check: True (228.0, 48.0)\n"
     ]
    }
   ],
   "source": [
    "question = f\"\"\"\n",
    "    This is XML for the SVG file with 3 empty segmented buttons panel: \\n\n",
    "\n",
    "    {svg_original}\n",
    "\n",
    "    Generate SVG with 1 new panel with middle button pressed and active.\n",
    "\n",
    "    Keep it as short and optimized as you can. \n",
    "    Start with <svg ... and end with </svg>\n",
    "\"\"\"\n",
    "\n",
    "chatgpt = VanillaChatGPTWrapper(system_prompt)\n",
    "answer = chatgpt.generate(question)\n",
    "print(\"Quality check:\", validate_svg(answer), get_svg_size(answer))"
   ]
  },
  {
   "cell_type": "code",
   "execution_count": 65,
   "metadata": {},
   "outputs": [
    {
     "ename": "ParseError",
     "evalue": "unclosed token: line 1, column 2656 (<string>)",
     "output_type": "error",
     "traceback": [
      "Traceback \u001b[0;36m(most recent call last)\u001b[0m:\n",
      "\u001b[0m  File \u001b[1;32m~/GIT/penpot_protoprompt/env/lib/python3.10/site-packages/IPython/core/interactiveshell.py:3505\u001b[0m in \u001b[1;35mrun_code\u001b[0m\n    exec(code_obj, self.user_global_ns, self.user_ns)\u001b[0m\n",
      "\u001b[0m  Cell \u001b[1;32mIn[65], line 1\u001b[0m\n    save_gpt_answer_as_svg_and_png(answer, FILENAME)\u001b[0m\n",
      "\u001b[0m  File \u001b[1;32m~/GIT/penpot_protoprompt/src/utils.py:48\u001b[0m in \u001b[1;35msave_gpt_answer_as_svg_and_png\u001b[0m\n    svg_short_opt = load_raw_svg_optimize_clean_save_png(filename, svg_path = path, png_path = path)\u001b[0m\n",
      "\u001b[0m  File \u001b[1;32m~/GIT/penpot_protoprompt/src/utils.py:37\u001b[0m in \u001b[1;35mload_raw_svg_optimize_clean_save_png\u001b[0m\n    remove_style(f\"{svg_path}/{file_name}.svg\", f\"{svg_path}/{file_name}_optimized.svg\")\u001b[0m\n",
      "\u001b[0m  File \u001b[1;32m~/GIT/penpot_protoprompt/src/utils.py:17\u001b[0m in \u001b[1;35mremove_style\u001b[0m\n    svg_root = ET.parse(svg_file_path).getroot()\u001b[0m\n",
      "\u001b[0m  File \u001b[1;32m/usr/lib/python3.10/xml/etree/ElementTree.py:1222\u001b[0m in \u001b[1;35mparse\u001b[0m\n    tree.parse(source, parser)\u001b[0m\n",
      "\u001b[0;36m  File \u001b[0;32m/usr/lib/python3.10/xml/etree/ElementTree.py:580\u001b[0;36m in \u001b[0;35mparse\u001b[0;36m\n\u001b[0;31m    self._root = parser._parse_whole(source)\u001b[0;36m\n",
      "\u001b[0;36m  File \u001b[0;32m<string>\u001b[0;36m\u001b[0m\n\u001b[0;31mParseError\u001b[0m\u001b[0;31m:\u001b[0m unclosed token: line 1, column 2656\n"
     ]
    }
   ],
   "source": [
    "save_gpt_answer_as_svg(answer, FILENAME)\n",
    "show_svg(f'../generated_data/{FILENAME}_optimized.svg')"
   ]
  },
  {
   "cell_type": "code",
   "execution_count": 6,
   "metadata": {},
   "outputs": [
    {
     "ename": "NameError",
     "evalue": "name 'results_table' is not defined",
     "output_type": "error",
     "traceback": [
      "\u001b[0;31m---------------------------------------------------------------------------\u001b[0m",
      "\u001b[0;31mNameError\u001b[0m                                 Traceback (most recent call last)",
      "Cell \u001b[0;32mIn[6], line 1\u001b[0m\n\u001b[0;32m----> 1\u001b[0m results_table\u001b[39m.\u001b[39madd_data(\n\u001b[1;32m      2\u001b[0m     \u001b[39m*\u001b[39m[\n\u001b[1;32m      3\u001b[0m         system_prompt, question, svg_original, answer,\n\u001b[1;32m      4\u001b[0m         validate_svg(answer), get_svg_size(answer)\n\u001b[1;32m      5\u001b[0m     ]\n\u001b[1;32m      6\u001b[0m )\n",
      "\u001b[0;31mNameError\u001b[0m: name 'results_table' is not defined"
     ]
    }
   ],
   "source": [
    "results_table.add_data(\n",
    "    *[\n",
    "        system_prompt, question, wandb.Html(f'../data/svgs/{FILENAME}_optimized.svg'),\n",
    "        wandb.Html(f'../generated_data/{FILENAME}_optimized.svg'),\n",
    "        svg_original, answer,\n",
    "        validate_svg(answer), get_svg_size(answer)\n",
    "    ]\n",
    ")"
   ]
  },
  {
   "attachments": {},
   "cell_type": "markdown",
   "metadata": {},
   "source": [
    "## Case 4: switches\n",
    "### Case 4.1 select elements + change the color palette"
   ]
  },
  {
   "cell_type": "code",
   "execution_count": 7,
   "metadata": {},
   "outputs": [
    {
     "name": "stdout",
     "output_type": "stream",
     "text": [
      "\n",
      "switch_full_optimized.svg:\n",
      "Done in 110 ms!\n",
      "22.691 KiB - \u001b[32m63.9%\u001b[39m = 8.196 KiB\n"
     ]
    },
    {
     "data": {
      "image/svg+xml": [
       "<svg width=\"390\" height=\"240\" style=\"-webkit-print-color-adjust:exact\" fill=\"none\"><defs><clipPath class=\"frame-clip-def frame-clip\" id=\"a\"><rect rx=\"0\" ry=\"0\" width=\"390\" height=\"240\" style=\"fill:#fff;fill-opacity:1\"/></clipPath></defs><g clip-path=\"url(#a)\"><g class=\"fills\"><rect width=\"390\" height=\"240\" class=\"frame-background\" style=\"fill:#fff;fill-opacity:1\" ry=\"0\" rx=\"0\"/></g><g class=\"frame-children\"><g class=\"text-container\"><text x=\"20\" y=\"224\" dominant-baseline=\"ideographic\" textLength=\"104.07\" lengthAdjust=\"spacingAndGlyphs\" style=\"text-transform:none;font-family:Roboto;letter-spacing:.04px;font-style:normal;font-weight:400;white-space:pre;font-size:12px;text-decoration:none solid #000;direction:ltr;fill:#000;fill-opacity:1\" class=\"fills\">Documentation link</text></g><g class=\"fills\"><rect rx=\"0\" ry=\"0\" x=\"318\" y=\"80\" width=\"52\" height=\"32\" class=\"frame-background\"/></g><g class=\"frame-children\"><defs><clipPath class=\"frame-clip-def frame-clip\" id=\"b\"><rect rx=\"16\" ry=\"16\" x=\"318\" y=\"80\" width=\"52\" height=\"32\"/></clipPath></defs><g clip-path=\"url(#b)\"><g class=\"fills\"><rect rx=\"16\" ry=\"16\" x=\"318\" y=\"80\" width=\"52\" height=\"32\" class=\"frame-background\"/></g><g class=\"frame-children\"><g class=\"fills\"><rect width=\"52\" height=\"32\" class=\"frame-background\" x=\"318\" style=\"opacity:.12;fill:#1c1b1f;fill-opacity:1\" ry=\"16\" rx=\"16\" y=\"80\"/></g><g class=\"fills\"><rect rx=\"0\" ry=\"0\" x=\"341\" y=\"84\" width=\"24\" height=\"24\" class=\"frame-background\"/></g><g class=\"frame-children\"><circle cx=\"353\" cy=\"96\" style=\"fill:#fffbfe;fill-opacity:1\" r=\"12\" class=\"fills\"/><g style=\"opacity:.38\"><g style=\"fill:#000\"><path d=\"m351.3 99.9-3.733-3.733.716-.717 3.017 3.017 6.4-6.4.717.716L351.3 99.9Z\" style=\"fill:#1c1b1f;fill-opacity:1\" class=\"fills\"/></g></g></g></g></g></g><g class=\"fills\"><rect rx=\"0\" ry=\"0\" x=\"318\" y=\"20\" width=\"52\" height=\"32\" class=\"frame-background\"/></g><g class=\"frame-children\"><defs><clipPath class=\"frame-clip-def frame-clip\" id=\"c\"><rect rx=\"16\" ry=\"16\" x=\"318\" y=\"20\" width=\"52\" height=\"32\"/></clipPath></defs><g clip-path=\"url(#c)\"><g class=\"fills\"><rect rx=\"16\" ry=\"16\" x=\"318\" y=\"20\" width=\"52\" height=\"32\" class=\"frame-background\"/></g><g class=\"frame-children\"><g class=\"fills\"><rect width=\"52\" height=\"32\" class=\"frame-background\" x=\"318\" style=\"fill:#6750a4;fill-opacity:1\" ry=\"16\" rx=\"16\" y=\"20\"/></g><g class=\"fills\"><rect rx=\"0\" ry=\"0\" x=\"341\" y=\"24\" width=\"24\" height=\"24\" class=\"frame-background\"/></g><g class=\"frame-children\"><circle cx=\"353\" cy=\"36\" style=\"fill:#fff;fill-opacity:1\" r=\"12\" class=\"fills\"/><g style=\"fill:#000\"><path d=\"m351.3 39.9-3.733-3.733.716-.717 3.017 3.017 6.4-6.4.717.716L351.3 39.9Z\" style=\"fill:#21005e;fill-opacity:1\" class=\"fills\"/></g></g></g></g></g><g class=\"fills\"><rect rx=\"0\" ry=\"0\" x=\"238\" y=\"80\" width=\"52\" height=\"32\" class=\"frame-background\"/></g><g class=\"frame-children\"><defs><clipPath class=\"frame-clip-def frame-clip\" id=\"d\"><rect rx=\"0\" ry=\"0\" x=\"238\" y=\"80\" width=\"52\" height=\"32\"/></clipPath></defs><g clip-path=\"url(#d)\"><g class=\"fills\"><rect rx=\"0\" ry=\"0\" x=\"238\" y=\"80\" width=\"52\" height=\"32\" class=\"frame-background\"/></g><g class=\"frame-children\"><g class=\"fills\"><rect width=\"52\" height=\"32\" class=\"frame-background\" x=\"238\" style=\"opacity:.12;fill:#e7e0ec;fill-opacity:1\" ry=\"16\" rx=\"16\" y=\"80\"/></g><g class=\"strokes\"><g class=\"inner-stroke-shape\"><defs><clipPath id=\"f\"><use href=\"#e\"/></clipPath><rect width=\"52\" height=\"32\" class=\"frame-background\" x=\"238\" id=\"e\" style=\"opacity:.12;fill:none;stroke-width:4;stroke:#1c1b1f;stroke-opacity:1\" ry=\"16\" rx=\"16\" y=\"80\"/></defs><use href=\"#e\" clip-path=\"url('#f')\"/></g></g><g class=\"fills\"><rect rx=\"0\" ry=\"0\" x=\"243\" y=\"84\" width=\"24\" height=\"24\" class=\"frame-background\"/></g><g class=\"frame-children\"><circle cx=\"255\" cy=\"96\" style=\"opacity:.38;fill:#1c1b1f;fill-opacity:1\" r=\"12\" class=\"fills\"/><g style=\"opacity:.38\"><g style=\"fill:#000\"><path d=\"m251.15 100.55-.7-.7L254.3 96l-3.85-3.85.7-.7L255 95.3l3.85-3.85.7.7L255.7 96l3.85 3.85-.7.7L255 96.7l-3.85 3.85Z\" style=\"fill:#e7e0ec;fill-opacity:1\" class=\"fills\"/></g></g></g></g></g></g><g class=\"fills\"><rect rx=\"0\" ry=\"0\" x=\"238\" y=\"20\" width=\"52\" height=\"32\" class=\"frame-background\"/></g><g class=\"frame-children\"><defs><clipPath class=\"frame-clip-def frame-clip\" id=\"g\"><rect rx=\"0\" ry=\"0\" x=\"238\" y=\"20\" width=\"52\" height=\"32\"/></clipPath></defs><g clip-path=\"url(#g)\"><g class=\"fills\"><rect rx=\"0\" ry=\"0\" x=\"238\" y=\"20\" width=\"52\" height=\"32\" class=\"frame-background\"/></g><g class=\"frame-children\"><g class=\"fills\"><rect width=\"52\" height=\"32\" class=\"frame-background\" x=\"238\" style=\"fill:#e7e0ec;fill-opacity:1\" ry=\"16\" rx=\"16\" y=\"20\"/></g><g class=\"strokes\"><g class=\"inner-stroke-shape\"><defs><clipPath id=\"i\"><use href=\"#h\"/></clipPath><rect width=\"52\" height=\"32\" class=\"frame-background\" x=\"238\" id=\"h\" style=\"fill:none;stroke-width:4;stroke:#79747e;stroke-opacity:1\" ry=\"16\" rx=\"16\" y=\"20\"/></defs><use href=\"#h\" clip-path=\"url('#i')\"/></g></g><g class=\"fills\"><rect rx=\"0\" ry=\"0\" x=\"243\" y=\"24\" width=\"24\" height=\"24\" class=\"frame-background\"/></g><g class=\"frame-children\"><circle cx=\"255\" cy=\"36\" style=\"fill:#79747e;fill-opacity:1\" r=\"12\" class=\"fills\"/><g style=\"fill:#000\"><path d=\"m251.15 40.55-.7-.7L254.3 36l-3.85-3.85.7-.7L255 35.3l3.85-3.85.7.7L255.7 36l3.85 3.85-.7.7L255 36.7l-3.85 3.85Z\" style=\"fill:#e7e0ec;fill-opacity:1\" class=\"fills\"/></g></g></g></g></g><g class=\"fills\"><rect rx=\"0\" ry=\"0\" x=\"100\" y=\"80\" width=\"52\" height=\"32\" class=\"frame-background\"/></g><g class=\"frame-children\"><g class=\"fills\"><rect rx=\"0\" ry=\"0\" x=\"100\" y=\"80\" width=\"52\" height=\"32\" class=\"frame-background\"/></g><g class=\"frame-children\"><g class=\"fills\"><rect width=\"52\" height=\"32\" class=\"frame-background\" x=\"100\" style=\"opacity:.12;fill:#1c1b1f;fill-opacity:1\" ry=\"16\" rx=\"16\" y=\"80\"/></g><circle cx=\"135\" cy=\"96\" style=\"fill:#fffbfe;fill-opacity:1\" r=\"12\" class=\"fills\"/></g></g><g class=\"fills\"><rect rx=\"0\" ry=\"0\" x=\"100\" y=\"20\" width=\"52\" height=\"32\" class=\"frame-background\"/></g><g class=\"frame-children\"><defs><clipPath class=\"frame-clip-def frame-clip\" id=\"j\"><rect rx=\"0\" ry=\"0\" x=\"100\" y=\"20\" width=\"52\" height=\"32\"/></clipPath></defs><g clip-path=\"url(#j)\"><g class=\"fills\"><rect rx=\"0\" ry=\"0\" x=\"100\" y=\"20\" width=\"52\" height=\"32\" class=\"frame-background\"/></g><g class=\"frame-children\"><g class=\"fills\"><rect width=\"52\" height=\"32\" class=\"frame-background\" x=\"100\" style=\"fill:#6750a4;fill-opacity:1\" ry=\"16\" rx=\"16\" y=\"20\"/></g><circle cx=\"135\" cy=\"36\" style=\"fill:#fff;fill-opacity:1\" r=\"12\" class=\"fills\"/></g></g></g><g class=\"fills\"><rect rx=\"0\" ry=\"0\" x=\"20\" y=\"80\" width=\"52\" height=\"32\" class=\"frame-background\"/></g><g class=\"frame-children\"><g class=\"fills\"><rect width=\"52\" height=\"32\" class=\"frame-background\" x=\"20\" style=\"opacity:1\" ry=\"16\" rx=\"16\" y=\"80\"/></g><g class=\"frame-children\"><g class=\"fills\"><rect width=\"52\" height=\"32\" class=\"frame-background\" x=\"20\" style=\"opacity:.12;fill:#e7e0ec;fill-opacity:1\" ry=\"16\" rx=\"16\" y=\"80\"/></g><g class=\"strokes\"><g class=\"inner-stroke-shape\"><defs><clipPath id=\"l\"><use href=\"#k\"/></clipPath><rect width=\"52\" height=\"32\" class=\"frame-background\" x=\"20\" id=\"k\" style=\"opacity:.12;fill:none;stroke-width:4;stroke:#1c1b1f;stroke-opacity:1\" ry=\"16\" rx=\"16\" y=\"80\"/></defs><use href=\"#k\" clip-path=\"url('#l')\"/></g></g><circle cx=\"35\" cy=\"96\" style=\"opacity:.38;fill:#1c1b1f;fill-opacity:1\" r=\"8\" class=\"fills\"/></g></g><g class=\"fills\"><rect rx=\"0\" ry=\"0\" x=\"20\" y=\"20\" width=\"52\" height=\"32\" class=\"frame-background\"/></g><g class=\"frame-children\"><defs><clipPath class=\"frame-clip-def frame-clip\" id=\"m\"><rect rx=\"0\" ry=\"0\" x=\"20\" y=\"20\" width=\"52\" height=\"32\"/></clipPath></defs><g clip-path=\"url(#m)\"><g class=\"fills\"><rect rx=\"0\" ry=\"0\" x=\"20\" y=\"20\" width=\"52\" height=\"32\" class=\"frame-background\"/></g><g class=\"frame-children\"><g class=\"fills\"><rect width=\"52\" height=\"32\" class=\"frame-background\" x=\"20\" style=\"fill:#e7e0ec;fill-opacity:1\" ry=\"16\" rx=\"16\" y=\"20\"/></g><g class=\"strokes\"><g class=\"inner-stroke-shape\"><defs><clipPath id=\"o\"><use href=\"#n\"/></clipPath><rect width=\"52\" height=\"32\" class=\"frame-background\" x=\"20\" id=\"n\" style=\"fill:none;stroke-width:4;stroke:#79747e;stroke-opacity:1\" ry=\"16\" rx=\"16\" y=\"20\"/></defs><use href=\"#n\" clip-path=\"url('#o')\"/></g></g><circle cx=\"35\" cy=\"36\" style=\"fill:#79747e;fill-opacity:1\" r=\"8\" class=\"fills\"/></g></g></g></g></g></svg>"
      ],
      "text/plain": [
       "<IPython.core.display.SVG object>"
      ]
     },
     "metadata": {},
     "output_type": "display_data"
    }
   ],
   "source": [
    "FILENAME = \"switch_full\"\n",
    "svg_original = load_raw_svg_optimize_clean(FILENAME)\n",
    "show_svg(f'../data/svgs/{FILENAME}_optimized.svg')"
   ]
  },
  {
   "cell_type": "code",
   "execution_count": 18,
   "metadata": {},
   "outputs": [
    {
     "name": "stdout",
     "output_type": "stream",
     "text": [
      "Quality check: True (390.0, 240.0)\n"
     ]
    }
   ],
   "source": [
    "question = f\"\"\"\n",
    "    This is XML for the SVG file with switch elements: \\n\n",
    "\n",
    "    {svg_original}\n",
    "\n",
    "    Take only 2 switches.\n",
    "    Generate a new SVG with these switches, with colors changed - they should be shades of green.\n",
    "\n",
    "    Keep it as short and optimized as you can. \n",
    "    Start with <svg ... and end with </svg>\n",
    "\"\"\"\n",
    "\n",
    "chatgpt = VanillaChatGPTWrapper(system_prompt)\n",
    "answer = chatgpt.generate(question)\n",
    "print(\"Quality check:\", validate_svg(answer), get_svg_size(answer))"
   ]
  },
  {
   "cell_type": "code",
   "execution_count": 19,
   "metadata": {},
   "outputs": [
    {
     "name": "stdout",
     "output_type": "stream",
     "text": [
      "\n",
      "switch_full_optimized.svg:\n",
      "Done in 13 ms!\n",
      "0.324 KiB - \u001b[32m16.9%\u001b[39m = 0.27 KiB\n"
     ]
    },
    {
     "data": {
      "image/png": "[encoded data removed]",
      "text/plain": [
       "<IPython.core.display.Image object>"
      ]
     },
     "execution_count": 19,
     "metadata": {
      "image/png": {
       "height": 300,
       "width": 400
      }
     },
     "output_type": "execute_result"
    }
   ],
   "source": [
    "save_gpt_answer_as_svg(answer, FILENAME)\n",
    "show_svg(f'../generated_data/{FILENAME}_optimized.svg')"
   ]
  },
  {
   "cell_type": "code",
   "execution_count": 68,
   "metadata": {},
   "outputs": [
    {
     "ename": "ParseError",
     "evalue": "unclosed token: line 1, column 3388 (<string>)",
     "output_type": "error",
     "traceback": [
      "Traceback \u001b[0;36m(most recent call last)\u001b[0m:\n",
      "\u001b[0m  File \u001b[1;32m~/GIT/penpot_protoprompt/env/lib/python3.10/site-packages/IPython/core/interactiveshell.py:3505\u001b[0m in \u001b[1;35mrun_code\u001b[0m\n    exec(code_obj, self.user_global_ns, self.user_ns)\u001b[0m\n",
      "\u001b[0m  Cell \u001b[1;32mIn[68], line 5\u001b[0m\n    validate_svg(answer), get_svg_size(answer)\u001b[0m\n",
      "\u001b[0m  File \u001b[1;32m~/GIT/penpot_protoprompt/src/svg_quality_checks.py:14\u001b[0m in \u001b[1;35mget_svg_size\u001b[0m\n    svg_root = ET.fromstring(svg_string)\u001b[0m\n",
      "\u001b[0;36m  File \u001b[0;32m/usr/lib/python3.10/xml/etree/ElementTree.py:1343\u001b[0;36m in \u001b[0;35mXML\u001b[0;36m\n\u001b[0;31m    return parser.close()\u001b[0;36m\n",
      "\u001b[0;36m  File \u001b[0;32m<string>\u001b[0;36m\u001b[0m\n\u001b[0;31mParseError\u001b[0m\u001b[0;31m:\u001b[0m unclosed token: line 1, column 3388\n"
     ]
    }
   ],
   "source": [
    "results_table.add_data(\n",
    "    *[\n",
    "        system_prompt, question, wandb.Html(f'../data/svgs/{FILENAME}_optimized.svg'),\n",
    "        wandb.Html(f'../generated_data/{FILENAME}_optimized.svg'),\n",
    "        svg_original, answer,\n",
    "        validate_svg(answer), get_svg_size(answer)\n",
    "    ]\n",
    ")"
   ]
  },
  {
   "attachments": {},
   "cell_type": "markdown",
   "metadata": {},
   "source": [
    "## Publish results to wandb"
   ]
  },
  {
   "cell_type": "code",
   "execution_count": 19,
   "metadata": {},
   "outputs": [],
   "source": [
    "run.log({\"results_table\": results_table})"
   ]
  }
 ],
 "metadata": {
  "kernelspec": {
   "display_name": "Python 3",
   "language": "python",
   "name": "python3"
  },
  "language_info": {
   "codemirror_mode": {
    "name": "ipython",
    "version": 3
   },
   "file_extension": ".py",
   "mimetype": "text/x-python",
   "name": "python",
   "nbconvert_exporter": "python",
   "pygments_lexer": "ipython3",
   "version": "3.10.6"
  },
  "orig_nbformat": 4
 },
 "nbformat": 4,
 "nbformat_minor": 2
}
