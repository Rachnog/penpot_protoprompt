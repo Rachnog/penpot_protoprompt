{
 "cells": [
  {
   "cell_type": "code",
   "execution_count": 15,
   "metadata": {},
   "outputs": [],
   "source": [
    "import openai\n",
    "import yaml\n",
    "import sys, os\n",
    "\n",
    "sys.path.append(os.path.abspath(os.path.join(os.getcwd(), os.pardir)))\n",
    "\n",
    "from src.utils import *\n",
    "\n",
    "# load yaml config\n",
    "with open(\"../config.yml\", \"r\") as f:\n",
    "    config = yaml.safe_load(f)\n",
    "\n",
    "openai.api_key = config[\"OPENAI_KEY\"]"
   ]
  },
  {
   "attachments": {},
   "cell_type": "markdown",
   "metadata": {},
   "source": [
    "## Load, clean and optimize SVGs"
   ]
  },
  {
   "cell_type": "code",
   "execution_count": 16,
   "metadata": {},
   "outputs": [
    {
     "name": "stdout",
     "output_type": "stream",
     "text": [
      "\n",
      "bottom_app_bar_full_optimized.svg:\n",
      "Done in 115 ms!\n",
      "30.955 KiB - 61.7% = 11.857 KiB\n",
      "\n",
      "bottom_app_bar_short_optimized.svg:\n",
      "Done in 63 ms!\n",
      "12.4 KiB - 60.7% = 4.877 KiB\n"
     ]
    }
   ],
   "source": [
    "svg_full = open(\"../data/svgs/bottom_app_bar_full.svg\", \"r\").read()\n",
    "remove_style(\"../data/svgs/bottom_app_bar_full.svg\", \"../data/svgs/bottom_app_bar_full_optimized.svg\")\n",
    "run_svgoptim(\"../data/svgs/bottom_app_bar_full_optimized.svg\", \"../data/svgs/bottom_app_bar_full_optimized.svg\")\n",
    "svg_full_opt = open(\"../data/svgs/bottom_app_bar_full_optimized.svg\", \"r\").read()\n",
    "\n",
    "svg_short = open(\"../data/svgs/bottom_app_bar_short.svg\", \"r\").read()\n",
    "remove_style(\"../data/svgs/bottom_app_bar_short.svg\", \"../data/svgs/bottom_app_bar_short_optimized.svg\")\n",
    "run_svgoptim(\"../data/svgs/bottom_app_bar_short_optimized.svg\", \"../data/svgs/bottom_app_bar_short_optimized.svg\")\n",
    "svg_short_opt = open(\"../data/svgs/bottom_app_bar_short_optimized.svg\", \"r\").read()"
   ]
  },
  {
   "attachments": {},
   "cell_type": "markdown",
   "metadata": {},
   "source": [
    "## Size and length"
   ]
  },
  {
   "cell_type": "code",
   "execution_count": 17,
   "metadata": {},
   "outputs": [],
   "source": [
    "import tiktoken\n",
    "# visualizing the work of the tokenizer\n",
    "# example https://platform.openai.com/tokenizer\n",
    "encoder = tiktoken.encoding_for_model(\"gpt-3.5-turbo\")"
   ]
  },
  {
   "cell_type": "code",
   "execution_count": 18,
   "metadata": {},
   "outputs": [
    {
     "data": {
      "text/plain": [
       "(162536, 12142, 12750, 4994)"
      ]
     },
     "execution_count": 18,
     "metadata": {},
     "output_type": "execute_result"
    }
   ],
   "source": [
    "len(svg_full), len(svg_full_opt), len(svg_short), len(svg_short_opt)"
   ]
  },
  {
   "cell_type": "code",
   "execution_count": 19,
   "metadata": {},
   "outputs": [
    {
     "data": {
      "text/plain": [
       "(107697, 5679, 6238, 2439)"
      ]
     },
     "execution_count": 19,
     "metadata": {},
     "output_type": "execute_result"
    }
   ],
   "source": [
    "len(encoder.encode(svg_full)), len(encoder.encode(svg_full_opt)), len(encoder.encode(svg_short)), len(encoder.encode(svg_short_opt))"
   ]
  },
  {
   "attachments": {},
   "cell_type": "markdown",
   "metadata": {},
   "source": [
    "## Quality checks"
   ]
  },
  {
   "cell_type": "code",
   "execution_count": 21,
   "metadata": {},
   "outputs": [],
   "source": [
    "from src.svg_quality_checks import *"
   ]
  },
  {
   "cell_type": "code",
   "execution_count": 22,
   "metadata": {},
   "outputs": [
    {
     "name": "stdout",
     "output_type": "stream",
     "text": [
      "True\n",
      "True\n",
      "True\n",
      "True\n"
     ]
    }
   ],
   "source": [
    "print(validate_svg(svg_full))\n",
    "print(validate_svg(svg_full_opt))\n",
    "print(validate_svg(svg_short))\n",
    "print(validate_svg(svg_short_opt))"
   ]
  },
  {
   "cell_type": "code",
   "execution_count": 23,
   "metadata": {},
   "outputs": [
    {
     "name": "stdout",
     "output_type": "stream",
     "text": [
      "(430.0, 300.0)\n",
      "(430.0, 300.0)\n",
      "(390.0, 80.0)\n",
      "(390.0, 80.0)\n"
     ]
    }
   ],
   "source": [
    "print(get_svg_size(svg_full))\n",
    "print(get_svg_size(svg_full_opt))\n",
    "print(get_svg_size(svg_short))\n",
    "print(get_svg_size(svg_short_opt))\n"
   ]
  }
 ],
 "metadata": {
  "kernelspec": {
   "display_name": "Python 3",
   "language": "python",
   "name": "python3"
  },
  "language_info": {
   "codemirror_mode": {
    "name": "ipython",
    "version": 3
   },
   "file_extension": ".py",
   "mimetype": "text/x-python",
   "name": "python",
   "nbconvert_exporter": "python",
   "pygments_lexer": "ipython3",
   "version": "3.9.6"
  },
  "orig_nbformat": 4
 },
 "nbformat": 4,
 "nbformat_minor": 2
}
