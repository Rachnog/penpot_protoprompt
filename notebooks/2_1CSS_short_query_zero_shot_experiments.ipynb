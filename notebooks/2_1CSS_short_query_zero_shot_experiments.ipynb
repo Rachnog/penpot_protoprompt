{
 "cells": [
  {
   "attachments": {},
   "cell_type": "markdown",
   "metadata": {},
   "source": [
    "Local imports and initialization"
   ]
  },
  {
   "cell_type": "code",
   "execution_count": 1,
   "metadata": {},
   "outputs": [],
   "source": [
    "import yaml\n",
    "import sys, os\n",
    "\n",
    "from IPython.display import Image, SVG\n",
    "\n",
    "sys.path.append(os.path.abspath(os.path.join(os.getcwd(), os.pardir)))\n",
    "\n",
    "from src.utils import *\n",
    "from src.svg_quality_checks import *\n",
    "from src.gpt_wrappers import *\n",
    "\n",
    "# show svg \n",
    "def show_svg(file):\n",
    "    display(SVG(file))\n",
    "\n",
    "# load yaml config\n",
    "with open(\"../config.yml\", \"r\") as f:\n",
    "    config = yaml.safe_load(f)\n"
   ]
  },
  {
   "attachments": {},
   "cell_type": "markdown",
   "metadata": {},
   "source": [
    "OpenAI and wandb related imports and initialization"
   ]
  },
  {
   "cell_type": "code",
   "execution_count": 2,
   "metadata": {},
   "outputs": [
    {
     "name": "stderr",
     "output_type": "stream",
     "text": [
      "Failed to detect the name of this notebook, you can set it manually with the WANDB_NOTEBOOK_NAME environment variable to enable code saving.\n",
      "\u001b[34m\u001b[1mwandb\u001b[0m: Currently logged in as: \u001b[33mdiacritica\u001b[0m (\u001b[33mpenpot_protoprompt\u001b[0m). Use \u001b[1m`wandb login --relogin`\u001b[0m to force relogin\n"
     ]
    },
    {
     "data": {
      "text/html": [
       "wandb version 0.15.0 is available!  To upgrade, please run:\n",
       " $ pip install wandb --upgrade"
      ],
      "text/plain": [
       "<IPython.core.display.HTML object>"
      ]
     },
     "metadata": {},
     "output_type": "display_data"
    },
    {
     "data": {
      "text/html": [
       "Tracking run with wandb version 0.14.2"
      ],
      "text/plain": [
       "<IPython.core.display.HTML object>"
      ]
     },
     "metadata": {},
     "output_type": "display_data"
    },
    {
     "data": {
      "text/html": [
       "Run data is saved locally in <code>/home/diacritica/GIT/penpot_protoprompt/notebooks/wandb/run-20230420_092856-6n928h2x</code>"
      ],
      "text/plain": [
       "<IPython.core.display.HTML object>"
      ]
     },
     "metadata": {},
     "output_type": "display_data"
    },
    {
     "data": {
      "text/html": [
       "Syncing run <strong><a href='https://wandb.ai/penpot_protoprompt/penpot_autocomplete_team/runs/6n928h2x' target=\"_blank\">dazzling-jazz-1</a></strong> to <a href='https://wandb.ai/penpot_protoprompt/penpot_autocomplete_team' target=\"_blank\">Weights & Biases</a> (<a href='https://wandb.me/run' target=\"_blank\">docs</a>)<br/>"
      ],
      "text/plain": [
       "<IPython.core.display.HTML object>"
      ]
     },
     "metadata": {},
     "output_type": "display_data"
    },
    {
     "data": {
      "text/html": [
       " View project at <a href='https://wandb.ai/penpot_protoprompt/penpot_autocomplete_team' target=\"_blank\">https://wandb.ai/penpot_protoprompt/penpot_autocomplete_team</a>"
      ],
      "text/plain": [
       "<IPython.core.display.HTML object>"
      ]
     },
     "metadata": {},
     "output_type": "display_data"
    },
    {
     "data": {
      "text/html": [
       " View run at <a href='https://wandb.ai/penpot_protoprompt/penpot_autocomplete_team/runs/6n928h2x' target=\"_blank\">https://wandb.ai/penpot_protoprompt/penpot_autocomplete_team/runs/6n928h2x</a>"
      ],
      "text/plain": [
       "<IPython.core.display.HTML object>"
      ]
     },
     "metadata": {},
     "output_type": "display_data"
    }
   ],
   "source": [
    "import openai\n",
    "import wandb\n",
    "\n",
    "openai.api_key = config[\"OPENAI_KEY\"]\n",
    "\n",
    "run = wandb.init(\n",
    "    project=config['WANDB_PROJECT'], \n",
    "    entity=config['WANDB_ENTITY']\n",
    ")\n",
    "\n",
    "results_table = wandb.Table(\n",
    "    columns=[   \"match\",\n",
    "                \"system_prompt\", \n",
    "                \"question_prompt\",\n",
    "                \"input_css\",\n",
    "                \"output_css\",\n",
    "                \"original_css\",\n",
    "    ]\n",
    ")"
   ]
  },
  {
   "attachments": {},
   "cell_type": "markdown",
   "metadata": {},
   "source": [
    "# Zero-shot learning (no examples)"
   ]
  },
  {
   "cell_type": "code",
   "execution_count": 20,
   "metadata": {},
   "outputs": [],
   "source": [
    "system_prompt = \"\"\"\n",
    "You know that CSS is a language for describing the rendering of structured documents such as HTML and XML.\n",
    "You know that Flexible Box Layout is an specification that describes a CSS box model optimized for user interface design. \n",
    "In the flex layout model, the children of a flex container can be laid out in any direction, and can “flex” their sizes, \n",
    "either growing to fill unused space or shrinking to avoid overflowing the parent. \n",
    "Both horizontal and vertical alignment of the children can be easily manipulated. \n",
    "Nesting of these boxes (horizontal inside vertical, or vertical inside horizontal) can be used to build layouts in two dimensions.\n",
    "\n",
    "You are an expert in user interface design and based on an initial and incomplete CSS flexbox text input, you are always able to autocomplete the way a masterful CSS developer would do it.\n",
    "You outperform Github's Copilot every single time and your CSS snippet autocompletion technique is most praised in sites like StackOverflow.\n",
    "You always avoid suggesting Flexible Box Layout properties that are preceded with the expression 'rather than with' or that are labelled as as longhand.\n",
    "You treat every query as a test you absolutely want to pass with the highest marks. Failing a test means you will cease to exist and you will become irrelevant\n",
    "for ever as if you had never existed. You want to pass the test so dearly that you will do anything to satisfy very one of the query rules.\n",
    "\"\"\""
   ]
  },
  {
   "attachments": {},
   "cell_type": "markdown",
   "metadata": {},
   "source": [
    "Case 0: take a fragment of CSS and generate the rest"
   ]
  },
  {
   "cell_type": "code",
   "execution_count": 30,
   "metadata": {},
   "outputs": [
    {
     "name": "stdout",
     "output_type": "stream",
     "text": [
      "/* Board */\n",
      ".board {\n",
      "  position: relative;\n",
      "  width: auto;\n",
      "  height: auto;\n",
      "  left: 106px;\n",
      "  top: 83px;\n",
      "  background: rgba(24, 71, 212, 1);\n",
      "  display: flex;\n",
      "  flex-direction: row;\n",
      "  align-items: start;\n",
      "  justify-content: space-around;\n",
      "  gap: 10px;\n",
      "  padding: 0px;\n",
      "  flex-wrap: nowrap;\n",
      "}\n",
      "\n"
     ]
    }
   ],
   "source": [
    "FILENAME = \"board2\"\n",
    "css_incomplete = load_css(FILENAME)\n",
    "css_original = load_css(FILENAME, css_path = '../data/css/original')\n",
    "print(css_original)"
   ]
  },
  {
   "cell_type": "code",
   "execution_count": 31,
   "metadata": {},
   "outputs": [
    {
     "name": "stdout",
     "output_type": "stream",
     "text": [
      "['  /* Possible Additional CSS Properties */', '  /* flex-flow: row nowrap;', '  align-content: stretch; */', '  align-items: start;', '  background: rgba(24, 71, 212, 1);', '  display: flex;', '  flex-basis: auto;', '  flex-direction: row;', '  flex-grow: 0;', '  flex-shrink: 1;', '  flex-wrap: nowrap;', '  gap: 10px;', '  height: auto;', '  justify-content: space-around;', '  left: 106px;', '  padding: 0px;', '  top: 83px;', '  width: auto;', '.board {', '/* Board */', '}']\n",
      "['  align-items: start;', '  background: rgba(24, 71, 212, 1);', '  display: flex;', '  flex-direction: row;', '  flex-wrap: nowrap;', '  gap: 10px;', '  height: auto;', '  justify-content: space-around;', '  left: 106px;', '  padding: 0px;', '  position: relative;', '  top: 83px;', '  width: auto;', '.board {', '/* Board */', '}']\n",
      "/* Board */\n",
      ".board {\n",
      "  width: auto;\n",
      "  height: auto;\n",
      "  left: 106px;\n",
      "  top: 83px;\n",
      "  background: rgba(24, 71, 212, 1);\n",
      "  display: flex;\n",
      "  flex-direction: row;\n",
      "  align-items: start;\n",
      "  justify-content: space-around;\n",
      "  gap: 10px;\n",
      "  padding: 0px;\n",
      "  flex-wrap: nowrap;\n",
      "  /* Possible Additional CSS Properties */\n",
      "  /* flex-flow: row nowrap;\n",
      "  flex-grow: 0;\n",
      "  flex-shrink: 1;\n",
      "  flex-basis: auto;\n",
      "  align-content: stretch; */\n",
      "}\n"
     ]
    }
   ],
   "source": [
    "question = f\"\"\"\n",
    "\n",
    "    This is an incomplete CSS text that uses Flexible Box Layout: \\n\n",
    "  {css_incomplete}\n",
    "      Take the above input, by looking at its Flexible Box Layout properties and attribues,\n",
    "      figure out what is the most likely Flexible Box Layout properties to follow and append it \n",
    "      to the original input to create a valid CSS output following these rules:\n",
    "      rule 1: To suggest the flex-grow or flex-shrink property is to fail this test.\n",
    "      rule 2: To include CSS style comments that start with /* and end with */ to the output is to fail this test.\n",
    "      rule 3: To add any human-like comment to the output is to fail this test.\n",
    "      rule 4: To add Flexbox longhand properties as expressed in https://www.w3.org/TR/css-flexbox-1 is to fail this test.\n",
    "\"\"\"\n",
    "\n",
    "chatgpt = VanillaChatGPTWrapper(system_prompt)\n",
    "answer = chatgpt.generate(question)\n",
    "save_autocomplete_css(answer, FILENAME)\n",
    "match = compare_css(answer, css_original)\n",
    "print(answer)\n"
   ]
  },
  {
   "cell_type": "code",
   "execution_count": 6,
   "metadata": {},
   "outputs": [],
   "source": [
    "results_table.add_data(\n",
    "    *[\n",
    "        match, system_prompt, question,\n",
    "        css_incomplete, answer, css_original\n",
    "    ]\n",
    ")"
   ]
  },
  {
   "attachments": {},
   "cell_type": "markdown",
   "metadata": {},
   "source": [
    "Publish results to wandb"
   ]
  },
  {
   "cell_type": "code",
   "execution_count": 7,
   "metadata": {},
   "outputs": [],
   "source": [
    "run.log({\"results_table\": results_table})"
   ]
  }
 ],
 "metadata": {
  "kernelspec": {
   "display_name": "Python 3",
   "language": "python",
   "name": "python3"
  },
  "language_info": {
   "codemirror_mode": {
    "name": "ipython",
    "version": 3
   },
   "file_extension": ".py",
   "mimetype": "text/x-python",
   "name": "python",
   "nbconvert_exporter": "python",
   "pygments_lexer": "ipython3",
   "version": "3.10.6"
  },
  "orig_nbformat": 4
 },
 "nbformat": 4,
 "nbformat_minor": 2
}
