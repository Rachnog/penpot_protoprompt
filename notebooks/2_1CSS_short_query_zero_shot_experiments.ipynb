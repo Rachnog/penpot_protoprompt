{
 "cells": [
  {
   "attachments": {},
   "cell_type": "markdown",
   "metadata": {},
   "source": [
    "Local imports and initialization"
   ]
  },
  {
   "cell_type": "code",
   "execution_count": 8,
   "metadata": {},
   "outputs": [],
   "source": [
    "import yaml\n",
    "import sys, os\n",
    "\n",
    "from IPython.display import Image, SVG\n",
    "\n",
    "sys.path.append(os.path.abspath(os.path.join(os.getcwd(), os.pardir)))\n",
    "\n",
    "from src.utils import *\n",
    "from src.svg_quality_checks import *\n",
    "from src.gpt_wrappers import *\n",
    "\n",
    "# show svg \n",
    "def show_svg(file):\n",
    "    display(SVG(file))\n",
    "\n",
    "# load yaml config\n",
    "with open(\"../config.yml\", \"r\") as f:\n",
    "    config = yaml.safe_load(f)\n"
   ]
  },
  {
   "attachments": {},
   "cell_type": "markdown",
   "metadata": {},
   "source": [
    "OpenAI and wandb related imports and initialization"
   ]
  },
  {
   "cell_type": "code",
   "execution_count": 9,
   "metadata": {},
   "outputs": [
    {
     "data": {
      "text/html": [
       "Finishing last run (ID:4xlqcpsr) before initializing another..."
      ],
      "text/plain": [
       "<IPython.core.display.HTML object>"
      ]
     },
     "metadata": {},
     "output_type": "display_data"
    },
    {
     "data": {
      "text/html": [
       "Waiting for W&B process to finish... <strong style=\"color:green\">(success).</strong>"
      ],
      "text/plain": [
       "<IPython.core.display.HTML object>"
      ]
     },
     "metadata": {},
     "output_type": "display_data"
    },
    {
     "data": {
      "text/html": [
       " View run <strong style=\"color:#cdcd00\">azure-sunset-15</strong> at: <a href='https://wandb.ai/penpot_protoprompt/penpot_autocomplete_css/runs/4xlqcpsr' target=\"_blank\">https://wandb.ai/penpot_protoprompt/penpot_autocomplete_css/runs/4xlqcpsr</a><br/>Synced 5 W&B file(s), 1 media file(s), 1 artifact file(s) and 0 other file(s)"
      ],
      "text/plain": [
       "<IPython.core.display.HTML object>"
      ]
     },
     "metadata": {},
     "output_type": "display_data"
    },
    {
     "data": {
      "text/html": [
       "Find logs at: <code>./wandb/run-20230419_232031-4xlqcpsr/logs</code>"
      ],
      "text/plain": [
       "<IPython.core.display.HTML object>"
      ]
     },
     "metadata": {},
     "output_type": "display_data"
    },
    {
     "data": {
      "text/html": [
       "Successfully finished last run (ID:4xlqcpsr). Initializing new run:<br/>"
      ],
      "text/plain": [
       "<IPython.core.display.HTML object>"
      ]
     },
     "metadata": {},
     "output_type": "display_data"
    },
    {
     "data": {
      "text/html": [
       "Tracking run with wandb version 0.14.2"
      ],
      "text/plain": [
       "<IPython.core.display.HTML object>"
      ]
     },
     "metadata": {},
     "output_type": "display_data"
    },
    {
     "data": {
      "text/html": [
       "Run data is saved locally in <code>/home/diacritica/GIT/penpot_protoprompt/notebooks/wandb/run-20230419_232126-l35zg2la</code>"
      ],
      "text/plain": [
       "<IPython.core.display.HTML object>"
      ]
     },
     "metadata": {},
     "output_type": "display_data"
    },
    {
     "data": {
      "text/html": [
       "Syncing run <strong><a href='https://wandb.ai/penpot_protoprompt/penpot_autocomplete_css/runs/l35zg2la' target=\"_blank\">vital-salad-16</a></strong> to <a href='https://wandb.ai/penpot_protoprompt/penpot_autocomplete_css' target=\"_blank\">Weights & Biases</a> (<a href='https://wandb.me/run' target=\"_blank\">docs</a>)<br/>"
      ],
      "text/plain": [
       "<IPython.core.display.HTML object>"
      ]
     },
     "metadata": {},
     "output_type": "display_data"
    },
    {
     "data": {
      "text/html": [
       " View project at <a href='https://wandb.ai/penpot_protoprompt/penpot_autocomplete_css' target=\"_blank\">https://wandb.ai/penpot_protoprompt/penpot_autocomplete_css</a>"
      ],
      "text/plain": [
       "<IPython.core.display.HTML object>"
      ]
     },
     "metadata": {},
     "output_type": "display_data"
    },
    {
     "data": {
      "text/html": [
       " View run at <a href='https://wandb.ai/penpot_protoprompt/penpot_autocomplete_css/runs/l35zg2la' target=\"_blank\">https://wandb.ai/penpot_protoprompt/penpot_autocomplete_css/runs/l35zg2la</a>"
      ],
      "text/plain": [
       "<IPython.core.display.HTML object>"
      ]
     },
     "metadata": {},
     "output_type": "display_data"
    }
   ],
   "source": [
    "import openai\n",
    "import wandb\n",
    "\n",
    "openai.api_key = config[\"OPENAI_KEY\"]\n",
    "\n",
    "run = wandb.init(\n",
    "    project=config['WANDB_PROJECT'], \n",
    "    entity=config['WANDB_ENTITY']\n",
    ")\n",
    "\n",
    "results_table = wandb.Table(\n",
    "    columns=[   \"match\",\n",
    "                \"system_prompt\", \n",
    "                \"question_prompt\",\n",
    "                \"input_css\",\n",
    "                \"output_css\",\n",
    "                \"original_css\",\n",
    "    ]\n",
    ")"
   ]
  },
  {
   "attachments": {},
   "cell_type": "markdown",
   "metadata": {},
   "source": [
    "# Zero-shot learning (no examples)"
   ]
  },
  {
   "cell_type": "code",
   "execution_count": 10,
   "metadata": {},
   "outputs": [],
   "source": [
    "system_prompt = \"\"\"\n",
    "You know that CSS is a language for describing the rendering of structured documents such as HTML and XML.\n",
    "You know that Flexible Box Layout is an specification that describes a CSS box model optimized for user interface design. \n",
    "In the flex layout model, the children of a flex container can be laid out in any direction, and can “flex” their sizes, \n",
    "either growing to fill unused space or shrinking to avoid overflowing the parent. \n",
    "Both horizontal and vertical alignment of the children can be easily manipulated. \n",
    "Nesting of these boxes (horizontal inside vertical, or vertical inside horizontal) can be used to build layouts in two dimensions.\n",
    "\n",
    "You are an expert in user interface design and based on an initial and incomplete CSS flexbox text input, you are always able to generate the most probable missing part.\n",
    "\"\"\""
   ]
  },
  {
   "attachments": {},
   "cell_type": "markdown",
   "metadata": {},
   "source": [
    "Case 0: take a fragment of CSS and generate the rest"
   ]
  },
  {
   "cell_type": "code",
   "execution_count": 11,
   "metadata": {},
   "outputs": [],
   "source": [
    "FILENAME = \"board2\"\n",
    "css_incomplete = load_css(FILENAME)\n",
    "css_original = load_css(FILENAME, css_path = '../data/css/original')"
   ]
  },
  {
   "cell_type": "code",
   "execution_count": 12,
   "metadata": {},
   "outputs": [
    {
     "name": "stdout",
     "output_type": "stream",
     "text": [
      "['  /* missing property */', '  align-items: start;', '  background: rgba(24, 71, 212, 1);', '  display: flex;', '  flex-direction: row;', '  flex-shrink: 1;', '  flex-wrap: nowrap;', '  gap: 10px;', '  height: auto;', '  justify-content: space-around;', '  left: 106px;', '  padding: 0px;', '  top: 83px;', '  width: auto;', '.board {', '/* Board */', '}']\n",
      "['  align-items: start;', '  background: rgba(24, 71, 212, 1);', '  display: flex;', '  flex-direction: row;', '  flex-wrap: nowrap;', '  gap: 10px;', '  height: auto;', '  justify-content: space-around;', '  left: 106px;', '  padding: 0px;', '  position: relative;', '  top: 83px;', '  width: auto;', '.board {', '/* Board */', '}']\n",
      "/* Board */\n",
      ".board {\n",
      "  width: auto;\n",
      "  height: auto;\n",
      "  left: 106px;\n",
      "  top: 83px;\n",
      "  background: rgba(24, 71, 212, 1);\n",
      "  display: flex;\n",
      "  flex-direction: row;\n",
      "  align-items: start;\n",
      "  justify-content: space-around;\n",
      "  gap: 10px;\n",
      "  padding: 0px;\n",
      "  flex-wrap: nowrap;\n",
      "  /* missing property */\n",
      "  flex-shrink: 1;\n",
      "}\n"
     ]
    }
   ],
   "source": [
    "question = f\"\"\"\n",
    "\n",
    "    This is an incomplete CSS text that uses Flexible Box Layout: \\n\n",
    "  {css_incomplete}\n",
    "      Take the above input, by looking at its Flexible Box Layout properties and attribues, figure out what is the single most likely Flexible Box Layout property to follow and append it to the original input create a valid CSS output.\n",
    "\"\"\"\n",
    "\n",
    "chatgpt = VanillaChatGPTWrapper(system_prompt)\n",
    "answer = chatgpt.generate(question)\n",
    "save_autocomplete_css(answer, FILENAME)\n",
    "match = compare_css(answer, css_original)\n",
    "print(answer)\n"
   ]
  },
  {
   "cell_type": "code",
   "execution_count": 13,
   "metadata": {},
   "outputs": [],
   "source": [
    "results_table.add_data(\n",
    "    *[\n",
    "        match, system_prompt, question,\n",
    "        css_incomplete, answer, css_original\n",
    "    ]\n",
    ")"
   ]
  },
  {
   "attachments": {},
   "cell_type": "markdown",
   "metadata": {},
   "source": [
    "Publish results to wandb"
   ]
  },
  {
   "cell_type": "code",
   "execution_count": 14,
   "metadata": {},
   "outputs": [],
   "source": [
    "run.log({\"results_table\": results_table})"
   ]
  }
 ],
 "metadata": {
  "kernelspec": {
   "display_name": "Python 3",
   "language": "python",
   "name": "python3"
  },
  "language_info": {
   "codemirror_mode": {
    "name": "ipython",
    "version": 3
   },
   "file_extension": ".py",
   "mimetype": "text/x-python",
   "name": "python",
   "nbconvert_exporter": "python",
   "pygments_lexer": "ipython3",
   "version": "3.10.6"
  },
  "orig_nbformat": 4
 },
 "nbformat": 4,
 "nbformat_minor": 2
}
